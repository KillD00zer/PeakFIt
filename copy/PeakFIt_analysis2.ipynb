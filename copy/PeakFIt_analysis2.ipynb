{
 "cells": [
  {
   "cell_type": "markdown",
   "metadata": {},
   "source": [
    "#  Inventory Management Dashboard and Analysis"
   ]
  },
  {
   "cell_type": "markdown",
   "metadata": {},
   "source": [
    "## <mark>1. Read & describe the data "
   ]
  },
  {
   "cell_type": "code",
   "execution_count": 81,
   "metadata": {},
   "outputs": [
    {
     "data": {
      "text/html": [
       "<script type=\"esms-options\">{\"shimMode\": true}</script><style>*[data-root-id],\n",
       "*[data-root-id] > * {\n",
       "  box-sizing: border-box;\n",
       "  font-family: var(--jp-ui-font-family);\n",
       "  font-size: var(--jp-ui-font-size1);\n",
       "  color: var(--vscode-editor-foreground, var(--jp-ui-font-color1));\n",
       "}\n",
       "\n",
       "/* Override VSCode background color */\n",
       ".cell-output-ipywidget-background:has(\n",
       "    > .cell-output-ipywidget-background > .lm-Widget > *[data-root-id]\n",
       "  ),\n",
       ".cell-output-ipywidget-background:has(> .lm-Widget > *[data-root-id]) {\n",
       "  background-color: transparent !important;\n",
       "}\n",
       "</style>"
      ]
     },
     "metadata": {},
     "output_type": "display_data"
    },
    {
     "data": {
      "application/javascript": "(function(root) {\n  function now() {\n    return new Date();\n  }\n\n  const force = true;\n  const py_version = '3.6.3'.replace('rc', '-rc.').replace('.dev', '-dev.');\n  const reloading = false;\n  const Bokeh = root.Bokeh;\n\n  // Set a timeout for this load but only if we are not already initializing\n  if (typeof (root._bokeh_timeout) === \"undefined\" || (force || !root._bokeh_is_initializing)) {\n    root._bokeh_timeout = Date.now() + 5000;\n    root._bokeh_failed_load = false;\n  }\n\n  function run_callbacks() {\n    try {\n      root._bokeh_onload_callbacks.forEach(function(callback) {\n        if (callback != null)\n          callback();\n      });\n    } finally {\n      delete root._bokeh_onload_callbacks;\n    }\n    console.debug(\"Bokeh: all callbacks have finished\");\n  }\n\n  function load_libs(css_urls, js_urls, js_modules, js_exports, callback) {\n    if (css_urls == null) css_urls = [];\n    if (js_urls == null) js_urls = [];\n    if (js_modules == null) js_modules = [];\n    if (js_exports == null) js_exports = {};\n\n    root._bokeh_onload_callbacks.push(callback);\n\n    if (root._bokeh_is_loading > 0) {\n      // Don't load bokeh if it is still initializing\n      console.debug(\"Bokeh: BokehJS is being loaded, scheduling callback at\", now());\n      return null;\n    } else if (js_urls.length === 0 && js_modules.length === 0 && Object.keys(js_exports).length === 0) {\n      // There is nothing to load\n      run_callbacks();\n      return null;\n    }\n\n    function on_load() {\n      root._bokeh_is_loading--;\n      if (root._bokeh_is_loading === 0) {\n        console.debug(\"Bokeh: all BokehJS libraries/stylesheets loaded\");\n        run_callbacks()\n      }\n    }\n    window._bokeh_on_load = on_load\n\n    function on_error(e) {\n      const src_el = e.srcElement\n      console.error(\"failed to load \" + (src_el.href || src_el.src));\n    }\n\n    const skip = [];\n    if (window.requirejs) {\n      window.requirejs.config({'packages': {}, 'paths': {'plotly': 'https://cdn.plot.ly/plotly-3.0.0.min'}, 'shim': {}});\n      require([\"plotly\"], function(Plotly) {\n        window.Plotly = Plotly\n        on_load()\n      })\n      root._bokeh_is_loading = css_urls.length + 1;\n    } else {\n      root._bokeh_is_loading = css_urls.length + js_urls.length + js_modules.length + Object.keys(js_exports).length;\n    }\n\n    const existing_stylesheets = []\n    const links = document.getElementsByTagName('link')\n    for (let i = 0; i < links.length; i++) {\n      const link = links[i]\n      if (link.href != null) {\n        existing_stylesheets.push(link.href)\n      }\n    }\n    for (let i = 0; i < css_urls.length; i++) {\n      const url = css_urls[i];\n      const escaped = encodeURI(url)\n      if (existing_stylesheets.indexOf(escaped) !== -1) {\n        on_load()\n        continue;\n      }\n      const element = document.createElement(\"link\");\n      element.onload = on_load;\n      element.onerror = on_error;\n      element.rel = \"stylesheet\";\n      element.type = \"text/css\";\n      element.href = url;\n      console.debug(\"Bokeh: injecting link tag for BokehJS stylesheet: \", url);\n      document.body.appendChild(element);\n    }    if (((window.Plotly !== undefined) && (!(window.Plotly instanceof HTMLElement))) || window.requirejs) {\n      var urls = [];\n      for (var i = 0; i < urls.length; i++) {\n        skip.push(encodeURI(urls[i]))\n      }\n    }    var existing_scripts = []\n    const scripts = document.getElementsByTagName('script')\n    for (let i = 0; i < scripts.length; i++) {\n      var script = scripts[i]\n      if (script.src != null) {\n        existing_scripts.push(script.src)\n      }\n    }\n    for (let i = 0; i < js_urls.length; i++) {\n      const url = js_urls[i];\n      const escaped = encodeURI(url)\n      if (skip.indexOf(escaped) !== -1 || existing_scripts.indexOf(escaped) !== -1) {\n        if (!window.requirejs) {\n          on_load();\n        }\n        continue;\n      }\n      const element = document.createElement('script');\n      element.onload = on_load;\n      element.onerror = on_error;\n      element.async = false;\n      element.src = url;\n      console.debug(\"Bokeh: injecting script tag for BokehJS library: \", url);\n      document.head.appendChild(element);\n    }\n    for (let i = 0; i < js_modules.length; i++) {\n      const url = js_modules[i];\n      const escaped = encodeURI(url)\n      if (skip.indexOf(escaped) !== -1 || existing_scripts.indexOf(escaped) !== -1) {\n        if (!window.requirejs) {\n          on_load();\n        }\n        continue;\n      }\n      var element = document.createElement('script');\n      element.onload = on_load;\n      element.onerror = on_error;\n      element.async = false;\n      element.src = url;\n      element.type = \"module\";\n      console.debug(\"Bokeh: injecting script tag for BokehJS library: \", url);\n      document.head.appendChild(element);\n    }\n    for (const name in js_exports) {\n      const url = js_exports[name];\n      const escaped = encodeURI(url)\n      if (skip.indexOf(escaped) >= 0 || root[name] != null) {\n        if (!window.requirejs) {\n          on_load();\n        }\n        continue;\n      }\n      var element = document.createElement('script');\n      element.onerror = on_error;\n      element.async = false;\n      element.type = \"module\";\n      console.debug(\"Bokeh: injecting script tag for BokehJS library: \", url);\n      element.textContent = `\n      import ${name} from \"${url}\"\n      window.${name} = ${name}\n      window._bokeh_on_load()\n      `\n      document.head.appendChild(element);\n    }\n    if (!js_urls.length && !js_modules.length) {\n      on_load()\n    }\n  };\n\n  function inject_raw_css(css) {\n    const element = document.createElement(\"style\");\n    element.appendChild(document.createTextNode(css));\n    document.body.appendChild(element);\n  }\n\n  const js_urls = [\"https://cdn.holoviz.org/panel/1.6.1/dist/bundled/reactiveesm/es-module-shims@^1.10.0/dist/es-module-shims.min.js\", \"https://cdn.holoviz.org/panel/1.6.1/dist/bundled/plotlyplot/plotly-3.0.0.min.js\", \"https://cdn.bokeh.org/bokeh/release/bokeh-3.6.3.min.js\", \"https://cdn.bokeh.org/bokeh/release/bokeh-gl-3.6.3.min.js\", \"https://cdn.bokeh.org/bokeh/release/bokeh-widgets-3.6.3.min.js\", \"https://cdn.bokeh.org/bokeh/release/bokeh-tables-3.6.3.min.js\", \"https://cdn.holoviz.org/panel/1.6.1/dist/panel.min.js\"];\n  const js_modules = [];\n  const js_exports = {};\n  const css_urls = [\"https://cdn.holoviz.org/panel/1.6.1/dist/bundled/plotlyplot/maplibre-gl@4.4.1/dist/maplibre-gl.css?v=1.6.1\"];\n  const inline_js = [    function(Bokeh) {\n      Bokeh.set_log_level(\"info\");\n    },\nfunction(Bokeh) {} // ensure no trailing comma for IE\n  ];\n\n  function run_inline_js() {\n    if ((root.Bokeh !== undefined) || (force === true)) {\n      for (let i = 0; i < inline_js.length; i++) {\n        try {\n          inline_js[i].call(root, root.Bokeh);\n        } catch(e) {\n          if (!reloading) {\n            throw e;\n          }\n        }\n      }\n      // Cache old bokeh versions\n      if (Bokeh != undefined && !reloading) {\n        var NewBokeh = root.Bokeh;\n        if (Bokeh.versions === undefined) {\n          Bokeh.versions = new Map();\n        }\n        if (NewBokeh.version !== Bokeh.version) {\n          Bokeh.versions.set(NewBokeh.version, NewBokeh)\n        }\n        root.Bokeh = Bokeh;\n      }\n    } else if (Date.now() < root._bokeh_timeout) {\n      setTimeout(run_inline_js, 100);\n    } else if (!root._bokeh_failed_load) {\n      console.log(\"Bokeh: BokehJS failed to load within specified timeout.\");\n      root._bokeh_failed_load = true;\n    }\n    root._bokeh_is_initializing = false\n  }\n\n  function load_or_wait() {\n    // Implement a backoff loop that tries to ensure we do not load multiple\n    // versions of Bokeh and its dependencies at the same time.\n    // In recent versions we use the root._bokeh_is_initializing flag\n    // to determine whether there is an ongoing attempt to initialize\n    // bokeh, however for backward compatibility we also try to ensure\n    // that we do not start loading a newer (Panel>=1.0 and Bokeh>3) version\n    // before older versions are fully initialized.\n    if (root._bokeh_is_initializing && Date.now() > root._bokeh_timeout) {\n      // If the timeout and bokeh was not successfully loaded we reset\n      // everything and try loading again\n      root._bokeh_timeout = Date.now() + 5000;\n      root._bokeh_is_initializing = false;\n      root._bokeh_onload_callbacks = undefined;\n      root._bokeh_is_loading = 0\n      console.log(\"Bokeh: BokehJS was loaded multiple times but one version failed to initialize.\");\n      load_or_wait();\n    } else if (root._bokeh_is_initializing || (typeof root._bokeh_is_initializing === \"undefined\" && root._bokeh_onload_callbacks !== undefined)) {\n      setTimeout(load_or_wait, 100);\n    } else {\n      root._bokeh_is_initializing = true\n      root._bokeh_onload_callbacks = []\n      const bokeh_loaded = root.Bokeh != null && (root.Bokeh.version === py_version || (root.Bokeh.versions !== undefined && root.Bokeh.versions.has(py_version)));\n      if (!reloading && !bokeh_loaded) {\n        if (root.Bokeh) {\n          root.Bokeh = undefined;\n        }\n        console.debug(\"Bokeh: BokehJS not loaded, scheduling load and callback at\", now());\n      }\n      load_libs(css_urls, js_urls, js_modules, js_exports, function() {\n        console.debug(\"Bokeh: BokehJS plotting callback run at\", now());\n        run_inline_js();\n      });\n    }\n  }\n  // Give older versions of the autoload script a head-start to ensure\n  // they initialize before we start loading newer version.\n  setTimeout(load_or_wait, 100)\n}(window));",
      "application/vnd.holoviews_load.v0+json": ""
     },
     "metadata": {},
     "output_type": "display_data"
    },
    {
     "data": {
      "application/javascript": "\nif ((window.PyViz === undefined) || (window.PyViz instanceof HTMLElement)) {\n  window.PyViz = {comms: {}, comm_status:{}, kernels:{}, receivers: {}, plot_index: []}\n}\n\n\n    function JupyterCommManager() {\n    }\n\n    JupyterCommManager.prototype.register_target = function(plot_id, comm_id, msg_handler) {\n      if (window.comm_manager || ((window.Jupyter !== undefined) && (Jupyter.notebook.kernel != null))) {\n        var comm_manager = window.comm_manager || Jupyter.notebook.kernel.comm_manager;\n        comm_manager.register_target(comm_id, function(comm) {\n          comm.on_msg(msg_handler);\n        });\n      } else if ((plot_id in window.PyViz.kernels) && (window.PyViz.kernels[plot_id])) {\n        window.PyViz.kernels[plot_id].registerCommTarget(comm_id, function(comm) {\n          comm.onMsg = msg_handler;\n        });\n      } else if (typeof google != 'undefined' && google.colab.kernel != null) {\n        google.colab.kernel.comms.registerTarget(comm_id, (comm) => {\n          var messages = comm.messages[Symbol.asyncIterator]();\n          function processIteratorResult(result) {\n            var message = result.value;\n            console.log(message)\n            var content = {data: message.data, comm_id};\n            var buffers = []\n            for (var buffer of message.buffers || []) {\n              buffers.push(new DataView(buffer))\n            }\n            var metadata = message.metadata || {};\n            var msg = {content, buffers, metadata}\n            msg_handler(msg);\n            return messages.next().then(processIteratorResult);\n          }\n          return messages.next().then(processIteratorResult);\n        })\n      }\n    }\n\n    JupyterCommManager.prototype.get_client_comm = function(plot_id, comm_id, msg_handler) {\n      if (comm_id in window.PyViz.comms) {\n        return window.PyViz.comms[comm_id];\n      } else if (window.comm_manager || ((window.Jupyter !== undefined) && (Jupyter.notebook.kernel != null))) {\n        var comm_manager = window.comm_manager || Jupyter.notebook.kernel.comm_manager;\n        var comm = comm_manager.new_comm(comm_id, {}, {}, {}, comm_id);\n        if (msg_handler) {\n          comm.on_msg(msg_handler);\n        }\n      } else if ((plot_id in window.PyViz.kernels) && (window.PyViz.kernels[plot_id])) {\n        var comm = window.PyViz.kernels[plot_id].connectToComm(comm_id);\n        comm.open();\n        if (msg_handler) {\n          comm.onMsg = msg_handler;\n        }\n      } else if (typeof google != 'undefined' && google.colab.kernel != null) {\n        var comm_promise = google.colab.kernel.comms.open(comm_id)\n        comm_promise.then((comm) => {\n          window.PyViz.comms[comm_id] = comm;\n          if (msg_handler) {\n            var messages = comm.messages[Symbol.asyncIterator]();\n            function processIteratorResult(result) {\n              var message = result.value;\n              var content = {data: message.data};\n              var metadata = message.metadata || {comm_id};\n              var msg = {content, metadata}\n              msg_handler(msg);\n              return messages.next().then(processIteratorResult);\n            }\n            return messages.next().then(processIteratorResult);\n          }\n        })\n        var sendClosure = (data, metadata, buffers, disposeOnDone) => {\n          return comm_promise.then((comm) => {\n            comm.send(data, metadata, buffers, disposeOnDone);\n          });\n        };\n        var comm = {\n          send: sendClosure\n        };\n      }\n      window.PyViz.comms[comm_id] = comm;\n      return comm;\n    }\n    window.PyViz.comm_manager = new JupyterCommManager();\n    \n\n\nvar JS_MIME_TYPE = 'application/javascript';\nvar HTML_MIME_TYPE = 'text/html';\nvar EXEC_MIME_TYPE = 'application/vnd.holoviews_exec.v0+json';\nvar CLASS_NAME = 'output';\n\n/**\n * Render data to the DOM node\n */\nfunction render(props, node) {\n  var div = document.createElement(\"div\");\n  var script = document.createElement(\"script\");\n  node.appendChild(div);\n  node.appendChild(script);\n}\n\n/**\n * Handle when a new output is added\n */\nfunction handle_add_output(event, handle) {\n  var output_area = handle.output_area;\n  var output = handle.output;\n  if ((output.data == undefined) || (!output.data.hasOwnProperty(EXEC_MIME_TYPE))) {\n    return\n  }\n  var id = output.metadata[EXEC_MIME_TYPE][\"id\"];\n  var toinsert = output_area.element.find(\".\" + CLASS_NAME.split(' ')[0]);\n  if (id !== undefined) {\n    var nchildren = toinsert.length;\n    var html_node = toinsert[nchildren-1].children[0];\n    html_node.innerHTML = output.data[HTML_MIME_TYPE];\n    var scripts = [];\n    var nodelist = html_node.querySelectorAll(\"script\");\n    for (var i in nodelist) {\n      if (nodelist.hasOwnProperty(i)) {\n        scripts.push(nodelist[i])\n      }\n    }\n\n    scripts.forEach( function (oldScript) {\n      var newScript = document.createElement(\"script\");\n      var attrs = [];\n      var nodemap = oldScript.attributes;\n      for (var j in nodemap) {\n        if (nodemap.hasOwnProperty(j)) {\n          attrs.push(nodemap[j])\n        }\n      }\n      attrs.forEach(function(attr) { newScript.setAttribute(attr.name, attr.value) });\n      newScript.appendChild(document.createTextNode(oldScript.innerHTML));\n      oldScript.parentNode.replaceChild(newScript, oldScript);\n    });\n    if (JS_MIME_TYPE in output.data) {\n      toinsert[nchildren-1].children[1].textContent = output.data[JS_MIME_TYPE];\n    }\n    output_area._hv_plot_id = id;\n    if ((window.Bokeh !== undefined) && (id in Bokeh.index)) {\n      window.PyViz.plot_index[id] = Bokeh.index[id];\n    } else {\n      window.PyViz.plot_index[id] = null;\n    }\n  } else if (output.metadata[EXEC_MIME_TYPE][\"server_id\"] !== undefined) {\n    var bk_div = document.createElement(\"div\");\n    bk_div.innerHTML = output.data[HTML_MIME_TYPE];\n    var script_attrs = bk_div.children[0].attributes;\n    for (var i = 0; i < script_attrs.length; i++) {\n      toinsert[toinsert.length - 1].childNodes[1].setAttribute(script_attrs[i].name, script_attrs[i].value);\n    }\n    // store reference to server id on output_area\n    output_area._bokeh_server_id = output.metadata[EXEC_MIME_TYPE][\"server_id\"];\n  }\n}\n\n/**\n * Handle when an output is cleared or removed\n */\nfunction handle_clear_output(event, handle) {\n  var id = handle.cell.output_area._hv_plot_id;\n  var server_id = handle.cell.output_area._bokeh_server_id;\n  if (((id === undefined) || !(id in PyViz.plot_index)) && (server_id !== undefined)) { return; }\n  var comm = window.PyViz.comm_manager.get_client_comm(\"hv-extension-comm\", \"hv-extension-comm\", function () {});\n  if (server_id !== null) {\n    comm.send({event_type: 'server_delete', 'id': server_id});\n    return;\n  } else if (comm !== null) {\n    comm.send({event_type: 'delete', 'id': id});\n  }\n  delete PyViz.plot_index[id];\n  if ((window.Bokeh !== undefined) & (id in window.Bokeh.index)) {\n    var doc = window.Bokeh.index[id].model.document\n    doc.clear();\n    const i = window.Bokeh.documents.indexOf(doc);\n    if (i > -1) {\n      window.Bokeh.documents.splice(i, 1);\n    }\n  }\n}\n\n/**\n * Handle kernel restart event\n */\nfunction handle_kernel_cleanup(event, handle) {\n  delete PyViz.comms[\"hv-extension-comm\"];\n  window.PyViz.plot_index = {}\n}\n\n/**\n * Handle update_display_data messages\n */\nfunction handle_update_output(event, handle) {\n  handle_clear_output(event, {cell: {output_area: handle.output_area}})\n  handle_add_output(event, handle)\n}\n\nfunction register_renderer(events, OutputArea) {\n  function append_mime(data, metadata, element) {\n    // create a DOM node to render to\n    var toinsert = this.create_output_subarea(\n    metadata,\n    CLASS_NAME,\n    EXEC_MIME_TYPE\n    );\n    this.keyboard_manager.register_events(toinsert);\n    // Render to node\n    var props = {data: data, metadata: metadata[EXEC_MIME_TYPE]};\n    render(props, toinsert[0]);\n    element.append(toinsert);\n    return toinsert\n  }\n\n  events.on('output_added.OutputArea', handle_add_output);\n  events.on('output_updated.OutputArea', handle_update_output);\n  events.on('clear_output.CodeCell', handle_clear_output);\n  events.on('delete.Cell', handle_clear_output);\n  events.on('kernel_ready.Kernel', handle_kernel_cleanup);\n\n  OutputArea.prototype.register_mime_type(EXEC_MIME_TYPE, append_mime, {\n    safe: true,\n    index: 0\n  });\n}\n\nif (window.Jupyter !== undefined) {\n  try {\n    var events = require('base/js/events');\n    var OutputArea = require('notebook/js/outputarea').OutputArea;\n    if (OutputArea.prototype.mime_types().indexOf(EXEC_MIME_TYPE) == -1) {\n      register_renderer(events, OutputArea);\n    }\n  } catch(err) {\n  }\n}\n",
      "application/vnd.holoviews_load.v0+json": ""
     },
     "metadata": {},
     "output_type": "display_data"
    },
    {
     "data": {
      "application/vnd.holoviews_exec.v0+json": "",
      "text/html": [
       "<div id='ab1091ca-8b36-4f77-a0d9-13cec3cd5eda'>\n",
       "  <div id=\"c4a27610-94ae-4df5-859c-207d3a76fadf\" data-root-id=\"ab1091ca-8b36-4f77-a0d9-13cec3cd5eda\" style=\"display: contents;\"></div>\n",
       "</div>\n",
       "<script type=\"application/javascript\">(function(root) {\n",
       "  var docs_json = {\"1de7cce5-b623-4a6b-b1be-3a15c2b323dd\":{\"version\":\"3.6.3\",\"title\":\"Bokeh Application\",\"roots\":[{\"type\":\"object\",\"name\":\"panel.models.browser.BrowserInfo\",\"id\":\"ab1091ca-8b36-4f77-a0d9-13cec3cd5eda\"},{\"type\":\"object\",\"name\":\"panel.models.comm_manager.CommManager\",\"id\":\"ddac17a4-b3f5-4e33-9441-29fc5a27d727\",\"attributes\":{\"plot_id\":\"ab1091ca-8b36-4f77-a0d9-13cec3cd5eda\",\"comm_id\":\"c81e921b93554ff28a10dac31a5595f8\",\"client_comm_id\":\"b3ebc2595e4a4a3fa5fcd27964e104bc\"}}],\"defs\":[{\"type\":\"model\",\"name\":\"ReactiveHTML1\"},{\"type\":\"model\",\"name\":\"FlexBox1\",\"properties\":[{\"name\":\"align_content\",\"kind\":\"Any\",\"default\":\"flex-start\"},{\"name\":\"align_items\",\"kind\":\"Any\",\"default\":\"flex-start\"},{\"name\":\"flex_direction\",\"kind\":\"Any\",\"default\":\"row\"},{\"name\":\"flex_wrap\",\"kind\":\"Any\",\"default\":\"wrap\"},{\"name\":\"gap\",\"kind\":\"Any\",\"default\":\"\"},{\"name\":\"justify_content\",\"kind\":\"Any\",\"default\":\"flex-start\"}]},{\"type\":\"model\",\"name\":\"FloatPanel1\",\"properties\":[{\"name\":\"config\",\"kind\":\"Any\",\"default\":{\"type\":\"map\"}},{\"name\":\"contained\",\"kind\":\"Any\",\"default\":true},{\"name\":\"position\",\"kind\":\"Any\",\"default\":\"right-top\"},{\"name\":\"offsetx\",\"kind\":\"Any\",\"default\":null},{\"name\":\"offsety\",\"kind\":\"Any\",\"default\":null},{\"name\":\"theme\",\"kind\":\"Any\",\"default\":\"primary\"},{\"name\":\"status\",\"kind\":\"Any\",\"default\":\"normalized\"}]},{\"type\":\"model\",\"name\":\"GridStack1\",\"properties\":[{\"name\":\"mode\",\"kind\":\"Any\",\"default\":\"warn\"},{\"name\":\"ncols\",\"kind\":\"Any\",\"default\":null},{\"name\":\"nrows\",\"kind\":\"Any\",\"default\":null},{\"name\":\"allow_resize\",\"kind\":\"Any\",\"default\":true},{\"name\":\"allow_drag\",\"kind\":\"Any\",\"default\":true},{\"name\":\"state\",\"kind\":\"Any\",\"default\":[]}]},{\"type\":\"model\",\"name\":\"drag1\",\"properties\":[{\"name\":\"slider_width\",\"kind\":\"Any\",\"default\":5},{\"name\":\"slider_color\",\"kind\":\"Any\",\"default\":\"black\"},{\"name\":\"value\",\"kind\":\"Any\",\"default\":50}]},{\"type\":\"model\",\"name\":\"click1\",\"properties\":[{\"name\":\"terminal_output\",\"kind\":\"Any\",\"default\":\"\"},{\"name\":\"debug_name\",\"kind\":\"Any\",\"default\":\"\"},{\"name\":\"clears\",\"kind\":\"Any\",\"default\":0}]},{\"type\":\"model\",\"name\":\"FastWrapper1\",\"properties\":[{\"name\":\"object\",\"kind\":\"Any\",\"default\":null},{\"name\":\"style\",\"kind\":\"Any\",\"default\":null}]},{\"type\":\"model\",\"name\":\"NotificationAreaBase1\",\"properties\":[{\"name\":\"js_events\",\"kind\":\"Any\",\"default\":{\"type\":\"map\"}},{\"name\":\"position\",\"kind\":\"Any\",\"default\":\"bottom-right\"},{\"name\":\"_clear\",\"kind\":\"Any\",\"default\":0}]},{\"type\":\"model\",\"name\":\"NotificationArea1\",\"properties\":[{\"name\":\"js_events\",\"kind\":\"Any\",\"default\":{\"type\":\"map\"}},{\"name\":\"notifications\",\"kind\":\"Any\",\"default\":[]},{\"name\":\"position\",\"kind\":\"Any\",\"default\":\"bottom-right\"},{\"name\":\"_clear\",\"kind\":\"Any\",\"default\":0},{\"name\":\"types\",\"kind\":\"Any\",\"default\":[{\"type\":\"map\",\"entries\":[[\"type\",\"warning\"],[\"background\",\"#ffc107\"],[\"icon\",{\"type\":\"map\",\"entries\":[[\"className\",\"fas fa-exclamation-triangle\"],[\"tagName\",\"i\"],[\"color\",\"white\"]]}]]},{\"type\":\"map\",\"entries\":[[\"type\",\"info\"],[\"background\",\"#007bff\"],[\"icon\",{\"type\":\"map\",\"entries\":[[\"className\",\"fas fa-info-circle\"],[\"tagName\",\"i\"],[\"color\",\"white\"]]}]]}]}]},{\"type\":\"model\",\"name\":\"Notification\",\"properties\":[{\"name\":\"background\",\"kind\":\"Any\",\"default\":null},{\"name\":\"duration\",\"kind\":\"Any\",\"default\":3000},{\"name\":\"icon\",\"kind\":\"Any\",\"default\":null},{\"name\":\"message\",\"kind\":\"Any\",\"default\":\"\"},{\"name\":\"notification_type\",\"kind\":\"Any\",\"default\":null},{\"name\":\"_rendered\",\"kind\":\"Any\",\"default\":false},{\"name\":\"_destroyed\",\"kind\":\"Any\",\"default\":false}]},{\"type\":\"model\",\"name\":\"TemplateActions1\",\"properties\":[{\"name\":\"open_modal\",\"kind\":\"Any\",\"default\":0},{\"name\":\"close_modal\",\"kind\":\"Any\",\"default\":0}]},{\"type\":\"model\",\"name\":\"BootstrapTemplateActions1\",\"properties\":[{\"name\":\"open_modal\",\"kind\":\"Any\",\"default\":0},{\"name\":\"close_modal\",\"kind\":\"Any\",\"default\":0}]},{\"type\":\"model\",\"name\":\"TemplateEditor1\",\"properties\":[{\"name\":\"layout\",\"kind\":\"Any\",\"default\":[]}]},{\"type\":\"model\",\"name\":\"MaterialTemplateActions1\",\"properties\":[{\"name\":\"open_modal\",\"kind\":\"Any\",\"default\":0},{\"name\":\"close_modal\",\"kind\":\"Any\",\"default\":0}]},{\"type\":\"model\",\"name\":\"ReactiveESM1\",\"properties\":[{\"name\":\"esm_constants\",\"kind\":\"Any\",\"default\":{\"type\":\"map\"}}]},{\"type\":\"model\",\"name\":\"JSComponent1\",\"properties\":[{\"name\":\"esm_constants\",\"kind\":\"Any\",\"default\":{\"type\":\"map\"}}]},{\"type\":\"model\",\"name\":\"ReactComponent1\",\"properties\":[{\"name\":\"esm_constants\",\"kind\":\"Any\",\"default\":{\"type\":\"map\"}}]},{\"type\":\"model\",\"name\":\"AnyWidgetComponent1\",\"properties\":[{\"name\":\"esm_constants\",\"kind\":\"Any\",\"default\":{\"type\":\"map\"}}]},{\"type\":\"model\",\"name\":\"request_value1\",\"properties\":[{\"name\":\"fill\",\"kind\":\"Any\",\"default\":\"none\"},{\"name\":\"_synced\",\"kind\":\"Any\",\"default\":null},{\"name\":\"_request_sync\",\"kind\":\"Any\",\"default\":0}]}]}};\n",
       "  var render_items = [{\"docid\":\"1de7cce5-b623-4a6b-b1be-3a15c2b323dd\",\"roots\":{\"ab1091ca-8b36-4f77-a0d9-13cec3cd5eda\":\"c4a27610-94ae-4df5-859c-207d3a76fadf\"},\"root_ids\":[\"ab1091ca-8b36-4f77-a0d9-13cec3cd5eda\"]}];\n",
       "  var docs = Object.values(docs_json)\n",
       "  if (!docs) {\n",
       "    return\n",
       "  }\n",
       "  const py_version = docs[0].version.replace('rc', '-rc.').replace('.dev', '-dev.')\n",
       "  async function embed_document(root) {\n",
       "    var Bokeh = get_bokeh(root)\n",
       "    await Bokeh.embed.embed_items_notebook(docs_json, render_items);\n",
       "    for (const render_item of render_items) {\n",
       "      for (const root_id of render_item.root_ids) {\n",
       "\tconst id_el = document.getElementById(root_id)\n",
       "\tif (id_el.children.length && id_el.children[0].hasAttribute('data-root-id')) {\n",
       "\t  const root_el = id_el.children[0]\n",
       "\t  root_el.id = root_el.id + '-rendered'\n",
       "\t  for (const child of root_el.children) {\n",
       "            // Ensure JupyterLab does not capture keyboard shortcuts\n",
       "            // see: https://jupyterlab.readthedocs.io/en/4.1.x/extension/notebook.html#keyboard-interaction-model\n",
       "\t    child.setAttribute('data-lm-suppress-shortcuts', 'true')\n",
       "\t  }\n",
       "\t}\n",
       "      }\n",
       "    }\n",
       "  }\n",
       "  function get_bokeh(root) {\n",
       "    if (root.Bokeh === undefined) {\n",
       "      return null\n",
       "    } else if (root.Bokeh.version !== py_version) {\n",
       "      if (root.Bokeh.versions === undefined || !root.Bokeh.versions.has(py_version)) {\n",
       "\treturn null\n",
       "      }\n",
       "      return root.Bokeh.versions.get(py_version);\n",
       "    } else if (root.Bokeh.version === py_version) {\n",
       "      return root.Bokeh\n",
       "    }\n",
       "    return null\n",
       "  }\n",
       "  function is_loaded(root) {\n",
       "    var Bokeh = get_bokeh(root)\n",
       "    return (Bokeh != null && Bokeh.Panel !== undefined && ( root.Plotly !== undefined) && ( root.Plotly !== undefined) && ( root.Plotly !== undefined) && ( root.Plotly !== undefined))\n",
       "  }\n",
       "  if (is_loaded(root)) {\n",
       "    embed_document(root);\n",
       "  } else {\n",
       "    var attempts = 0;\n",
       "    var timer = setInterval(function(root) {\n",
       "      if (is_loaded(root)) {\n",
       "        clearInterval(timer);\n",
       "        embed_document(root);\n",
       "      } else if (document.readyState == \"complete\") {\n",
       "        attempts++;\n",
       "        if (attempts > 200) {\n",
       "          clearInterval(timer);\n",
       "\t  var Bokeh = get_bokeh(root)\n",
       "\t  if (Bokeh == null || Bokeh.Panel == null) {\n",
       "            console.warn(\"Panel: ERROR: Unable to run Panel code because Bokeh or Panel library is missing\");\n",
       "\t  } else {\n",
       "\t    console.warn(\"Panel: WARNING: Attempting to render but not all required libraries could be resolved.\")\n",
       "\t    embed_document(root)\n",
       "\t  }\n",
       "        }\n",
       "      }\n",
       "    }, 25, root)\n",
       "  }\n",
       "})(window);</script>"
      ]
     },
     "metadata": {
      "application/vnd.holoviews_exec.v0+json": {
       "id": "ab1091ca-8b36-4f77-a0d9-13cec3cd5eda"
      }
     },
     "output_type": "display_data"
    }
   ],
   "source": [
    "# PeakFit_analysis csv data reading\n",
    "import pandas as pd\n",
    "import numpy as np\n",
    "\n",
    "import altair as alt\n",
    "import panel as pn\n",
    "import plotly.graph_objects as go\n",
    "import plotly.express as px\n",
    "pn.extension('plotly')\n",
    "ACCENT = \"teal\"\n"
   ]
  },
  {
   "cell_type": "code",
   "execution_count": 82,
   "metadata": {},
   "outputs": [
    {
     "data": {
      "text/html": [
       "<div>\n",
       "<style scoped>\n",
       "    .dataframe tbody tr th:only-of-type {\n",
       "        vertical-align: middle;\n",
       "    }\n",
       "\n",
       "    .dataframe tbody tr th {\n",
       "        vertical-align: top;\n",
       "    }\n",
       "\n",
       "    .dataframe thead th {\n",
       "        text-align: right;\n",
       "    }\n",
       "</style>\n",
       "<table border=\"1\" class=\"dataframe\">\n",
       "  <thead>\n",
       "    <tr style=\"text-align: right;\">\n",
       "      <th></th>\n",
       "      <th>Date</th>\n",
       "      <th>Time</th>\n",
       "      <th>Item ID</th>\n",
       "      <th>Category</th>\n",
       "      <th>Responsible Staff</th>\n",
       "      <th>Expected Quantity</th>\n",
       "      <th>Actual Quantity</th>\n",
       "      <th>Expired Items</th>\n",
       "      <th>Returned Items</th>\n",
       "      <th>Items Out for Sales</th>\n",
       "      <th>Items Out for Quality Control</th>\n",
       "      <th>Items Out for Events</th>\n",
       "    </tr>\n",
       "  </thead>\n",
       "  <tbody>\n",
       "    <tr>\n",
       "      <th>80</th>\n",
       "      <td>2024-01-01</td>\n",
       "      <td>Evening</td>\n",
       "      <td>ITM003</td>\n",
       "      <td>CTG003</td>\n",
       "      <td>Andrew Cauchi</td>\n",
       "      <td>34</td>\n",
       "      <td>31</td>\n",
       "      <td>4</td>\n",
       "      <td>3</td>\n",
       "      <td>7</td>\n",
       "      <td>10</td>\n",
       "      <td>12</td>\n",
       "    </tr>\n",
       "    <tr>\n",
       "      <th>171</th>\n",
       "      <td>2024-01-01</td>\n",
       "      <td>Evening</td>\n",
       "      <td>ITM005</td>\n",
       "      <td>CTG003</td>\n",
       "      <td>Jean-Pierre Ellul</td>\n",
       "      <td>47</td>\n",
       "      <td>44</td>\n",
       "      <td>4</td>\n",
       "      <td>2</td>\n",
       "      <td>7</td>\n",
       "      <td>9</td>\n",
       "      <td>12</td>\n",
       "    </tr>\n",
       "    <tr>\n",
       "      <th>556</th>\n",
       "      <td>2024-01-01</td>\n",
       "      <td>Evening</td>\n",
       "      <td>ITM005</td>\n",
       "      <td>CTG003</td>\n",
       "      <td>Andrew Cauchi</td>\n",
       "      <td>52</td>\n",
       "      <td>53</td>\n",
       "      <td>5</td>\n",
       "      <td>2</td>\n",
       "      <td>6</td>\n",
       "      <td>9</td>\n",
       "      <td>12</td>\n",
       "    </tr>\n",
       "    <tr>\n",
       "      <th>932</th>\n",
       "      <td>2024-01-01</td>\n",
       "      <td>Afternoon</td>\n",
       "      <td>ITM003</td>\n",
       "      <td>CTG003</td>\n",
       "      <td>Aaron Vella</td>\n",
       "      <td>41</td>\n",
       "      <td>37</td>\n",
       "      <td>5</td>\n",
       "      <td>3</td>\n",
       "      <td>7</td>\n",
       "      <td>9</td>\n",
       "      <td>12</td>\n",
       "    </tr>\n",
       "    <tr>\n",
       "      <th>1871</th>\n",
       "      <td>2024-01-01</td>\n",
       "      <td>Morning</td>\n",
       "      <td>ITM006</td>\n",
       "      <td>CTG001</td>\n",
       "      <td>Aaron Vella</td>\n",
       "      <td>44</td>\n",
       "      <td>39</td>\n",
       "      <td>4</td>\n",
       "      <td>3</td>\n",
       "      <td>6</td>\n",
       "      <td>10</td>\n",
       "      <td>12</td>\n",
       "    </tr>\n",
       "  </tbody>\n",
       "</table>\n",
       "</div>"
      ],
      "text/plain": [
       "           Date       Time Item ID Category  Responsible Staff  \\\n",
       "80   2024-01-01    Evening  ITM003   CTG003      Andrew Cauchi   \n",
       "171  2024-01-01    Evening  ITM005   CTG003  Jean-Pierre Ellul   \n",
       "556  2024-01-01    Evening  ITM005   CTG003      Andrew Cauchi   \n",
       "932  2024-01-01  Afternoon  ITM003   CTG003        Aaron Vella   \n",
       "1871 2024-01-01    Morning  ITM006   CTG001        Aaron Vella   \n",
       "\n",
       "      Expected Quantity  Actual Quantity  Expired Items  Returned Items  \\\n",
       "80                   34               31              4               3   \n",
       "171                  47               44              4               2   \n",
       "556                  52               53              5               2   \n",
       "932                  41               37              5               3   \n",
       "1871                 44               39              4               3   \n",
       "\n",
       "      Items Out for Sales  Items Out for Quality Control  Items Out for Events  \n",
       "80                      7                             10                    12  \n",
       "171                     7                              9                    12  \n",
       "556                     6                              9                    12  \n",
       "932                     7                              9                    12  \n",
       "1871                    6                             10                    12  "
      ]
     },
     "execution_count": 82,
     "metadata": {},
     "output_type": "execute_result"
    }
   ],
   "source": [
    "df = pd.read_excel(r'D:\\K_REPO\\Depi_freelanceYard\\PeakFit Essentials.xlsx',sheet_name='Sheet1')\n",
    "df.sort_values(by=\"Date\").head(5)"
   ]
  },
  {
   "cell_type": "markdown",
   "metadata": {},
   "source": [
    "## <mark>2. Clean the data "
   ]
  },
  {
   "cell_type": "code",
   "execution_count": 83,
   "metadata": {},
   "outputs": [],
   "source": [
    "#drop unusfull columns\n",
    "df = df.drop(columns=['Expired Items','Returned Items','Items Out for Sales','Items Out for Quality Control','Items Out for Events'])"
   ]
  },
  {
   "cell_type": "code",
   "execution_count": 84,
   "metadata": {},
   "outputs": [],
   "source": [
    "df[\"Date\"] = pd.to_datetime(df[\"Date\"], format=\"%Y-%m-%d\")"
   ]
  },
  {
   "cell_type": "code",
   "execution_count": 85,
   "metadata": {},
   "outputs": [
    {
     "name": "stdout",
     "output_type": "stream",
     "text": [
      "42\n"
     ]
    },
    {
     "data": {
      "text/html": [
       "<div>\n",
       "<style scoped>\n",
       "    .dataframe tbody tr th:only-of-type {\n",
       "        vertical-align: middle;\n",
       "    }\n",
       "\n",
       "    .dataframe tbody tr th {\n",
       "        vertical-align: top;\n",
       "    }\n",
       "\n",
       "    .dataframe thead th {\n",
       "        text-align: right;\n",
       "    }\n",
       "</style>\n",
       "<table border=\"1\" class=\"dataframe\">\n",
       "  <thead>\n",
       "    <tr style=\"text-align: right;\">\n",
       "      <th></th>\n",
       "      <th>Date</th>\n",
       "      <th>Time</th>\n",
       "      <th>Item ID</th>\n",
       "      <th>Category</th>\n",
       "      <th>Responsible Staff</th>\n",
       "      <th>Inventory Discrepancy</th>\n",
       "    </tr>\n",
       "  </thead>\n",
       "  <tbody>\n",
       "    <tr>\n",
       "      <th>0</th>\n",
       "      <td>2024-05-29</td>\n",
       "      <td>Evening</td>\n",
       "      <td>ITM006</td>\n",
       "      <td>CTG001</td>\n",
       "      <td>Robert Tabone</td>\n",
       "      <td>-4</td>\n",
       "    </tr>\n",
       "    <tr>\n",
       "      <th>1</th>\n",
       "      <td>2024-08-23</td>\n",
       "      <td>Afternoon</td>\n",
       "      <td>ITM004</td>\n",
       "      <td>CTG001</td>\n",
       "      <td>Simon Fenech</td>\n",
       "      <td>-5</td>\n",
       "    </tr>\n",
       "    <tr>\n",
       "      <th>2</th>\n",
       "      <td>2024-05-12</td>\n",
       "      <td>Evening</td>\n",
       "      <td>ITM001</td>\n",
       "      <td>CTG001</td>\n",
       "      <td>Jean-Pierre Ellul</td>\n",
       "      <td>0</td>\n",
       "    </tr>\n",
       "    <tr>\n",
       "      <th>3</th>\n",
       "      <td>2024-03-27</td>\n",
       "      <td>Evening</td>\n",
       "      <td>ITM003</td>\n",
       "      <td>CTG003</td>\n",
       "      <td>Andrew Cauchi</td>\n",
       "      <td>-4</td>\n",
       "    </tr>\n",
       "    <tr>\n",
       "      <th>4</th>\n",
       "      <td>2024-09-24</td>\n",
       "      <td>Evening</td>\n",
       "      <td>ITM002</td>\n",
       "      <td>CTG002</td>\n",
       "      <td>Robert Tabone</td>\n",
       "      <td>2</td>\n",
       "    </tr>\n",
       "  </tbody>\n",
       "</table>\n",
       "</div>"
      ],
      "text/plain": [
       "        Date       Time Item ID Category  Responsible Staff  \\\n",
       "0 2024-05-29    Evening  ITM006   CTG001      Robert Tabone   \n",
       "1 2024-08-23  Afternoon  ITM004   CTG001       Simon Fenech   \n",
       "2 2024-05-12    Evening  ITM001   CTG001  Jean-Pierre Ellul   \n",
       "3 2024-03-27    Evening  ITM003   CTG003      Andrew Cauchi   \n",
       "4 2024-09-24    Evening  ITM002   CTG002      Robert Tabone   \n",
       "\n",
       "   Inventory Discrepancy  \n",
       "0                     -4  \n",
       "1                     -5  \n",
       "2                      0  \n",
       "3                     -4  \n",
       "4                      2  "
      ]
     },
     "execution_count": 85,
     "metadata": {},
     "output_type": "execute_result"
    }
   ],
   "source": [
    "#replace expected & actual with stocked quantity\n",
    "#make column for Inventory Discrepancy\n",
    "df['Inventory Discrepancy'] =  df['Actual Quantity'] - df['Expected Quantity']\n",
    "df = df.drop(columns=['Expected Quantity',\t'Actual Quantity'  ])\n",
    "print(df['Inventory Discrepancy'].sum())  #total Inventory Discrepancy in 10 monthes [ -N : missing , +N more than expeted  ] \n",
    "df.head()"
   ]
  },
  {
   "cell_type": "code",
   "execution_count": 86,
   "metadata": {},
   "outputs": [],
   "source": [
    "df['Month'] = df['Date'].dt.month_name()\n"
   ]
  },
  {
   "cell_type": "code",
   "execution_count": 87,
   "metadata": {},
   "outputs": [
    {
     "name": "stdout",
     "output_type": "stream",
     "text": [
      "42\n"
     ]
    }
   ],
   "source": [
    "print(df['Inventory Discrepancy'].sum())"
   ]
  },
  {
   "cell_type": "markdown",
   "metadata": {},
   "source": [
    "### the new data discription"
   ]
  },
  {
   "cell_type": "code",
   "execution_count": 88,
   "metadata": {},
   "outputs": [
    {
     "name": "stdout",
     "output_type": "stream",
     "text": [
      "<class 'pandas.core.frame.DataFrame'>\n",
      "RangeIndex: 2000 entries, 0 to 1999\n",
      "Data columns (total 7 columns):\n",
      " #   Column                 Non-Null Count  Dtype         \n",
      "---  ------                 --------------  -----         \n",
      " 0   Date                   2000 non-null   datetime64[ns]\n",
      " 1   Time                   2000 non-null   object        \n",
      " 2   Item ID                2000 non-null   object        \n",
      " 3   Category               2000 non-null   object        \n",
      " 4   Responsible Staff      2000 non-null   object        \n",
      " 5   Inventory Discrepancy  2000 non-null   int64         \n",
      " 6   Month                  2000 non-null   object        \n",
      "dtypes: datetime64[ns](1), int64(1), object(5)\n",
      "memory usage: 109.5+ KB\n"
     ]
    }
   ],
   "source": [
    "df.info()"
   ]
  },
  {
   "cell_type": "code",
   "execution_count": 89,
   "metadata": {},
   "outputs": [
    {
     "data": {
      "text/html": [
       "<div>\n",
       "<style scoped>\n",
       "    .dataframe tbody tr th:only-of-type {\n",
       "        vertical-align: middle;\n",
       "    }\n",
       "\n",
       "    .dataframe tbody tr th {\n",
       "        vertical-align: top;\n",
       "    }\n",
       "\n",
       "    .dataframe thead th {\n",
       "        text-align: right;\n",
       "    }\n",
       "</style>\n",
       "<table border=\"1\" class=\"dataframe\">\n",
       "  <thead>\n",
       "    <tr style=\"text-align: right;\">\n",
       "      <th></th>\n",
       "      <th>Date</th>\n",
       "      <th>Time</th>\n",
       "      <th>Item ID</th>\n",
       "      <th>Category</th>\n",
       "      <th>Responsible Staff</th>\n",
       "      <th>Inventory Discrepancy</th>\n",
       "      <th>Month</th>\n",
       "    </tr>\n",
       "  </thead>\n",
       "  <tbody>\n",
       "    <tr>\n",
       "      <th>count</th>\n",
       "      <td>2000</td>\n",
       "      <td>2000</td>\n",
       "      <td>2000</td>\n",
       "      <td>2000</td>\n",
       "      <td>2000</td>\n",
       "      <td>2000.00000</td>\n",
       "      <td>2000</td>\n",
       "    </tr>\n",
       "    <tr>\n",
       "      <th>unique</th>\n",
       "      <td>NaN</td>\n",
       "      <td>3</td>\n",
       "      <td>6</td>\n",
       "      <td>3</td>\n",
       "      <td>6</td>\n",
       "      <td>NaN</td>\n",
       "      <td>9</td>\n",
       "    </tr>\n",
       "    <tr>\n",
       "      <th>top</th>\n",
       "      <td>NaN</td>\n",
       "      <td>Morning</td>\n",
       "      <td>ITM001</td>\n",
       "      <td>CTG001</td>\n",
       "      <td>Jean-Pierre Ellul</td>\n",
       "      <td>NaN</td>\n",
       "      <td>March</td>\n",
       "    </tr>\n",
       "    <tr>\n",
       "      <th>freq</th>\n",
       "      <td>NaN</td>\n",
       "      <td>679</td>\n",
       "      <td>359</td>\n",
       "      <td>1011</td>\n",
       "      <td>368</td>\n",
       "      <td>NaN</td>\n",
       "      <td>247</td>\n",
       "    </tr>\n",
       "    <tr>\n",
       "      <th>mean</th>\n",
       "      <td>2024-05-16 21:35:16.800000256</td>\n",
       "      <td>NaN</td>\n",
       "      <td>NaN</td>\n",
       "      <td>NaN</td>\n",
       "      <td>NaN</td>\n",
       "      <td>0.02100</td>\n",
       "      <td>NaN</td>\n",
       "    </tr>\n",
       "    <tr>\n",
       "      <th>min</th>\n",
       "      <td>2024-01-01 00:00:00</td>\n",
       "      <td>NaN</td>\n",
       "      <td>NaN</td>\n",
       "      <td>NaN</td>\n",
       "      <td>NaN</td>\n",
       "      <td>-5.00000</td>\n",
       "      <td>NaN</td>\n",
       "    </tr>\n",
       "    <tr>\n",
       "      <th>25%</th>\n",
       "      <td>2024-03-09 00:00:00</td>\n",
       "      <td>NaN</td>\n",
       "      <td>NaN</td>\n",
       "      <td>NaN</td>\n",
       "      <td>NaN</td>\n",
       "      <td>-3.00000</td>\n",
       "      <td>NaN</td>\n",
       "    </tr>\n",
       "    <tr>\n",
       "      <th>50%</th>\n",
       "      <td>2024-05-17 12:00:00</td>\n",
       "      <td>NaN</td>\n",
       "      <td>NaN</td>\n",
       "      <td>NaN</td>\n",
       "      <td>NaN</td>\n",
       "      <td>0.00000</td>\n",
       "      <td>NaN</td>\n",
       "    </tr>\n",
       "    <tr>\n",
       "      <th>75%</th>\n",
       "      <td>2024-07-25 00:00:00</td>\n",
       "      <td>NaN</td>\n",
       "      <td>NaN</td>\n",
       "      <td>NaN</td>\n",
       "      <td>NaN</td>\n",
       "      <td>3.00000</td>\n",
       "      <td>NaN</td>\n",
       "    </tr>\n",
       "    <tr>\n",
       "      <th>max</th>\n",
       "      <td>2024-09-30 00:00:00</td>\n",
       "      <td>NaN</td>\n",
       "      <td>NaN</td>\n",
       "      <td>NaN</td>\n",
       "      <td>NaN</td>\n",
       "      <td>5.00000</td>\n",
       "      <td>NaN</td>\n",
       "    </tr>\n",
       "    <tr>\n",
       "      <th>std</th>\n",
       "      <td>NaN</td>\n",
       "      <td>NaN</td>\n",
       "      <td>NaN</td>\n",
       "      <td>NaN</td>\n",
       "      <td>NaN</td>\n",
       "      <td>3.13472</td>\n",
       "      <td>NaN</td>\n",
       "    </tr>\n",
       "  </tbody>\n",
       "</table>\n",
       "</div>"
      ],
      "text/plain": [
       "                                 Date     Time Item ID Category  \\\n",
       "count                            2000     2000    2000     2000   \n",
       "unique                            NaN        3       6        3   \n",
       "top                               NaN  Morning  ITM001   CTG001   \n",
       "freq                              NaN      679     359     1011   \n",
       "mean    2024-05-16 21:35:16.800000256      NaN     NaN      NaN   \n",
       "min               2024-01-01 00:00:00      NaN     NaN      NaN   \n",
       "25%               2024-03-09 00:00:00      NaN     NaN      NaN   \n",
       "50%               2024-05-17 12:00:00      NaN     NaN      NaN   \n",
       "75%               2024-07-25 00:00:00      NaN     NaN      NaN   \n",
       "max               2024-09-30 00:00:00      NaN     NaN      NaN   \n",
       "std                               NaN      NaN     NaN      NaN   \n",
       "\n",
       "        Responsible Staff  Inventory Discrepancy  Month  \n",
       "count                2000             2000.00000   2000  \n",
       "unique                  6                    NaN      9  \n",
       "top     Jean-Pierre Ellul                    NaN  March  \n",
       "freq                  368                    NaN    247  \n",
       "mean                  NaN                0.02100    NaN  \n",
       "min                   NaN               -5.00000    NaN  \n",
       "25%                   NaN               -3.00000    NaN  \n",
       "50%                   NaN                0.00000    NaN  \n",
       "75%                   NaN                3.00000    NaN  \n",
       "max                   NaN                5.00000    NaN  \n",
       "std                   NaN                3.13472    NaN  "
      ]
     },
     "execution_count": 89,
     "metadata": {},
     "output_type": "execute_result"
    }
   ],
   "source": [
    "df.describe(include='all')"
   ]
  },
  {
   "cell_type": "markdown",
   "metadata": {},
   "source": [
    "Date started 2024-01-01  ended 2024-09-30 with 2000 record .\n",
    "\n",
    "time 3 shifts per day (morning, afternoon, evening).\n",
    "\n",
    "item ID are only 6 items (Dumbbells, Yoga Mat, Resistance Bands, Protein Powder, Foam Roller, Kettlebells).\n",
    "\n",
    "category are only 3 items , but 4 in category sheet (Strength Training Equipment, fitness accessories, strength training equipment). there is an issue (miss leading inputs)\n",
    "\n",
    "responsible staff are only 6 (['Robert Tabone', 'Simon Fenech', 'Jean-Pierre Ellul','Andrew Cauchi', 'Aaron Vella', 'Franklin Attard']).\n",
    "\n",
    "and no nulls in the data\n",
    "\n"
   ]
  },
  {
   "cell_type": "code",
   "execution_count": 90,
   "metadata": {},
   "outputs": [
    {
     "data": {
      "text/plain": [
       "array(['CTG001', 'CTG003', 'CTG002', 'CTG004'], dtype=object)"
      ]
     },
     "execution_count": 90,
     "metadata": {},
     "output_type": "execute_result"
    }
   ],
   "source": [
    "# fixing category\n",
    "# assinge ITM001 , ITM003 , ITM006 to ctg001  as they all strength training Items\n",
    "df.loc[df['Item ID'].isin(['ITM001', 'ITM003', 'ITM006']), 'Category'] = 'CTG001'\n",
    "\n",
    "# assinge ITM004 as CTG004 ( protein poweder is supplements )\n",
    "df.loc[df[\"Item ID\"].isin([\"ITM004\"]), \"Category\"]= \"CTG003\"\n",
    "\n",
    "#assinge ITM005 as CTG005 (foam rollers are recovery tools)\n",
    "df.loc[df[\"Item ID\"].isin([\"ITM005\"]), \"Category\"]=\"CTG004\"\n",
    "\n",
    "df['Category'].unique()\n"
   ]
  },
  {
   "cell_type": "markdown",
   "metadata": {},
   "source": [
    "## <mark>3. Data proccessing"
   ]
  },
  {
   "cell_type": "markdown",
   "metadata": {},
   "source": [
    "#### calender heatmap (Heat_fig) ####"
   ]
  },
  {
   "cell_type": "code",
   "execution_count": 91,
   "metadata": {},
   "outputs": [
    {
     "data": {
      "text/html": [
       "<div>\n",
       "<style scoped>\n",
       "    .dataframe tbody tr th:only-of-type {\n",
       "        vertical-align: middle;\n",
       "    }\n",
       "\n",
       "    .dataframe tbody tr th {\n",
       "        vertical-align: top;\n",
       "    }\n",
       "\n",
       "    .dataframe thead th {\n",
       "        text-align: right;\n",
       "    }\n",
       "</style>\n",
       "<table border=\"1\" class=\"dataframe\">\n",
       "  <thead>\n",
       "    <tr style=\"text-align: right;\">\n",
       "      <th></th>\n",
       "      <th>Day</th>\n",
       "      <th>Month</th>\n",
       "      <th>Inventory Discrepancy</th>\n",
       "    </tr>\n",
       "  </thead>\n",
       "  <tbody>\n",
       "    <tr>\n",
       "      <th>0</th>\n",
       "      <td>1</td>\n",
       "      <td>April</td>\n",
       "      <td>5</td>\n",
       "    </tr>\n",
       "    <tr>\n",
       "      <th>1</th>\n",
       "      <td>1</td>\n",
       "      <td>August</td>\n",
       "      <td>0</td>\n",
       "    </tr>\n",
       "    <tr>\n",
       "      <th>2</th>\n",
       "      <td>1</td>\n",
       "      <td>February</td>\n",
       "      <td>9</td>\n",
       "    </tr>\n",
       "    <tr>\n",
       "      <th>3</th>\n",
       "      <td>1</td>\n",
       "      <td>January</td>\n",
       "      <td>-13</td>\n",
       "    </tr>\n",
       "    <tr>\n",
       "      <th>4</th>\n",
       "      <td>1</td>\n",
       "      <td>July</td>\n",
       "      <td>-1</td>\n",
       "    </tr>\n",
       "  </tbody>\n",
       "</table>\n",
       "</div>"
      ],
      "text/plain": [
       "   Day     Month  Inventory Discrepancy\n",
       "0    1     April                      5\n",
       "1    1    August                      0\n",
       "2    1  February                      9\n",
       "3    1   January                    -13\n",
       "4    1      July                     -1"
      ]
     },
     "execution_count": 91,
     "metadata": {},
     "output_type": "execute_result"
    }
   ],
   "source": [
    "# Convert DateTime to datetime format\n",
    "df['DateTime'] = pd.to_datetime(df['Date'])\n",
    "\n",
    "# Extract Month and Day\n",
    "df['Month'] = df['DateTime'].dt.strftime('%B')  # Month name\n",
    "df['Day'] = df['DateTime'].dt.day  # Day of month\n",
    "\n",
    "# Aggregate data by Day and Month (sum of Inventory Discrepancy)\n",
    "df_agg = df.groupby(['Day', 'Month'])['Inventory Discrepancy'].sum().reset_index()\n",
    "\n",
    "# Create pivot table for heatmap\n",
    "heatmap_data = df_agg.pivot(index='Day', columns='Month', values='Inventory Discrepancy')\n",
    "\n",
    "# Fill NaN values with 0 (days with no Inventory Discrepancy)\n",
    "heatmap_data = heatmap_data.fillna(0)\n",
    "\n",
    "# Define month order for proper sorting\n",
    "month_order = [\"January\", \"February\", \"March\", \"April\", \"May\", \"June\", \n",
    "               \"July\", \"August\", \"September\", \"October\"]\n",
    "\n",
    "# Filter to only include months that are in our data\n",
    "available_months = [month for month in month_order if month in heatmap_data.columns]\n",
    "heatmap_data = heatmap_data.reindex(columns=available_months)\n",
    "df_agg.head()"
   ]
  },
  {
   "cell_type": "code",
   "execution_count": 92,
   "metadata": {},
   "outputs": [
    {
     "data": {
      "application/vnd.plotly.v1+json": {
       "config": {
        "plotlyServerURL": "https://plot.ly"
       },
       "data": [
        {
         "coloraxis": "coloraxis",
         "hovertemplate": "Month: %{x}<br>Day: %{y}<br>Inventory Discrepancy: %{z}<extra></extra>",
         "name": "0",
         "texttemplate": "%{z}",
         "type": "heatmap",
         "x": [
          "January",
          "February",
          "March",
          "April",
          "May",
          "June",
          "July",
          "August",
          "September"
         ],
         "xaxis": "x",
         "y": {
          "bdata": "AQAAAAIAAAADAAAABAAAAAUAAAAGAAAABwAAAAgAAAAJAAAACgAAAAsAAAAMAAAADQAAAA4AAAAPAAAAEAAAABEAAAASAAAAEwAAABQAAAAVAAAAFgAAABcAAAAYAAAAGQAAABoAAAAbAAAAHAAAAB0AAAAeAAAAHwAAAA==",
          "dtype": "i4"
         },
         "yaxis": "y",
         "z": {
          "bdata": "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",
          "dtype": "f8",
          "shape": "31, 9"
         }
        }
       ],
       "layout": {
        "coloraxis": {
         "colorbar": {
          "title": {
           "text": "Inventory Discrepancy"
          }
         },
         "colorscale": [
          [
           0,
           "rgb(103,0,31)"
          ],
          [
           0.1,
           "rgb(178,24,43)"
          ],
          [
           0.2,
           "rgb(214,96,77)"
          ],
          [
           0.3,
           "rgb(244,165,130)"
          ],
          [
           0.4,
           "rgb(253,219,199)"
          ],
          [
           0.5,
           "rgb(247,247,247)"
          ],
          [
           0.6,
           "rgb(209,229,240)"
          ],
          [
           0.7,
           "rgb(146,197,222)"
          ],
          [
           0.8,
           "rgb(67,147,195)"
          ],
          [
           0.9,
           "rgb(33,102,172)"
          ],
          [
           1,
           "rgb(5,48,97)"
          ]
         ]
        },
        "font": {
         "color": "black"
        },
        "height": 600,
        "margin": {
         "t": 60
        },
        "paper_bgcolor": "white",
        "plot_bgcolor": "black",
        "template": {
         "data": {
          "bar": [
           {
            "error_x": {
             "color": "#2a3f5f"
            },
            "error_y": {
             "color": "#2a3f5f"
            },
            "marker": {
             "line": {
              "color": "#E5ECF6",
              "width": 0.5
             },
             "pattern": {
              "fillmode": "overlay",
              "size": 10,
              "solidity": 0.2
             }
            },
            "type": "bar"
           }
          ],
          "barpolar": [
           {
            "marker": {
             "line": {
              "color": "#E5ECF6",
              "width": 0.5
             },
             "pattern": {
              "fillmode": "overlay",
              "size": 10,
              "solidity": 0.2
             }
            },
            "type": "barpolar"
           }
          ],
          "carpet": [
           {
            "aaxis": {
             "endlinecolor": "#2a3f5f",
             "gridcolor": "white",
             "linecolor": "white",
             "minorgridcolor": "white",
             "startlinecolor": "#2a3f5f"
            },
            "baxis": {
             "endlinecolor": "#2a3f5f",
             "gridcolor": "white",
             "linecolor": "white",
             "minorgridcolor": "white",
             "startlinecolor": "#2a3f5f"
            },
            "type": "carpet"
           }
          ],
          "choropleth": [
           {
            "colorbar": {
             "outlinewidth": 0,
             "ticks": ""
            },
            "type": "choropleth"
           }
          ],
          "contour": [
           {
            "colorbar": {
             "outlinewidth": 0,
             "ticks": ""
            },
            "colorscale": [
             [
              0,
              "#0d0887"
             ],
             [
              0.1111111111111111,
              "#46039f"
             ],
             [
              0.2222222222222222,
              "#7201a8"
             ],
             [
              0.3333333333333333,
              "#9c179e"
             ],
             [
              0.4444444444444444,
              "#bd3786"
             ],
             [
              0.5555555555555556,
              "#d8576b"
             ],
             [
              0.6666666666666666,
              "#ed7953"
             ],
             [
              0.7777777777777778,
              "#fb9f3a"
             ],
             [
              0.8888888888888888,
              "#fdca26"
             ],
             [
              1,
              "#f0f921"
             ]
            ],
            "type": "contour"
           }
          ],
          "contourcarpet": [
           {
            "colorbar": {
             "outlinewidth": 0,
             "ticks": ""
            },
            "type": "contourcarpet"
           }
          ],
          "heatmap": [
           {
            "colorbar": {
             "outlinewidth": 0,
             "ticks": ""
            },
            "colorscale": [
             [
              0,
              "#0d0887"
             ],
             [
              0.1111111111111111,
              "#46039f"
             ],
             [
              0.2222222222222222,
              "#7201a8"
             ],
             [
              0.3333333333333333,
              "#9c179e"
             ],
             [
              0.4444444444444444,
              "#bd3786"
             ],
             [
              0.5555555555555556,
              "#d8576b"
             ],
             [
              0.6666666666666666,
              "#ed7953"
             ],
             [
              0.7777777777777778,
              "#fb9f3a"
             ],
             [
              0.8888888888888888,
              "#fdca26"
             ],
             [
              1,
              "#f0f921"
             ]
            ],
            "type": "heatmap"
           }
          ],
          "histogram": [
           {
            "marker": {
             "pattern": {
              "fillmode": "overlay",
              "size": 10,
              "solidity": 0.2
             }
            },
            "type": "histogram"
           }
          ],
          "histogram2d": [
           {
            "colorbar": {
             "outlinewidth": 0,
             "ticks": ""
            },
            "colorscale": [
             [
              0,
              "#0d0887"
             ],
             [
              0.1111111111111111,
              "#46039f"
             ],
             [
              0.2222222222222222,
              "#7201a8"
             ],
             [
              0.3333333333333333,
              "#9c179e"
             ],
             [
              0.4444444444444444,
              "#bd3786"
             ],
             [
              0.5555555555555556,
              "#d8576b"
             ],
             [
              0.6666666666666666,
              "#ed7953"
             ],
             [
              0.7777777777777778,
              "#fb9f3a"
             ],
             [
              0.8888888888888888,
              "#fdca26"
             ],
             [
              1,
              "#f0f921"
             ]
            ],
            "type": "histogram2d"
           }
          ],
          "histogram2dcontour": [
           {
            "colorbar": {
             "outlinewidth": 0,
             "ticks": ""
            },
            "colorscale": [
             [
              0,
              "#0d0887"
             ],
             [
              0.1111111111111111,
              "#46039f"
             ],
             [
              0.2222222222222222,
              "#7201a8"
             ],
             [
              0.3333333333333333,
              "#9c179e"
             ],
             [
              0.4444444444444444,
              "#bd3786"
             ],
             [
              0.5555555555555556,
              "#d8576b"
             ],
             [
              0.6666666666666666,
              "#ed7953"
             ],
             [
              0.7777777777777778,
              "#fb9f3a"
             ],
             [
              0.8888888888888888,
              "#fdca26"
             ],
             [
              1,
              "#f0f921"
             ]
            ],
            "type": "histogram2dcontour"
           }
          ],
          "mesh3d": [
           {
            "colorbar": {
             "outlinewidth": 0,
             "ticks": ""
            },
            "type": "mesh3d"
           }
          ],
          "parcoords": [
           {
            "line": {
             "colorbar": {
              "outlinewidth": 0,
              "ticks": ""
             }
            },
            "type": "parcoords"
           }
          ],
          "pie": [
           {
            "automargin": true,
            "type": "pie"
           }
          ],
          "scatter": [
           {
            "fillpattern": {
             "fillmode": "overlay",
             "size": 10,
             "solidity": 0.2
            },
            "type": "scatter"
           }
          ],
          "scatter3d": [
           {
            "line": {
             "colorbar": {
              "outlinewidth": 0,
              "ticks": ""
             }
            },
            "marker": {
             "colorbar": {
              "outlinewidth": 0,
              "ticks": ""
             }
            },
            "type": "scatter3d"
           }
          ],
          "scattercarpet": [
           {
            "marker": {
             "colorbar": {
              "outlinewidth": 0,
              "ticks": ""
             }
            },
            "type": "scattercarpet"
           }
          ],
          "scattergeo": [
           {
            "marker": {
             "colorbar": {
              "outlinewidth": 0,
              "ticks": ""
             }
            },
            "type": "scattergeo"
           }
          ],
          "scattergl": [
           {
            "marker": {
             "colorbar": {
              "outlinewidth": 0,
              "ticks": ""
             }
            },
            "type": "scattergl"
           }
          ],
          "scattermap": [
           {
            "marker": {
             "colorbar": {
              "outlinewidth": 0,
              "ticks": ""
             }
            },
            "type": "scattermap"
           }
          ],
          "scattermapbox": [
           {
            "marker": {
             "colorbar": {
              "outlinewidth": 0,
              "ticks": ""
             }
            },
            "type": "scattermapbox"
           }
          ],
          "scatterpolar": [
           {
            "marker": {
             "colorbar": {
              "outlinewidth": 0,
              "ticks": ""
             }
            },
            "type": "scatterpolar"
           }
          ],
          "scatterpolargl": [
           {
            "marker": {
             "colorbar": {
              "outlinewidth": 0,
              "ticks": ""
             }
            },
            "type": "scatterpolargl"
           }
          ],
          "scatterternary": [
           {
            "marker": {
             "colorbar": {
              "outlinewidth": 0,
              "ticks": ""
             }
            },
            "type": "scatterternary"
           }
          ],
          "surface": [
           {
            "colorbar": {
             "outlinewidth": 0,
             "ticks": ""
            },
            "colorscale": [
             [
              0,
              "#0d0887"
             ],
             [
              0.1111111111111111,
              "#46039f"
             ],
             [
              0.2222222222222222,
              "#7201a8"
             ],
             [
              0.3333333333333333,
              "#9c179e"
             ],
             [
              0.4444444444444444,
              "#bd3786"
             ],
             [
              0.5555555555555556,
              "#d8576b"
             ],
             [
              0.6666666666666666,
              "#ed7953"
             ],
             [
              0.7777777777777778,
              "#fb9f3a"
             ],
             [
              0.8888888888888888,
              "#fdca26"
             ],
             [
              1,
              "#f0f921"
             ]
            ],
            "type": "surface"
           }
          ],
          "table": [
           {
            "cells": {
             "fill": {
              "color": "#EBF0F8"
             },
             "line": {
              "color": "white"
             }
            },
            "header": {
             "fill": {
              "color": "#C8D4E3"
             },
             "line": {
              "color": "white"
             }
            },
            "type": "table"
           }
          ]
         },
         "layout": {
          "annotationdefaults": {
           "arrowcolor": "#2a3f5f",
           "arrowhead": 0,
           "arrowwidth": 1
          },
          "autotypenumbers": "strict",
          "coloraxis": {
           "colorbar": {
            "outlinewidth": 0,
            "ticks": ""
           }
          },
          "colorscale": {
           "diverging": [
            [
             0,
             "#8e0152"
            ],
            [
             0.1,
             "#c51b7d"
            ],
            [
             0.2,
             "#de77ae"
            ],
            [
             0.3,
             "#f1b6da"
            ],
            [
             0.4,
             "#fde0ef"
            ],
            [
             0.5,
             "#f7f7f7"
            ],
            [
             0.6,
             "#e6f5d0"
            ],
            [
             0.7,
             "#b8e186"
            ],
            [
             0.8,
             "#7fbc41"
            ],
            [
             0.9,
             "#4d9221"
            ],
            [
             1,
             "#276419"
            ]
           ],
           "sequential": [
            [
             0,
             "#0d0887"
            ],
            [
             0.1111111111111111,
             "#46039f"
            ],
            [
             0.2222222222222222,
             "#7201a8"
            ],
            [
             0.3333333333333333,
             "#9c179e"
            ],
            [
             0.4444444444444444,
             "#bd3786"
            ],
            [
             0.5555555555555556,
             "#d8576b"
            ],
            [
             0.6666666666666666,
             "#ed7953"
            ],
            [
             0.7777777777777778,
             "#fb9f3a"
            ],
            [
             0.8888888888888888,
             "#fdca26"
            ],
            [
             1,
             "#f0f921"
            ]
           ],
           "sequentialminus": [
            [
             0,
             "#0d0887"
            ],
            [
             0.1111111111111111,
             "#46039f"
            ],
            [
             0.2222222222222222,
             "#7201a8"
            ],
            [
             0.3333333333333333,
             "#9c179e"
            ],
            [
             0.4444444444444444,
             "#bd3786"
            ],
            [
             0.5555555555555556,
             "#d8576b"
            ],
            [
             0.6666666666666666,
             "#ed7953"
            ],
            [
             0.7777777777777778,
             "#fb9f3a"
            ],
            [
             0.8888888888888888,
             "#fdca26"
            ],
            [
             1,
             "#f0f921"
            ]
           ]
          },
          "colorway": [
           "#636efa",
           "#EF553B",
           "#00cc96",
           "#ab63fa",
           "#FFA15A",
           "#19d3f3",
           "#FF6692",
           "#B6E880",
           "#FF97FF",
           "#FECB52"
          ],
          "font": {
           "color": "#2a3f5f"
          },
          "geo": {
           "bgcolor": "white",
           "lakecolor": "white",
           "landcolor": "#E5ECF6",
           "showlakes": true,
           "showland": true,
           "subunitcolor": "white"
          },
          "hoverlabel": {
           "align": "left"
          },
          "hovermode": "closest",
          "mapbox": {
           "style": "light"
          },
          "paper_bgcolor": "white",
          "plot_bgcolor": "#E5ECF6",
          "polar": {
           "angularaxis": {
            "gridcolor": "white",
            "linecolor": "white",
            "ticks": ""
           },
           "bgcolor": "#E5ECF6",
           "radialaxis": {
            "gridcolor": "white",
            "linecolor": "white",
            "ticks": ""
           }
          },
          "scene": {
           "xaxis": {
            "backgroundcolor": "#E5ECF6",
            "gridcolor": "white",
            "gridwidth": 2,
            "linecolor": "white",
            "showbackground": true,
            "ticks": "",
            "zerolinecolor": "white"
           },
           "yaxis": {
            "backgroundcolor": "#E5ECF6",
            "gridcolor": "white",
            "gridwidth": 2,
            "linecolor": "white",
            "showbackground": true,
            "ticks": "",
            "zerolinecolor": "white"
           },
           "zaxis": {
            "backgroundcolor": "#E5ECF6",
            "gridcolor": "white",
            "gridwidth": 2,
            "linecolor": "white",
            "showbackground": true,
            "ticks": "",
            "zerolinecolor": "white"
           }
          },
          "shapedefaults": {
           "line": {
            "color": "#2a3f5f"
           }
          },
          "ternary": {
           "aaxis": {
            "gridcolor": "white",
            "linecolor": "white",
            "ticks": ""
           },
           "baxis": {
            "gridcolor": "white",
            "linecolor": "white",
            "ticks": ""
           },
           "bgcolor": "#E5ECF6",
           "caxis": {
            "gridcolor": "white",
            "linecolor": "white",
            "ticks": ""
           }
          },
          "title": {
           "x": 0.05
          },
          "xaxis": {
           "automargin": true,
           "gridcolor": "white",
           "linecolor": "white",
           "ticks": "",
           "title": {
            "standoff": 15
           },
           "zerolinecolor": "white",
           "zerolinewidth": 2
          },
          "yaxis": {
           "automargin": true,
           "gridcolor": "white",
           "linecolor": "white",
           "ticks": "",
           "title": {
            "standoff": 15
           },
           "zerolinecolor": "white",
           "zerolinewidth": 2
          }
         }
        },
        "title": {
         "text": "Inventory Discrepancy/day Heatmap"
        },
        "width": 700,
        "xaxis": {
         "anchor": "y",
         "constrain": "domain",
         "domain": [
          0,
          1
         ],
         "scaleanchor": "y",
         "title": {
          "text": "Month"
         }
        },
        "yaxis": {
         "anchor": "x",
         "autorange": false,
         "constrain": "domain",
         "domain": [
          0,
          1
         ],
         "range": [
          1,
          31
         ],
         "title": {
          "text": "Day of Month"
         }
        }
       }
      }
     },
     "metadata": {},
     "output_type": "display_data"
    }
   ],
   "source": [
    "\n",
    "# Create the heatmap\n",
    "Heat_fig = px.imshow(\n",
    "    heatmap_data.values,\n",
    "    labels=dict(x=\"Month\", y=\"Day\", color=\"Inventory Discrepancy\"),\n",
    "    x=heatmap_data.columns,\n",
    "    y=heatmap_data.index,\n",
    "    color_continuous_scale=\"RdBu\",  # Changed to Reds as Inventory Discrepancy are positive now\n",
    "    text_auto=True  # Display values in the cells\n",
    ")\n",
    "\n",
    "Heat_fig.update_layout(\n",
    "    title=\"Inventory Discrepancy/day Heatmap\",\n",
    "    xaxis_title=\"Month\",\n",
    "    yaxis_title=\"Day of Month\",\n",
    "\n",
    "    yaxis=dict(\n",
    "        range=[1, 31],  # Explicitly reverse the order (assuming max day is 31)\n",
    "        autorange=False  # Disable automatic range adjustment\n",
    "        ),  # Keep day labels in correct order\n",
    "   \n",
    "    width=700,  # Set width\n",
    "    height=600,   # Set height\n",
    "    plot_bgcolor=\"black\",  # Set plot background to black\n",
    "    paper_bgcolor=\"white\",  # Set entire figure background to black\n",
    "    font=dict(color=\"black\")  # Set text color to white for contrast\n",
    "    \n",
    ")\n",
    "\n",
    "# To display the figure\n",
    "\n",
    "Heat_fig"
   ]
  },
  {
   "cell_type": "markdown",
   "metadata": {},
   "source": [
    "#made a calnder as heatmap, and found :\n",
    "\n",
    "at (25/07) 31 unexpected item found \n",
    "\n",
    "at (30/05) & 03/08 highest missing record at -23 item "
   ]
  },
  {
   "cell_type": "markdown",
   "metadata": {},
   "source": [
    "#### by weekday (Bar_fig)"
   ]
  },
  {
   "cell_type": "code",
   "execution_count": 93,
   "metadata": {},
   "outputs": [
    {
     "data": {
      "text/html": [
       "<div>\n",
       "<style scoped>\n",
       "    .dataframe tbody tr th:only-of-type {\n",
       "        vertical-align: middle;\n",
       "    }\n",
       "\n",
       "    .dataframe tbody tr th {\n",
       "        vertical-align: top;\n",
       "    }\n",
       "\n",
       "    .dataframe thead th {\n",
       "        text-align: right;\n",
       "    }\n",
       "</style>\n",
       "<table border=\"1\" class=\"dataframe\">\n",
       "  <thead>\n",
       "    <tr style=\"text-align: right;\">\n",
       "      <th></th>\n",
       "      <th>Date</th>\n",
       "      <th>Time</th>\n",
       "      <th>Item ID</th>\n",
       "      <th>Category</th>\n",
       "      <th>Responsible Staff</th>\n",
       "      <th>Inventory Discrepancy</th>\n",
       "      <th>Month</th>\n",
       "      <th>DateTime</th>\n",
       "      <th>Day</th>\n",
       "      <th>Weekday</th>\n",
       "    </tr>\n",
       "  </thead>\n",
       "  <tbody>\n",
       "    <tr>\n",
       "      <th>0</th>\n",
       "      <td>2024-05-29</td>\n",
       "      <td>Evening</td>\n",
       "      <td>ITM006</td>\n",
       "      <td>CTG001</td>\n",
       "      <td>Robert Tabone</td>\n",
       "      <td>-4</td>\n",
       "      <td>May</td>\n",
       "      <td>2024-05-29</td>\n",
       "      <td>29</td>\n",
       "      <td>Wednesday</td>\n",
       "    </tr>\n",
       "    <tr>\n",
       "      <th>1</th>\n",
       "      <td>2024-08-23</td>\n",
       "      <td>Afternoon</td>\n",
       "      <td>ITM004</td>\n",
       "      <td>CTG003</td>\n",
       "      <td>Simon Fenech</td>\n",
       "      <td>-5</td>\n",
       "      <td>August</td>\n",
       "      <td>2024-08-23</td>\n",
       "      <td>23</td>\n",
       "      <td>Friday</td>\n",
       "    </tr>\n",
       "    <tr>\n",
       "      <th>2</th>\n",
       "      <td>2024-05-12</td>\n",
       "      <td>Evening</td>\n",
       "      <td>ITM001</td>\n",
       "      <td>CTG001</td>\n",
       "      <td>Jean-Pierre Ellul</td>\n",
       "      <td>0</td>\n",
       "      <td>May</td>\n",
       "      <td>2024-05-12</td>\n",
       "      <td>12</td>\n",
       "      <td>Sunday</td>\n",
       "    </tr>\n",
       "    <tr>\n",
       "      <th>3</th>\n",
       "      <td>2024-03-27</td>\n",
       "      <td>Evening</td>\n",
       "      <td>ITM003</td>\n",
       "      <td>CTG001</td>\n",
       "      <td>Andrew Cauchi</td>\n",
       "      <td>-4</td>\n",
       "      <td>March</td>\n",
       "      <td>2024-03-27</td>\n",
       "      <td>27</td>\n",
       "      <td>Wednesday</td>\n",
       "    </tr>\n",
       "    <tr>\n",
       "      <th>4</th>\n",
       "      <td>2024-09-24</td>\n",
       "      <td>Evening</td>\n",
       "      <td>ITM002</td>\n",
       "      <td>CTG002</td>\n",
       "      <td>Robert Tabone</td>\n",
       "      <td>2</td>\n",
       "      <td>September</td>\n",
       "      <td>2024-09-24</td>\n",
       "      <td>24</td>\n",
       "      <td>Tuesday</td>\n",
       "    </tr>\n",
       "  </tbody>\n",
       "</table>\n",
       "</div>"
      ],
      "text/plain": [
       "        Date       Time Item ID Category  Responsible Staff  \\\n",
       "0 2024-05-29    Evening  ITM006   CTG001      Robert Tabone   \n",
       "1 2024-08-23  Afternoon  ITM004   CTG003       Simon Fenech   \n",
       "2 2024-05-12    Evening  ITM001   CTG001  Jean-Pierre Ellul   \n",
       "3 2024-03-27    Evening  ITM003   CTG001      Andrew Cauchi   \n",
       "4 2024-09-24    Evening  ITM002   CTG002      Robert Tabone   \n",
       "\n",
       "   Inventory Discrepancy      Month   DateTime  Day    Weekday  \n",
       "0                     -4        May 2024-05-29   29  Wednesday  \n",
       "1                     -5     August 2024-08-23   23     Friday  \n",
       "2                      0        May 2024-05-12   12     Sunday  \n",
       "3                     -4      March 2024-03-27   27  Wednesday  \n",
       "4                      2  September 2024-09-24   24    Tuesday  "
      ]
     },
     "execution_count": 93,
     "metadata": {},
     "output_type": "execute_result"
    }
   ],
   "source": [
    "# Extract weekday name\n",
    "df[\"Weekday\"] = df[\"Date\"].dt.day_name()\n",
    "# Group by weekday and sum Inventory Discrepancy\n",
    "df_grouped = df.groupby(\"Weekday\")[\"Inventory Discrepancy\"].sum().reset_index()\n",
    "# Define weekday order\n",
    "weekday_order = [\"Monday\", \"Tuesday\", \"Wednesday\", \"Thursday\", \"Friday\", \"Saturday\", \"Sunday\"]\n",
    "# Create a category type with our custom order\n",
    "df_grouped[\"Weekday\"] = pd.Categorical(df_grouped[\"Weekday\"], categories=weekday_order, ordered=True)\n",
    "\n",
    "# Sort by our ordered category\n",
    "df_grouped = df_grouped.sort_values(\"Weekday\")\n",
    "\n",
    "# # Create color sequence to match your original\n",
    "# colors = [\"skyblue\", \"orange\", \"green\", \"red\", \"purple\", \"pink\", \"brown\"]\n",
    "\n",
    "df.head()"
   ]
  },
  {
   "cell_type": "code",
   "execution_count": 94,
   "metadata": {},
   "outputs": [
    {
     "data": {
      "application/vnd.plotly.v1+json": {
       "config": {
        "plotlyServerURL": "https://plot.ly"
       },
       "data": [
        {
         "hovertemplate": "Day of the Week=%{x}<br>Total Inventory Discrepancy=%{marker.color}<extra></extra>",
         "legendgroup": "",
         "marker": {
          "color": {
           "bdata": "DKJQ2TT1Kg==",
           "dtype": "i1"
          },
          "coloraxis": "coloraxis",
          "pattern": {
           "shape": ""
          }
         },
         "name": "",
         "orientation": "v",
         "showlegend": false,
         "textposition": "auto",
         "type": "bar",
         "x": [
          "Monday",
          "Tuesday",
          "Wednesday",
          "Thursday",
          "Friday",
          "Saturday",
          "Sunday"
         ],
         "xaxis": "x",
         "y": {
          "bdata": "DKJQ2TT1Kg==",
          "dtype": "i1"
         },
         "yaxis": "y"
        }
       ],
       "layout": {
        "barmode": "relative",
        "coloraxis": {
         "colorbar": {
          "title": {
           "text": "Total Inventory Discrepancy"
          }
         },
         "colorscale": [
          [
           0,
           "red"
          ],
          [
           1,
           "blue"
          ]
         ]
        },
        "font": {
         "color": "white"
        },
        "legend": {
         "tracegroupgap": 0
        },
        "paper_bgcolor": "black",
        "plot_bgcolor": "black",
        "template": {
         "data": {
          "bar": [
           {
            "error_x": {
             "color": "#2a3f5f"
            },
            "error_y": {
             "color": "#2a3f5f"
            },
            "marker": {
             "line": {
              "color": "#E5ECF6",
              "width": 0.5
             },
             "pattern": {
              "fillmode": "overlay",
              "size": 10,
              "solidity": 0.2
             }
            },
            "type": "bar"
           }
          ],
          "barpolar": [
           {
            "marker": {
             "line": {
              "color": "#E5ECF6",
              "width": 0.5
             },
             "pattern": {
              "fillmode": "overlay",
              "size": 10,
              "solidity": 0.2
             }
            },
            "type": "barpolar"
           }
          ],
          "carpet": [
           {
            "aaxis": {
             "endlinecolor": "#2a3f5f",
             "gridcolor": "white",
             "linecolor": "white",
             "minorgridcolor": "white",
             "startlinecolor": "#2a3f5f"
            },
            "baxis": {
             "endlinecolor": "#2a3f5f",
             "gridcolor": "white",
             "linecolor": "white",
             "minorgridcolor": "white",
             "startlinecolor": "#2a3f5f"
            },
            "type": "carpet"
           }
          ],
          "choropleth": [
           {
            "colorbar": {
             "outlinewidth": 0,
             "ticks": ""
            },
            "type": "choropleth"
           }
          ],
          "contour": [
           {
            "colorbar": {
             "outlinewidth": 0,
             "ticks": ""
            },
            "colorscale": [
             [
              0,
              "#0d0887"
             ],
             [
              0.1111111111111111,
              "#46039f"
             ],
             [
              0.2222222222222222,
              "#7201a8"
             ],
             [
              0.3333333333333333,
              "#9c179e"
             ],
             [
              0.4444444444444444,
              "#bd3786"
             ],
             [
              0.5555555555555556,
              "#d8576b"
             ],
             [
              0.6666666666666666,
              "#ed7953"
             ],
             [
              0.7777777777777778,
              "#fb9f3a"
             ],
             [
              0.8888888888888888,
              "#fdca26"
             ],
             [
              1,
              "#f0f921"
             ]
            ],
            "type": "contour"
           }
          ],
          "contourcarpet": [
           {
            "colorbar": {
             "outlinewidth": 0,
             "ticks": ""
            },
            "type": "contourcarpet"
           }
          ],
          "heatmap": [
           {
            "colorbar": {
             "outlinewidth": 0,
             "ticks": ""
            },
            "colorscale": [
             [
              0,
              "#0d0887"
             ],
             [
              0.1111111111111111,
              "#46039f"
             ],
             [
              0.2222222222222222,
              "#7201a8"
             ],
             [
              0.3333333333333333,
              "#9c179e"
             ],
             [
              0.4444444444444444,
              "#bd3786"
             ],
             [
              0.5555555555555556,
              "#d8576b"
             ],
             [
              0.6666666666666666,
              "#ed7953"
             ],
             [
              0.7777777777777778,
              "#fb9f3a"
             ],
             [
              0.8888888888888888,
              "#fdca26"
             ],
             [
              1,
              "#f0f921"
             ]
            ],
            "type": "heatmap"
           }
          ],
          "histogram": [
           {
            "marker": {
             "pattern": {
              "fillmode": "overlay",
              "size": 10,
              "solidity": 0.2
             }
            },
            "type": "histogram"
           }
          ],
          "histogram2d": [
           {
            "colorbar": {
             "outlinewidth": 0,
             "ticks": ""
            },
            "colorscale": [
             [
              0,
              "#0d0887"
             ],
             [
              0.1111111111111111,
              "#46039f"
             ],
             [
              0.2222222222222222,
              "#7201a8"
             ],
             [
              0.3333333333333333,
              "#9c179e"
             ],
             [
              0.4444444444444444,
              "#bd3786"
             ],
             [
              0.5555555555555556,
              "#d8576b"
             ],
             [
              0.6666666666666666,
              "#ed7953"
             ],
             [
              0.7777777777777778,
              "#fb9f3a"
             ],
             [
              0.8888888888888888,
              "#fdca26"
             ],
             [
              1,
              "#f0f921"
             ]
            ],
            "type": "histogram2d"
           }
          ],
          "histogram2dcontour": [
           {
            "colorbar": {
             "outlinewidth": 0,
             "ticks": ""
            },
            "colorscale": [
             [
              0,
              "#0d0887"
             ],
             [
              0.1111111111111111,
              "#46039f"
             ],
             [
              0.2222222222222222,
              "#7201a8"
             ],
             [
              0.3333333333333333,
              "#9c179e"
             ],
             [
              0.4444444444444444,
              "#bd3786"
             ],
             [
              0.5555555555555556,
              "#d8576b"
             ],
             [
              0.6666666666666666,
              "#ed7953"
             ],
             [
              0.7777777777777778,
              "#fb9f3a"
             ],
             [
              0.8888888888888888,
              "#fdca26"
             ],
             [
              1,
              "#f0f921"
             ]
            ],
            "type": "histogram2dcontour"
           }
          ],
          "mesh3d": [
           {
            "colorbar": {
             "outlinewidth": 0,
             "ticks": ""
            },
            "type": "mesh3d"
           }
          ],
          "parcoords": [
           {
            "line": {
             "colorbar": {
              "outlinewidth": 0,
              "ticks": ""
             }
            },
            "type": "parcoords"
           }
          ],
          "pie": [
           {
            "automargin": true,
            "type": "pie"
           }
          ],
          "scatter": [
           {
            "fillpattern": {
             "fillmode": "overlay",
             "size": 10,
             "solidity": 0.2
            },
            "type": "scatter"
           }
          ],
          "scatter3d": [
           {
            "line": {
             "colorbar": {
              "outlinewidth": 0,
              "ticks": ""
             }
            },
            "marker": {
             "colorbar": {
              "outlinewidth": 0,
              "ticks": ""
             }
            },
            "type": "scatter3d"
           }
          ],
          "scattercarpet": [
           {
            "marker": {
             "colorbar": {
              "outlinewidth": 0,
              "ticks": ""
             }
            },
            "type": "scattercarpet"
           }
          ],
          "scattergeo": [
           {
            "marker": {
             "colorbar": {
              "outlinewidth": 0,
              "ticks": ""
             }
            },
            "type": "scattergeo"
           }
          ],
          "scattergl": [
           {
            "marker": {
             "colorbar": {
              "outlinewidth": 0,
              "ticks": ""
             }
            },
            "type": "scattergl"
           }
          ],
          "scattermap": [
           {
            "marker": {
             "colorbar": {
              "outlinewidth": 0,
              "ticks": ""
             }
            },
            "type": "scattermap"
           }
          ],
          "scattermapbox": [
           {
            "marker": {
             "colorbar": {
              "outlinewidth": 0,
              "ticks": ""
             }
            },
            "type": "scattermapbox"
           }
          ],
          "scatterpolar": [
           {
            "marker": {
             "colorbar": {
              "outlinewidth": 0,
              "ticks": ""
             }
            },
            "type": "scatterpolar"
           }
          ],
          "scatterpolargl": [
           {
            "marker": {
             "colorbar": {
              "outlinewidth": 0,
              "ticks": ""
             }
            },
            "type": "scatterpolargl"
           }
          ],
          "scatterternary": [
           {
            "marker": {
             "colorbar": {
              "outlinewidth": 0,
              "ticks": ""
             }
            },
            "type": "scatterternary"
           }
          ],
          "surface": [
           {
            "colorbar": {
             "outlinewidth": 0,
             "ticks": ""
            },
            "colorscale": [
             [
              0,
              "#0d0887"
             ],
             [
              0.1111111111111111,
              "#46039f"
             ],
             [
              0.2222222222222222,
              "#7201a8"
             ],
             [
              0.3333333333333333,
              "#9c179e"
             ],
             [
              0.4444444444444444,
              "#bd3786"
             ],
             [
              0.5555555555555556,
              "#d8576b"
             ],
             [
              0.6666666666666666,
              "#ed7953"
             ],
             [
              0.7777777777777778,
              "#fb9f3a"
             ],
             [
              0.8888888888888888,
              "#fdca26"
             ],
             [
              1,
              "#f0f921"
             ]
            ],
            "type": "surface"
           }
          ],
          "table": [
           {
            "cells": {
             "fill": {
              "color": "#EBF0F8"
             },
             "line": {
              "color": "white"
             }
            },
            "header": {
             "fill": {
              "color": "#C8D4E3"
             },
             "line": {
              "color": "white"
             }
            },
            "type": "table"
           }
          ]
         },
         "layout": {
          "annotationdefaults": {
           "arrowcolor": "#2a3f5f",
           "arrowhead": 0,
           "arrowwidth": 1
          },
          "autotypenumbers": "strict",
          "coloraxis": {
           "colorbar": {
            "outlinewidth": 0,
            "ticks": ""
           }
          },
          "colorscale": {
           "diverging": [
            [
             0,
             "#8e0152"
            ],
            [
             0.1,
             "#c51b7d"
            ],
            [
             0.2,
             "#de77ae"
            ],
            [
             0.3,
             "#f1b6da"
            ],
            [
             0.4,
             "#fde0ef"
            ],
            [
             0.5,
             "#f7f7f7"
            ],
            [
             0.6,
             "#e6f5d0"
            ],
            [
             0.7,
             "#b8e186"
            ],
            [
             0.8,
             "#7fbc41"
            ],
            [
             0.9,
             "#4d9221"
            ],
            [
             1,
             "#276419"
            ]
           ],
           "sequential": [
            [
             0,
             "#0d0887"
            ],
            [
             0.1111111111111111,
             "#46039f"
            ],
            [
             0.2222222222222222,
             "#7201a8"
            ],
            [
             0.3333333333333333,
             "#9c179e"
            ],
            [
             0.4444444444444444,
             "#bd3786"
            ],
            [
             0.5555555555555556,
             "#d8576b"
            ],
            [
             0.6666666666666666,
             "#ed7953"
            ],
            [
             0.7777777777777778,
             "#fb9f3a"
            ],
            [
             0.8888888888888888,
             "#fdca26"
            ],
            [
             1,
             "#f0f921"
            ]
           ],
           "sequentialminus": [
            [
             0,
             "#0d0887"
            ],
            [
             0.1111111111111111,
             "#46039f"
            ],
            [
             0.2222222222222222,
             "#7201a8"
            ],
            [
             0.3333333333333333,
             "#9c179e"
            ],
            [
             0.4444444444444444,
             "#bd3786"
            ],
            [
             0.5555555555555556,
             "#d8576b"
            ],
            [
             0.6666666666666666,
             "#ed7953"
            ],
            [
             0.7777777777777778,
             "#fb9f3a"
            ],
            [
             0.8888888888888888,
             "#fdca26"
            ],
            [
             1,
             "#f0f921"
            ]
           ]
          },
          "colorway": [
           "#636efa",
           "#EF553B",
           "#00cc96",
           "#ab63fa",
           "#FFA15A",
           "#19d3f3",
           "#FF6692",
           "#B6E880",
           "#FF97FF",
           "#FECB52"
          ],
          "font": {
           "color": "#2a3f5f"
          },
          "geo": {
           "bgcolor": "white",
           "lakecolor": "white",
           "landcolor": "#E5ECF6",
           "showlakes": true,
           "showland": true,
           "subunitcolor": "white"
          },
          "hoverlabel": {
           "align": "left"
          },
          "hovermode": "closest",
          "mapbox": {
           "style": "light"
          },
          "paper_bgcolor": "white",
          "plot_bgcolor": "#E5ECF6",
          "polar": {
           "angularaxis": {
            "gridcolor": "white",
            "linecolor": "white",
            "ticks": ""
           },
           "bgcolor": "#E5ECF6",
           "radialaxis": {
            "gridcolor": "white",
            "linecolor": "white",
            "ticks": ""
           }
          },
          "scene": {
           "xaxis": {
            "backgroundcolor": "#E5ECF6",
            "gridcolor": "white",
            "gridwidth": 2,
            "linecolor": "white",
            "showbackground": true,
            "ticks": "",
            "zerolinecolor": "white"
           },
           "yaxis": {
            "backgroundcolor": "#E5ECF6",
            "gridcolor": "white",
            "gridwidth": 2,
            "linecolor": "white",
            "showbackground": true,
            "ticks": "",
            "zerolinecolor": "white"
           },
           "zaxis": {
            "backgroundcolor": "#E5ECF6",
            "gridcolor": "white",
            "gridwidth": 2,
            "linecolor": "white",
            "showbackground": true,
            "ticks": "",
            "zerolinecolor": "white"
           }
          },
          "shapedefaults": {
           "line": {
            "color": "#2a3f5f"
           }
          },
          "ternary": {
           "aaxis": {
            "gridcolor": "white",
            "linecolor": "white",
            "ticks": ""
           },
           "baxis": {
            "gridcolor": "white",
            "linecolor": "white",
            "ticks": ""
           },
           "bgcolor": "#E5ECF6",
           "caxis": {
            "gridcolor": "white",
            "linecolor": "white",
            "ticks": ""
           }
          },
          "title": {
           "x": 0.05
          },
          "xaxis": {
           "automargin": true,
           "gridcolor": "white",
           "linecolor": "white",
           "ticks": "",
           "title": {
            "standoff": 15
           },
           "zerolinecolor": "white",
           "zerolinewidth": 2
          },
          "yaxis": {
           "automargin": true,
           "gridcolor": "white",
           "linecolor": "white",
           "ticks": "",
           "title": {
            "standoff": 15
           },
           "zerolinecolor": "white",
           "zerolinewidth": 2
          }
         }
        },
        "title": {
         "text": "Inventory Discrepancy by Day of the Week"
        },
        "xaxis": {
         "anchor": "y",
         "domain": [
          0,
          1
         ],
         "title": {
          "text": "Day of the Week"
         }
        },
        "yaxis": {
         "anchor": "x",
         "domain": [
          0,
          1
         ],
         "gridcolor": "rgba(255,255,255,0.2)",
         "gridwidth": 1,
         "showgrid": true,
         "title": {
          "text": "Total Inventory Discrepancy"
         }
        }
       }
      }
     },
     "metadata": {},
     "output_type": "display_data"
    }
   ],
   "source": [
    "# Create the bar chart\n",
    "Bar_fig = px.bar(\n",
    "    df_grouped,\n",
    "    x=\"Weekday\",\n",
    "    y=\"Inventory Discrepancy\",\n",
    "    title=\"Inventory Discrepancy by Day of the Week\",\n",
    "    color=\"Inventory Discrepancy\",  # Color by value\n",
    "    color_continuous_scale=['red', 'blue'],  # Red for negative, blue for positive\n",
    "    labels={\"Weekday\": \"Day of the Week\", \"Inventory Discrepancy\": \"Total Inventory Discrepancy\"}\n",
    ")\n",
    "\n",
    "# Update layout for dark background\n",
    "Bar_fig.update_layout(\n",
    "    plot_bgcolor=\"black\",  # Set plot background to black\n",
    "    paper_bgcolor=\"black\",  # Set entire figure background to black\n",
    "    font=dict(color=\"white\")  # Set text color to white for contrast\n",
    ")\n",
    "\n",
    "# Add grid lines\n",
    "Bar_fig.update_yaxes(showgrid=True, gridwidth=1, gridcolor='rgba(255,255,255,0.2)')\n",
    "\n",
    "component0 = pn.panel(Bar_fig)\n",
    "# Display the figure\n",
    "Bar_fig\n"
   ]
  },
  {
   "cell_type": "markdown",
   "metadata": {},
   "source": [
    "allover the week tuesdays were for losing items . about 94 item were missed   "
   ]
  },
  {
   "cell_type": "markdown",
   "metadata": {},
   "source": [
    "### staff sum of recorded stocks  allover the year (Bar2_fig)"
   ]
  },
  {
   "cell_type": "code",
   "execution_count": 95,
   "metadata": {},
   "outputs": [
    {
     "data": {
      "text/html": [
       "<div>\n",
       "<style scoped>\n",
       "    .dataframe tbody tr th:only-of-type {\n",
       "        vertical-align: middle;\n",
       "    }\n",
       "\n",
       "    .dataframe tbody tr th {\n",
       "        vertical-align: top;\n",
       "    }\n",
       "\n",
       "    .dataframe thead th {\n",
       "        text-align: right;\n",
       "    }\n",
       "</style>\n",
       "<table border=\"1\" class=\"dataframe\">\n",
       "  <thead>\n",
       "    <tr style=\"text-align: right;\">\n",
       "      <th></th>\n",
       "      <th>Inventory Discrepancy</th>\n",
       "    </tr>\n",
       "    <tr>\n",
       "      <th>Responsible Staff</th>\n",
       "      <th></th>\n",
       "    </tr>\n",
       "  </thead>\n",
       "  <tbody>\n",
       "    <tr>\n",
       "      <th>Aaron Vella</th>\n",
       "      <td>8</td>\n",
       "    </tr>\n",
       "    <tr>\n",
       "      <th>Andrew Cauchi</th>\n",
       "      <td>28</td>\n",
       "    </tr>\n",
       "    <tr>\n",
       "      <th>Franklin Attard</th>\n",
       "      <td>-39</td>\n",
       "    </tr>\n",
       "    <tr>\n",
       "      <th>Jean-Pierre Ellul</th>\n",
       "      <td>-11</td>\n",
       "    </tr>\n",
       "    <tr>\n",
       "      <th>Robert Tabone</th>\n",
       "      <td>31</td>\n",
       "    </tr>\n",
       "    <tr>\n",
       "      <th>Simon Fenech</th>\n",
       "      <td>25</td>\n",
       "    </tr>\n",
       "  </tbody>\n",
       "</table>\n",
       "</div>"
      ],
      "text/plain": [
       "                   Inventory Discrepancy\n",
       "Responsible Staff                       \n",
       "Aaron Vella                            8\n",
       "Andrew Cauchi                         28\n",
       "Franklin Attard                      -39\n",
       "Jean-Pierre Ellul                    -11\n",
       "Robert Tabone                         31\n",
       "Simon Fenech                          25"
      ]
     },
     "execution_count": 95,
     "metadata": {},
     "output_type": "execute_result"
    }
   ],
   "source": [
    "#Inventory Discrepancy per staff\n",
    "df_miss_perstaff=df.groupby(\"Responsible Staff\").agg({\n",
    "    'Inventory Discrepancy': 'sum'\n",
    "})\n",
    "df_miss_perstaff.head(10)"
   ]
  },
  {
   "cell_type": "markdown",
   "metadata": {},
   "source": [
    "franklin & jean were responsible for most missing recordes  ( 39 , 11)"
   ]
  },
  {
   "cell_type": "markdown",
   "metadata": {},
   "source": [
    "### shifts and responsible staff (Line_fig)"
   ]
  },
  {
   "cell_type": "code",
   "execution_count": 96,
   "metadata": {},
   "outputs": [
    {
     "data": {
      "text/html": [
       "<div>\n",
       "<style scoped>\n",
       "    .dataframe tbody tr th:only-of-type {\n",
       "        vertical-align: middle;\n",
       "    }\n",
       "\n",
       "    .dataframe tbody tr th {\n",
       "        vertical-align: top;\n",
       "    }\n",
       "\n",
       "    .dataframe thead th {\n",
       "        text-align: right;\n",
       "    }\n",
       "</style>\n",
       "<table border=\"1\" class=\"dataframe\">\n",
       "  <thead>\n",
       "    <tr style=\"text-align: right;\">\n",
       "      <th>Time</th>\n",
       "      <th>Afternoon</th>\n",
       "      <th>Evening</th>\n",
       "      <th>Morning</th>\n",
       "      <th>Total Shifts</th>\n",
       "    </tr>\n",
       "    <tr>\n",
       "      <th>Responsible Staff</th>\n",
       "      <th></th>\n",
       "      <th></th>\n",
       "      <th></th>\n",
       "      <th></th>\n",
       "    </tr>\n",
       "  </thead>\n",
       "  <tbody>\n",
       "    <tr>\n",
       "      <th>Aaron Vella</th>\n",
       "      <td>103</td>\n",
       "      <td>107</td>\n",
       "      <td>104</td>\n",
       "      <td>314</td>\n",
       "    </tr>\n",
       "    <tr>\n",
       "      <th>Andrew Cauchi</th>\n",
       "      <td>110</td>\n",
       "      <td>106</td>\n",
       "      <td>96</td>\n",
       "      <td>312</td>\n",
       "    </tr>\n",
       "    <tr>\n",
       "      <th>Franklin Attard</th>\n",
       "      <td>115</td>\n",
       "      <td>98</td>\n",
       "      <td>106</td>\n",
       "      <td>319</td>\n",
       "    </tr>\n",
       "    <tr>\n",
       "      <th>Jean-Pierre Ellul</th>\n",
       "      <td>106</td>\n",
       "      <td>140</td>\n",
       "      <td>122</td>\n",
       "      <td>368</td>\n",
       "    </tr>\n",
       "    <tr>\n",
       "      <th>Robert Tabone</th>\n",
       "      <td>106</td>\n",
       "      <td>124</td>\n",
       "      <td>123</td>\n",
       "      <td>353</td>\n",
       "    </tr>\n",
       "    <tr>\n",
       "      <th>Simon Fenech</th>\n",
       "      <td>104</td>\n",
       "      <td>102</td>\n",
       "      <td>128</td>\n",
       "      <td>334</td>\n",
       "    </tr>\n",
       "  </tbody>\n",
       "</table>\n",
       "</div>"
      ],
      "text/plain": [
       "Time               Afternoon  Evening  Morning  Total Shifts\n",
       "Responsible Staff                                           \n",
       "Aaron Vella              103      107      104           314\n",
       "Andrew Cauchi            110      106       96           312\n",
       "Franklin Attard          115       98      106           319\n",
       "Jean-Pierre Ellul        106      140      122           368\n",
       "Robert Tabone            106      124      123           353\n",
       "Simon Fenech             104      102      128           334"
      ]
     },
     "execution_count": 96,
     "metadata": {},
     "output_type": "execute_result"
    }
   ],
   "source": [
    "#staff per shift\n",
    "df_staff_shifts = df.groupby([\"Responsible Staff\", \"Time\"]).size().unstack(fill_value=0)\n",
    "df_staff_shifts[\"Total Shifts\"] = df_staff_shifts.sum(axis=1)\n",
    "df_staff_shifts.head(10)"
   ]
  },
  {
   "cell_type": "code",
   "execution_count": 97,
   "metadata": {},
   "outputs": [
    {
     "data": {
      "application/vnd.plotly.v1+json": {
       "config": {
        "plotlyServerURL": "https://plot.ly"
       },
       "data": [
        {
         "hovertemplate": "<b>%{x} Shift</b><br>Aaron Vella: %{y}<extra></extra>",
         "line": {
          "color": "blue",
          "width": 2
         },
         "marker": {
          "color": "blue",
          "size": 8
         },
         "mode": "lines+markers",
         "name": "Aaron Vella",
         "type": "scatter",
         "x": [
          "Morning",
          "Afternoon",
          "Evening"
         ],
         "y": [
          104,
          103,
          107
         ]
        },
        {
         "hovertemplate": "<b>%{x} Shift</b><br>Andrew Cauchi: %{y}<extra></extra>",
         "line": {
          "color": "red",
          "width": 2
         },
         "marker": {
          "color": "red",
          "size": 8
         },
         "mode": "lines+markers",
         "name": "Andrew Cauchi",
         "type": "scatter",
         "x": [
          "Morning",
          "Afternoon",
          "Evening"
         ],
         "y": [
          96,
          110,
          106
         ]
        },
        {
         "hovertemplate": "<b>%{x} Shift</b><br>Franklin Attard: %{y}<extra></extra>",
         "line": {
          "color": "green",
          "width": 2
         },
         "marker": {
          "color": "green",
          "size": 8
         },
         "mode": "lines+markers",
         "name": "Franklin Attard",
         "type": "scatter",
         "x": [
          "Morning",
          "Afternoon",
          "Evening"
         ],
         "y": [
          106,
          115,
          98
         ]
        },
        {
         "hovertemplate": "<b>%{x} Shift</b><br>Jean-Pierre Ellul: %{y}<extra></extra>",
         "line": {
          "color": "purple",
          "width": 2
         },
         "marker": {
          "color": "purple",
          "size": 8
         },
         "mode": "lines+markers",
         "name": "Jean-Pierre Ellul",
         "type": "scatter",
         "x": [
          "Morning",
          "Afternoon",
          "Evening"
         ],
         "y": [
          122,
          106,
          140
         ]
        },
        {
         "hovertemplate": "<b>%{x} Shift</b><br>Robert Tabone: %{y}<extra></extra>",
         "line": {
          "color": "orange",
          "width": 2
         },
         "marker": {
          "color": "orange",
          "size": 8
         },
         "mode": "lines+markers",
         "name": "Robert Tabone",
         "type": "scatter",
         "x": [
          "Morning",
          "Afternoon",
          "Evening"
         ],
         "y": [
          123,
          106,
          124
         ]
        },
        {
         "hovertemplate": "<b>%{x} Shift</b><br>Simon Fenech: %{y}<extra></extra>",
         "line": {
          "color": "brown",
          "width": 2
         },
         "marker": {
          "color": "brown",
          "size": 8
         },
         "mode": "lines+markers",
         "name": "Simon Fenech",
         "type": "scatter",
         "x": [
          "Morning",
          "Afternoon",
          "Evening"
         ],
         "y": [
          128,
          104,
          102
         ]
        }
       ],
       "layout": {
        "height": 600,
        "hovermode": "closest",
        "legend": {
         "title": {
          "text": "Staff Members"
         }
        },
        "template": {
         "data": {
          "bar": [
           {
            "error_x": {
             "color": "#2a3f5f"
            },
            "error_y": {
             "color": "#2a3f5f"
            },
            "marker": {
             "line": {
              "color": "#E5ECF6",
              "width": 0.5
             },
             "pattern": {
              "fillmode": "overlay",
              "size": 10,
              "solidity": 0.2
             }
            },
            "type": "bar"
           }
          ],
          "barpolar": [
           {
            "marker": {
             "line": {
              "color": "#E5ECF6",
              "width": 0.5
             },
             "pattern": {
              "fillmode": "overlay",
              "size": 10,
              "solidity": 0.2
             }
            },
            "type": "barpolar"
           }
          ],
          "carpet": [
           {
            "aaxis": {
             "endlinecolor": "#2a3f5f",
             "gridcolor": "white",
             "linecolor": "white",
             "minorgridcolor": "white",
             "startlinecolor": "#2a3f5f"
            },
            "baxis": {
             "endlinecolor": "#2a3f5f",
             "gridcolor": "white",
             "linecolor": "white",
             "minorgridcolor": "white",
             "startlinecolor": "#2a3f5f"
            },
            "type": "carpet"
           }
          ],
          "choropleth": [
           {
            "colorbar": {
             "outlinewidth": 0,
             "ticks": ""
            },
            "type": "choropleth"
           }
          ],
          "contour": [
           {
            "colorbar": {
             "outlinewidth": 0,
             "ticks": ""
            },
            "colorscale": [
             [
              0,
              "#0d0887"
             ],
             [
              0.1111111111111111,
              "#46039f"
             ],
             [
              0.2222222222222222,
              "#7201a8"
             ],
             [
              0.3333333333333333,
              "#9c179e"
             ],
             [
              0.4444444444444444,
              "#bd3786"
             ],
             [
              0.5555555555555556,
              "#d8576b"
             ],
             [
              0.6666666666666666,
              "#ed7953"
             ],
             [
              0.7777777777777778,
              "#fb9f3a"
             ],
             [
              0.8888888888888888,
              "#fdca26"
             ],
             [
              1,
              "#f0f921"
             ]
            ],
            "type": "contour"
           }
          ],
          "contourcarpet": [
           {
            "colorbar": {
             "outlinewidth": 0,
             "ticks": ""
            },
            "type": "contourcarpet"
           }
          ],
          "heatmap": [
           {
            "colorbar": {
             "outlinewidth": 0,
             "ticks": ""
            },
            "colorscale": [
             [
              0,
              "#0d0887"
             ],
             [
              0.1111111111111111,
              "#46039f"
             ],
             [
              0.2222222222222222,
              "#7201a8"
             ],
             [
              0.3333333333333333,
              "#9c179e"
             ],
             [
              0.4444444444444444,
              "#bd3786"
             ],
             [
              0.5555555555555556,
              "#d8576b"
             ],
             [
              0.6666666666666666,
              "#ed7953"
             ],
             [
              0.7777777777777778,
              "#fb9f3a"
             ],
             [
              0.8888888888888888,
              "#fdca26"
             ],
             [
              1,
              "#f0f921"
             ]
            ],
            "type": "heatmap"
           }
          ],
          "histogram": [
           {
            "marker": {
             "pattern": {
              "fillmode": "overlay",
              "size": 10,
              "solidity": 0.2
             }
            },
            "type": "histogram"
           }
          ],
          "histogram2d": [
           {
            "colorbar": {
             "outlinewidth": 0,
             "ticks": ""
            },
            "colorscale": [
             [
              0,
              "#0d0887"
             ],
             [
              0.1111111111111111,
              "#46039f"
             ],
             [
              0.2222222222222222,
              "#7201a8"
             ],
             [
              0.3333333333333333,
              "#9c179e"
             ],
             [
              0.4444444444444444,
              "#bd3786"
             ],
             [
              0.5555555555555556,
              "#d8576b"
             ],
             [
              0.6666666666666666,
              "#ed7953"
             ],
             [
              0.7777777777777778,
              "#fb9f3a"
             ],
             [
              0.8888888888888888,
              "#fdca26"
             ],
             [
              1,
              "#f0f921"
             ]
            ],
            "type": "histogram2d"
           }
          ],
          "histogram2dcontour": [
           {
            "colorbar": {
             "outlinewidth": 0,
             "ticks": ""
            },
            "colorscale": [
             [
              0,
              "#0d0887"
             ],
             [
              0.1111111111111111,
              "#46039f"
             ],
             [
              0.2222222222222222,
              "#7201a8"
             ],
             [
              0.3333333333333333,
              "#9c179e"
             ],
             [
              0.4444444444444444,
              "#bd3786"
             ],
             [
              0.5555555555555556,
              "#d8576b"
             ],
             [
              0.6666666666666666,
              "#ed7953"
             ],
             [
              0.7777777777777778,
              "#fb9f3a"
             ],
             [
              0.8888888888888888,
              "#fdca26"
             ],
             [
              1,
              "#f0f921"
             ]
            ],
            "type": "histogram2dcontour"
           }
          ],
          "mesh3d": [
           {
            "colorbar": {
             "outlinewidth": 0,
             "ticks": ""
            },
            "type": "mesh3d"
           }
          ],
          "parcoords": [
           {
            "line": {
             "colorbar": {
              "outlinewidth": 0,
              "ticks": ""
             }
            },
            "type": "parcoords"
           }
          ],
          "pie": [
           {
            "automargin": true,
            "type": "pie"
           }
          ],
          "scatter": [
           {
            "fillpattern": {
             "fillmode": "overlay",
             "size": 10,
             "solidity": 0.2
            },
            "type": "scatter"
           }
          ],
          "scatter3d": [
           {
            "line": {
             "colorbar": {
              "outlinewidth": 0,
              "ticks": ""
             }
            },
            "marker": {
             "colorbar": {
              "outlinewidth": 0,
              "ticks": ""
             }
            },
            "type": "scatter3d"
           }
          ],
          "scattercarpet": [
           {
            "marker": {
             "colorbar": {
              "outlinewidth": 0,
              "ticks": ""
             }
            },
            "type": "scattercarpet"
           }
          ],
          "scattergeo": [
           {
            "marker": {
             "colorbar": {
              "outlinewidth": 0,
              "ticks": ""
             }
            },
            "type": "scattergeo"
           }
          ],
          "scattergl": [
           {
            "marker": {
             "colorbar": {
              "outlinewidth": 0,
              "ticks": ""
             }
            },
            "type": "scattergl"
           }
          ],
          "scattermap": [
           {
            "marker": {
             "colorbar": {
              "outlinewidth": 0,
              "ticks": ""
             }
            },
            "type": "scattermap"
           }
          ],
          "scattermapbox": [
           {
            "marker": {
             "colorbar": {
              "outlinewidth": 0,
              "ticks": ""
             }
            },
            "type": "scattermapbox"
           }
          ],
          "scatterpolar": [
           {
            "marker": {
             "colorbar": {
              "outlinewidth": 0,
              "ticks": ""
             }
            },
            "type": "scatterpolar"
           }
          ],
          "scatterpolargl": [
           {
            "marker": {
             "colorbar": {
              "outlinewidth": 0,
              "ticks": ""
             }
            },
            "type": "scatterpolargl"
           }
          ],
          "scatterternary": [
           {
            "marker": {
             "colorbar": {
              "outlinewidth": 0,
              "ticks": ""
             }
            },
            "type": "scatterternary"
           }
          ],
          "surface": [
           {
            "colorbar": {
             "outlinewidth": 0,
             "ticks": ""
            },
            "colorscale": [
             [
              0,
              "#0d0887"
             ],
             [
              0.1111111111111111,
              "#46039f"
             ],
             [
              0.2222222222222222,
              "#7201a8"
             ],
             [
              0.3333333333333333,
              "#9c179e"
             ],
             [
              0.4444444444444444,
              "#bd3786"
             ],
             [
              0.5555555555555556,
              "#d8576b"
             ],
             [
              0.6666666666666666,
              "#ed7953"
             ],
             [
              0.7777777777777778,
              "#fb9f3a"
             ],
             [
              0.8888888888888888,
              "#fdca26"
             ],
             [
              1,
              "#f0f921"
             ]
            ],
            "type": "surface"
           }
          ],
          "table": [
           {
            "cells": {
             "fill": {
              "color": "#EBF0F8"
             },
             "line": {
              "color": "white"
             }
            },
            "header": {
             "fill": {
              "color": "#C8D4E3"
             },
             "line": {
              "color": "white"
             }
            },
            "type": "table"
           }
          ]
         },
         "layout": {
          "annotationdefaults": {
           "arrowcolor": "#2a3f5f",
           "arrowhead": 0,
           "arrowwidth": 1
          },
          "autotypenumbers": "strict",
          "coloraxis": {
           "colorbar": {
            "outlinewidth": 0,
            "ticks": ""
           }
          },
          "colorscale": {
           "diverging": [
            [
             0,
             "#8e0152"
            ],
            [
             0.1,
             "#c51b7d"
            ],
            [
             0.2,
             "#de77ae"
            ],
            [
             0.3,
             "#f1b6da"
            ],
            [
             0.4,
             "#fde0ef"
            ],
            [
             0.5,
             "#f7f7f7"
            ],
            [
             0.6,
             "#e6f5d0"
            ],
            [
             0.7,
             "#b8e186"
            ],
            [
             0.8,
             "#7fbc41"
            ],
            [
             0.9,
             "#4d9221"
            ],
            [
             1,
             "#276419"
            ]
           ],
           "sequential": [
            [
             0,
             "#0d0887"
            ],
            [
             0.1111111111111111,
             "#46039f"
            ],
            [
             0.2222222222222222,
             "#7201a8"
            ],
            [
             0.3333333333333333,
             "#9c179e"
            ],
            [
             0.4444444444444444,
             "#bd3786"
            ],
            [
             0.5555555555555556,
             "#d8576b"
            ],
            [
             0.6666666666666666,
             "#ed7953"
            ],
            [
             0.7777777777777778,
             "#fb9f3a"
            ],
            [
             0.8888888888888888,
             "#fdca26"
            ],
            [
             1,
             "#f0f921"
            ]
           ],
           "sequentialminus": [
            [
             0,
             "#0d0887"
            ],
            [
             0.1111111111111111,
             "#46039f"
            ],
            [
             0.2222222222222222,
             "#7201a8"
            ],
            [
             0.3333333333333333,
             "#9c179e"
            ],
            [
             0.4444444444444444,
             "#bd3786"
            ],
            [
             0.5555555555555556,
             "#d8576b"
            ],
            [
             0.6666666666666666,
             "#ed7953"
            ],
            [
             0.7777777777777778,
             "#fb9f3a"
            ],
            [
             0.8888888888888888,
             "#fdca26"
            ],
            [
             1,
             "#f0f921"
            ]
           ]
          },
          "colorway": [
           "#636efa",
           "#EF553B",
           "#00cc96",
           "#ab63fa",
           "#FFA15A",
           "#19d3f3",
           "#FF6692",
           "#B6E880",
           "#FF97FF",
           "#FECB52"
          ],
          "font": {
           "color": "#2a3f5f"
          },
          "geo": {
           "bgcolor": "white",
           "lakecolor": "white",
           "landcolor": "#E5ECF6",
           "showlakes": true,
           "showland": true,
           "subunitcolor": "white"
          },
          "hoverlabel": {
           "align": "left"
          },
          "hovermode": "closest",
          "mapbox": {
           "style": "light"
          },
          "paper_bgcolor": "white",
          "plot_bgcolor": "#E5ECF6",
          "polar": {
           "angularaxis": {
            "gridcolor": "white",
            "linecolor": "white",
            "ticks": ""
           },
           "bgcolor": "#E5ECF6",
           "radialaxis": {
            "gridcolor": "white",
            "linecolor": "white",
            "ticks": ""
           }
          },
          "scene": {
           "xaxis": {
            "backgroundcolor": "#E5ECF6",
            "gridcolor": "white",
            "gridwidth": 2,
            "linecolor": "white",
            "showbackground": true,
            "ticks": "",
            "zerolinecolor": "white"
           },
           "yaxis": {
            "backgroundcolor": "#E5ECF6",
            "gridcolor": "white",
            "gridwidth": 2,
            "linecolor": "white",
            "showbackground": true,
            "ticks": "",
            "zerolinecolor": "white"
           },
           "zaxis": {
            "backgroundcolor": "#E5ECF6",
            "gridcolor": "white",
            "gridwidth": 2,
            "linecolor": "white",
            "showbackground": true,
            "ticks": "",
            "zerolinecolor": "white"
           }
          },
          "shapedefaults": {
           "line": {
            "color": "#2a3f5f"
           }
          },
          "ternary": {
           "aaxis": {
            "gridcolor": "white",
            "linecolor": "white",
            "ticks": ""
           },
           "baxis": {
            "gridcolor": "white",
            "linecolor": "white",
            "ticks": ""
           },
           "bgcolor": "#E5ECF6",
           "caxis": {
            "gridcolor": "white",
            "linecolor": "white",
            "ticks": ""
           }
          },
          "title": {
           "x": 0.05
          },
          "xaxis": {
           "automargin": true,
           "gridcolor": "white",
           "linecolor": "white",
           "ticks": "",
           "title": {
            "standoff": 15
           },
           "zerolinecolor": "white",
           "zerolinewidth": 2
          },
          "yaxis": {
           "automargin": true,
           "gridcolor": "white",
           "linecolor": "white",
           "ticks": "",
           "title": {
            "standoff": 15
           },
           "zerolinecolor": "white",
           "zerolinewidth": 2
          }
         }
        },
        "title": {
         "text": "Shift Distribution Across Staff Members"
        },
        "width": 800,
        "xaxis": {
         "gridcolor": "rgba(0,0,0,0.1)",
         "gridwidth": 1,
         "showgrid": true,
         "title": {
          "text": "Shifts"
         }
        },
        "yaxis": {
         "gridcolor": "rgba(0,0,0,0.1)",
         "gridwidth": 1,
         "showgrid": true,
         "title": {
          "text": "Shift Distribution"
         }
        }
       }
      }
     },
     "metadata": {},
     "output_type": "display_data"
    }
   ],
   "source": [
    "\n",
    "# Data\n",
    "staff = [\"Aaron Vella\", \"Andrew Cauchi\", \"Franklin Attard\", \"Jean-Pierre Ellul\", \"Robert Tabone\", \"Simon Fenech\"]\n",
    "shifts = [\"Morning\", \"Afternoon\", \"Evening\"]\n",
    "morning = [104, 96, 106, 122, 123, 128]\n",
    "afternoon = [103, 110, 115, 106, 106, 104]\n",
    "evening = [107, 106, 98, 140, 124, 102]\n",
    "\n",
    "# Define custom colors for each staff member\n",
    "colors = ['blue', 'red', 'green', 'purple', 'orange', 'brown']\n",
    "\n",
    "# Create figure with specified name\n",
    "Line_fig = go.Figure()\n",
    "\n",
    "# Add traces for each staff member with specific colors\n",
    "for i, staff_name in enumerate(staff):\n",
    "    y_values = [morning[i], afternoon[i], evening[i]]\n",
    "    Line_fig.add_trace(go.Scatter(\n",
    "        x=shifts,\n",
    "        y=y_values,\n",
    "        mode='lines+markers',\n",
    "        name=staff_name,\n",
    "        line=dict(color=colors[i], width=2),\n",
    "        marker=dict(color=colors[i], size=8),\n",
    "        hovertemplate='<b>%{x} Shift</b><br>' + \n",
    "                     f'{staff_name}: ' + '%{y}<extra></extra>'\n",
    "    ))\n",
    "\n",
    "# Update layout\n",
    "Line_fig.update_layout(\n",
    "    title=\"Shift Distribution Across Staff Members\",\n",
    "    xaxis_title=\"Shifts\",\n",
    "    yaxis_title=\"Shift Distribution\",\n",
    "    legend_title=\"Staff Members\",\n",
    "    height=600,\n",
    "    width=800,\n",
    "    hovermode=\"closest\"\n",
    ")\n",
    "\n",
    "# Add grid lines for better readability\n",
    "Line_fig.update_xaxes(showgrid=True, gridwidth=1, gridcolor='rgba(0,0,0,0.1)')\n",
    "Line_fig.update_yaxes(showgrid=True, gridwidth=1, gridcolor='rgba(0,0,0,0.1)')\n",
    "\n",
    "# Show the figure\n",
    "Line_fig"
   ]
  },
  {
   "cell_type": "markdown",
   "metadata": {},
   "source": [
    "### final stocks of Items"
   ]
  },
  {
   "cell_type": "code",
   "execution_count": 98,
   "metadata": {},
   "outputs": [
    {
     "name": "stderr",
     "output_type": "stream",
     "text": [
      "C:\\Users\\S\\AppData\\Local\\Temp\\ipykernel_3408\\3132821364.py:1: FutureWarning:\n",
      "\n",
      "The provided callable <built-in function sum> is currently using SeriesGroupBy.sum. In a future version of pandas, the provided callable will be used directly. To keep current behavior pass the string \"sum\" instead.\n",
      "\n"
     ]
    },
    {
     "data": {
      "text/html": [
       "<div>\n",
       "<style scoped>\n",
       "    .dataframe tbody tr th:only-of-type {\n",
       "        vertical-align: middle;\n",
       "    }\n",
       "\n",
       "    .dataframe tbody tr th {\n",
       "        vertical-align: top;\n",
       "    }\n",
       "\n",
       "    .dataframe thead th {\n",
       "        text-align: right;\n",
       "    }\n",
       "</style>\n",
       "<table border=\"1\" class=\"dataframe\">\n",
       "  <thead>\n",
       "    <tr style=\"text-align: right;\">\n",
       "      <th></th>\n",
       "      <th></th>\n",
       "      <th>Inventory Discrepancy</th>\n",
       "    </tr>\n",
       "    <tr>\n",
       "      <th>Item ID</th>\n",
       "      <th>Category</th>\n",
       "      <th></th>\n",
       "    </tr>\n",
       "  </thead>\n",
       "  <tbody>\n",
       "    <tr>\n",
       "      <th>ITM001</th>\n",
       "      <th>CTG001</th>\n",
       "      <td>16</td>\n",
       "    </tr>\n",
       "    <tr>\n",
       "      <th>ITM002</th>\n",
       "      <th>CTG002</th>\n",
       "      <td>-71</td>\n",
       "    </tr>\n",
       "    <tr>\n",
       "      <th>ITM003</th>\n",
       "      <th>CTG001</th>\n",
       "      <td>35</td>\n",
       "    </tr>\n",
       "    <tr>\n",
       "      <th>ITM004</th>\n",
       "      <th>CTG003</th>\n",
       "      <td>35</td>\n",
       "    </tr>\n",
       "    <tr>\n",
       "      <th>ITM005</th>\n",
       "      <th>CTG004</th>\n",
       "      <td>-42</td>\n",
       "    </tr>\n",
       "    <tr>\n",
       "      <th>ITM006</th>\n",
       "      <th>CTG001</th>\n",
       "      <td>69</td>\n",
       "    </tr>\n",
       "  </tbody>\n",
       "</table>\n",
       "</div>"
      ],
      "text/plain": [
       "                  Inventory Discrepancy\n",
       "Item ID Category                       \n",
       "ITM001  CTG001                       16\n",
       "ITM002  CTG002                      -71\n",
       "ITM003  CTG001                       35\n",
       "ITM004  CTG003                       35\n",
       "ITM005  CTG004                      -42\n",
       "ITM006  CTG001                       69"
      ]
     },
     "execution_count": 98,
     "metadata": {},
     "output_type": "execute_result"
    }
   ],
   "source": [
    "df_stocks = df.groupby([\"Item ID\", \"Category\"])[\"Inventory Discrepancy\"].agg(sum)\n",
    "pd.DataFrame(df_stocks).head(10)"
   ]
  },
  {
   "cell_type": "markdown",
   "metadata": {},
   "source": [
    "ITM002 & ITM005 are the missed itmes : (Yoga Mat: 71 missing , foam rollers: 42 missing) "
   ]
  },
  {
   "cell_type": "markdown",
   "metadata": {},
   "source": [
    "## the interactive bar chart (fig)"
   ]
  },
  {
   "cell_type": "code",
   "execution_count": 99,
   "metadata": {},
   "outputs": [
    {
     "data": {
      "text/html": [
       "<div>\n",
       "<style scoped>\n",
       "    .dataframe tbody tr th:only-of-type {\n",
       "        vertical-align: middle;\n",
       "    }\n",
       "\n",
       "    .dataframe tbody tr th {\n",
       "        vertical-align: top;\n",
       "    }\n",
       "\n",
       "    .dataframe thead th {\n",
       "        text-align: right;\n",
       "    }\n",
       "</style>\n",
       "<table border=\"1\" class=\"dataframe\">\n",
       "  <thead>\n",
       "    <tr style=\"text-align: right;\">\n",
       "      <th></th>\n",
       "      <th>Time</th>\n",
       "      <th>Month</th>\n",
       "      <th>Responsible Staff</th>\n",
       "      <th>Category</th>\n",
       "      <th>Inventory Discrepancy</th>\n",
       "    </tr>\n",
       "  </thead>\n",
       "  <tbody>\n",
       "    <tr>\n",
       "      <th>0</th>\n",
       "      <td>Evening</td>\n",
       "      <td>May</td>\n",
       "      <td>Robert Tabone</td>\n",
       "      <td>CTG001</td>\n",
       "      <td>-4</td>\n",
       "    </tr>\n",
       "    <tr>\n",
       "      <th>1</th>\n",
       "      <td>Afternoon</td>\n",
       "      <td>August</td>\n",
       "      <td>Simon Fenech</td>\n",
       "      <td>CTG003</td>\n",
       "      <td>-5</td>\n",
       "    </tr>\n",
       "    <tr>\n",
       "      <th>2</th>\n",
       "      <td>Evening</td>\n",
       "      <td>May</td>\n",
       "      <td>Jean-Pierre Ellul</td>\n",
       "      <td>CTG001</td>\n",
       "      <td>0</td>\n",
       "    </tr>\n",
       "    <tr>\n",
       "      <th>3</th>\n",
       "      <td>Evening</td>\n",
       "      <td>March</td>\n",
       "      <td>Andrew Cauchi</td>\n",
       "      <td>CTG001</td>\n",
       "      <td>-4</td>\n",
       "    </tr>\n",
       "    <tr>\n",
       "      <th>4</th>\n",
       "      <td>Evening</td>\n",
       "      <td>September</td>\n",
       "      <td>Robert Tabone</td>\n",
       "      <td>CTG002</td>\n",
       "      <td>2</td>\n",
       "    </tr>\n",
       "  </tbody>\n",
       "</table>\n",
       "</div>"
      ],
      "text/plain": [
       "        Time      Month  Responsible Staff Category  Inventory Discrepancy\n",
       "0    Evening        May      Robert Tabone   CTG001                     -4\n",
       "1  Afternoon     August       Simon Fenech   CTG003                     -5\n",
       "2    Evening        May  Jean-Pierre Ellul   CTG001                      0\n",
       "3    Evening      March      Andrew Cauchi   CTG001                     -4\n",
       "4    Evening  September      Robert Tabone   CTG002                      2"
      ]
     },
     "execution_count": 99,
     "metadata": {},
     "output_type": "execute_result"
    }
   ],
   "source": [
    "#make a df to customize\n",
    "activ_df = pd.DataFrame(df[[\"Time\", \"Month\",\"Responsible Staff\",\"Category\",\"Inventory Discrepancy\"]])\n",
    "activ_df.head()"
   ]
  },
  {
   "cell_type": "code",
   "execution_count": 100,
   "metadata": {},
   "outputs": [
    {
     "data": {
      "application/vnd.jupyter.widget-view+json": {
       "model_id": "6f0b46edbc0d4e2e964a0304096251cd",
       "version_major": 2,
       "version_minor": 0
      },
      "text/plain": [
       "BokehModel(combine_events=True, render_bundle={'docs_json': {'45a36b19-d5a7-41f8-881d-3e1239c3249f': {'version…"
      ]
     },
     "execution_count": 100,
     "metadata": {},
     "output_type": "execute_result"
    }
   ],
   "source": [
    "# Create a vertical radio button group\n",
    "list_dropdown = pn.widgets.RadioButtonGroup(\n",
    "    name=\"Select Data on X axis\",\n",
    "    options=[\"Date\", \"Month\", \"Time\", \"Responsible Staff\", \"Category\", \"Item ID\" , \"Weekday\"],\n",
    "    description=\"select data type to calculate stock for!\",\n",
    "    button_style='outline'\n",
    ")\n",
    "\n",
    "# Wrap in a Panel component (optional, but can help with layout)\n",
    "component1 = pn.panel(list_dropdown)\n",
    "list_dropdown"
   ]
  },
  {
   "cell_type": "code",
   "execution_count": 246,
   "metadata": {},
   "outputs": [
    {
     "data": {
      "application/vnd.plotly.v1+json": {
       "config": {
        "plotlyServerURL": "https://plot.ly"
       },
       "data": [
        {
         "hovertemplate": "Month=%{x}<br>Inventory Discrepancy=%{marker.color}<extra></extra>",
         "legendgroup": "",
         "marker": {
          "color": {
           "bdata": "1fP160Q1MdcB",
           "dtype": "i1"
          },
          "coloraxis": "coloraxis",
          "pattern": {
           "shape": ""
          }
         },
         "name": "",
         "orientation": "v",
         "showlegend": false,
         "textposition": "auto",
         "type": "bar",
         "x": [
          "January",
          "February",
          "March",
          "April",
          "May",
          "June",
          "July",
          "August",
          "September"
         ],
         "xaxis": "x",
         "y": {
          "bdata": "1fP160Q1MdcB",
          "dtype": "i1"
         },
         "yaxis": "y"
        }
       ],
       "layout": {
        "barmode": "relative",
        "coloraxis": {
         "colorbar": {
          "title": {
           "text": "Inventory Discrepancy"
          }
         },
         "colorscale": [
          [
           0,
           "red"
          ],
          [
           1,
           "teal"
          ]
         ]
        },
        "font": {
         "color": "black"
        },
        "height": 500,
        "legend": {
         "tracegroupgap": 0
        },
        "paper_bgcolor": "#f8f8f8",
        "plot_bgcolor": "#f8f8f8",
        "template": {
         "data": {
          "bar": [
           {
            "error_x": {
             "color": "#2a3f5f"
            },
            "error_y": {
             "color": "#2a3f5f"
            },
            "marker": {
             "line": {
              "color": "#E5ECF6",
              "width": 0.5
             },
             "pattern": {
              "fillmode": "overlay",
              "size": 10,
              "solidity": 0.2
             }
            },
            "type": "bar"
           }
          ],
          "barpolar": [
           {
            "marker": {
             "line": {
              "color": "#E5ECF6",
              "width": 0.5
             },
             "pattern": {
              "fillmode": "overlay",
              "size": 10,
              "solidity": 0.2
             }
            },
            "type": "barpolar"
           }
          ],
          "carpet": [
           {
            "aaxis": {
             "endlinecolor": "#2a3f5f",
             "gridcolor": "white",
             "linecolor": "white",
             "minorgridcolor": "white",
             "startlinecolor": "#2a3f5f"
            },
            "baxis": {
             "endlinecolor": "#2a3f5f",
             "gridcolor": "white",
             "linecolor": "white",
             "minorgridcolor": "white",
             "startlinecolor": "#2a3f5f"
            },
            "type": "carpet"
           }
          ],
          "choropleth": [
           {
            "colorbar": {
             "outlinewidth": 0,
             "ticks": ""
            },
            "type": "choropleth"
           }
          ],
          "contour": [
           {
            "colorbar": {
             "outlinewidth": 0,
             "ticks": ""
            },
            "colorscale": [
             [
              0,
              "#0d0887"
             ],
             [
              0.1111111111111111,
              "#46039f"
             ],
             [
              0.2222222222222222,
              "#7201a8"
             ],
             [
              0.3333333333333333,
              "#9c179e"
             ],
             [
              0.4444444444444444,
              "#bd3786"
             ],
             [
              0.5555555555555556,
              "#d8576b"
             ],
             [
              0.6666666666666666,
              "#ed7953"
             ],
             [
              0.7777777777777778,
              "#fb9f3a"
             ],
             [
              0.8888888888888888,
              "#fdca26"
             ],
             [
              1,
              "#f0f921"
             ]
            ],
            "type": "contour"
           }
          ],
          "contourcarpet": [
           {
            "colorbar": {
             "outlinewidth": 0,
             "ticks": ""
            },
            "type": "contourcarpet"
           }
          ],
          "heatmap": [
           {
            "colorbar": {
             "outlinewidth": 0,
             "ticks": ""
            },
            "colorscale": [
             [
              0,
              "#0d0887"
             ],
             [
              0.1111111111111111,
              "#46039f"
             ],
             [
              0.2222222222222222,
              "#7201a8"
             ],
             [
              0.3333333333333333,
              "#9c179e"
             ],
             [
              0.4444444444444444,
              "#bd3786"
             ],
             [
              0.5555555555555556,
              "#d8576b"
             ],
             [
              0.6666666666666666,
              "#ed7953"
             ],
             [
              0.7777777777777778,
              "#fb9f3a"
             ],
             [
              0.8888888888888888,
              "#fdca26"
             ],
             [
              1,
              "#f0f921"
             ]
            ],
            "type": "heatmap"
           }
          ],
          "histogram": [
           {
            "marker": {
             "pattern": {
              "fillmode": "overlay",
              "size": 10,
              "solidity": 0.2
             }
            },
            "type": "histogram"
           }
          ],
          "histogram2d": [
           {
            "colorbar": {
             "outlinewidth": 0,
             "ticks": ""
            },
            "colorscale": [
             [
              0,
              "#0d0887"
             ],
             [
              0.1111111111111111,
              "#46039f"
             ],
             [
              0.2222222222222222,
              "#7201a8"
             ],
             [
              0.3333333333333333,
              "#9c179e"
             ],
             [
              0.4444444444444444,
              "#bd3786"
             ],
             [
              0.5555555555555556,
              "#d8576b"
             ],
             [
              0.6666666666666666,
              "#ed7953"
             ],
             [
              0.7777777777777778,
              "#fb9f3a"
             ],
             [
              0.8888888888888888,
              "#fdca26"
             ],
             [
              1,
              "#f0f921"
             ]
            ],
            "type": "histogram2d"
           }
          ],
          "histogram2dcontour": [
           {
            "colorbar": {
             "outlinewidth": 0,
             "ticks": ""
            },
            "colorscale": [
             [
              0,
              "#0d0887"
             ],
             [
              0.1111111111111111,
              "#46039f"
             ],
             [
              0.2222222222222222,
              "#7201a8"
             ],
             [
              0.3333333333333333,
              "#9c179e"
             ],
             [
              0.4444444444444444,
              "#bd3786"
             ],
             [
              0.5555555555555556,
              "#d8576b"
             ],
             [
              0.6666666666666666,
              "#ed7953"
             ],
             [
              0.7777777777777778,
              "#fb9f3a"
             ],
             [
              0.8888888888888888,
              "#fdca26"
             ],
             [
              1,
              "#f0f921"
             ]
            ],
            "type": "histogram2dcontour"
           }
          ],
          "mesh3d": [
           {
            "colorbar": {
             "outlinewidth": 0,
             "ticks": ""
            },
            "type": "mesh3d"
           }
          ],
          "parcoords": [
           {
            "line": {
             "colorbar": {
              "outlinewidth": 0,
              "ticks": ""
             }
            },
            "type": "parcoords"
           }
          ],
          "pie": [
           {
            "automargin": true,
            "type": "pie"
           }
          ],
          "scatter": [
           {
            "fillpattern": {
             "fillmode": "overlay",
             "size": 10,
             "solidity": 0.2
            },
            "type": "scatter"
           }
          ],
          "scatter3d": [
           {
            "line": {
             "colorbar": {
              "outlinewidth": 0,
              "ticks": ""
             }
            },
            "marker": {
             "colorbar": {
              "outlinewidth": 0,
              "ticks": ""
             }
            },
            "type": "scatter3d"
           }
          ],
          "scattercarpet": [
           {
            "marker": {
             "colorbar": {
              "outlinewidth": 0,
              "ticks": ""
             }
            },
            "type": "scattercarpet"
           }
          ],
          "scattergeo": [
           {
            "marker": {
             "colorbar": {
              "outlinewidth": 0,
              "ticks": ""
             }
            },
            "type": "scattergeo"
           }
          ],
          "scattergl": [
           {
            "marker": {
             "colorbar": {
              "outlinewidth": 0,
              "ticks": ""
             }
            },
            "type": "scattergl"
           }
          ],
          "scattermap": [
           {
            "marker": {
             "colorbar": {
              "outlinewidth": 0,
              "ticks": ""
             }
            },
            "type": "scattermap"
           }
          ],
          "scattermapbox": [
           {
            "marker": {
             "colorbar": {
              "outlinewidth": 0,
              "ticks": ""
             }
            },
            "type": "scattermapbox"
           }
          ],
          "scatterpolar": [
           {
            "marker": {
             "colorbar": {
              "outlinewidth": 0,
              "ticks": ""
             }
            },
            "type": "scatterpolar"
           }
          ],
          "scatterpolargl": [
           {
            "marker": {
             "colorbar": {
              "outlinewidth": 0,
              "ticks": ""
             }
            },
            "type": "scatterpolargl"
           }
          ],
          "scatterternary": [
           {
            "marker": {
             "colorbar": {
              "outlinewidth": 0,
              "ticks": ""
             }
            },
            "type": "scatterternary"
           }
          ],
          "surface": [
           {
            "colorbar": {
             "outlinewidth": 0,
             "ticks": ""
            },
            "colorscale": [
             [
              0,
              "#0d0887"
             ],
             [
              0.1111111111111111,
              "#46039f"
             ],
             [
              0.2222222222222222,
              "#7201a8"
             ],
             [
              0.3333333333333333,
              "#9c179e"
             ],
             [
              0.4444444444444444,
              "#bd3786"
             ],
             [
              0.5555555555555556,
              "#d8576b"
             ],
             [
              0.6666666666666666,
              "#ed7953"
             ],
             [
              0.7777777777777778,
              "#fb9f3a"
             ],
             [
              0.8888888888888888,
              "#fdca26"
             ],
             [
              1,
              "#f0f921"
             ]
            ],
            "type": "surface"
           }
          ],
          "table": [
           {
            "cells": {
             "fill": {
              "color": "#EBF0F8"
             },
             "line": {
              "color": "white"
             }
            },
            "header": {
             "fill": {
              "color": "#C8D4E3"
             },
             "line": {
              "color": "white"
             }
            },
            "type": "table"
           }
          ]
         },
         "layout": {
          "annotationdefaults": {
           "arrowcolor": "#2a3f5f",
           "arrowhead": 0,
           "arrowwidth": 1
          },
          "autotypenumbers": "strict",
          "coloraxis": {
           "colorbar": {
            "outlinewidth": 0,
            "ticks": ""
           }
          },
          "colorscale": {
           "diverging": [
            [
             0,
             "#8e0152"
            ],
            [
             0.1,
             "#c51b7d"
            ],
            [
             0.2,
             "#de77ae"
            ],
            [
             0.3,
             "#f1b6da"
            ],
            [
             0.4,
             "#fde0ef"
            ],
            [
             0.5,
             "#f7f7f7"
            ],
            [
             0.6,
             "#e6f5d0"
            ],
            [
             0.7,
             "#b8e186"
            ],
            [
             0.8,
             "#7fbc41"
            ],
            [
             0.9,
             "#4d9221"
            ],
            [
             1,
             "#276419"
            ]
           ],
           "sequential": [
            [
             0,
             "#0d0887"
            ],
            [
             0.1111111111111111,
             "#46039f"
            ],
            [
             0.2222222222222222,
             "#7201a8"
            ],
            [
             0.3333333333333333,
             "#9c179e"
            ],
            [
             0.4444444444444444,
             "#bd3786"
            ],
            [
             0.5555555555555556,
             "#d8576b"
            ],
            [
             0.6666666666666666,
             "#ed7953"
            ],
            [
             0.7777777777777778,
             "#fb9f3a"
            ],
            [
             0.8888888888888888,
             "#fdca26"
            ],
            [
             1,
             "#f0f921"
            ]
           ],
           "sequentialminus": [
            [
             0,
             "#0d0887"
            ],
            [
             0.1111111111111111,
             "#46039f"
            ],
            [
             0.2222222222222222,
             "#7201a8"
            ],
            [
             0.3333333333333333,
             "#9c179e"
            ],
            [
             0.4444444444444444,
             "#bd3786"
            ],
            [
             0.5555555555555556,
             "#d8576b"
            ],
            [
             0.6666666666666666,
             "#ed7953"
            ],
            [
             0.7777777777777778,
             "#fb9f3a"
            ],
            [
             0.8888888888888888,
             "#fdca26"
            ],
            [
             1,
             "#f0f921"
            ]
           ]
          },
          "colorway": [
           "#636efa",
           "#EF553B",
           "#00cc96",
           "#ab63fa",
           "#FFA15A",
           "#19d3f3",
           "#FF6692",
           "#B6E880",
           "#FF97FF",
           "#FECB52"
          ],
          "font": {
           "color": "#2a3f5f"
          },
          "geo": {
           "bgcolor": "white",
           "lakecolor": "white",
           "landcolor": "#E5ECF6",
           "showlakes": true,
           "showland": true,
           "subunitcolor": "white"
          },
          "hoverlabel": {
           "align": "left"
          },
          "hovermode": "closest",
          "mapbox": {
           "style": "light"
          },
          "paper_bgcolor": "white",
          "plot_bgcolor": "#E5ECF6",
          "polar": {
           "angularaxis": {
            "gridcolor": "white",
            "linecolor": "white",
            "ticks": ""
           },
           "bgcolor": "#E5ECF6",
           "radialaxis": {
            "gridcolor": "white",
            "linecolor": "white",
            "ticks": ""
           }
          },
          "scene": {
           "xaxis": {
            "backgroundcolor": "#E5ECF6",
            "gridcolor": "white",
            "gridwidth": 2,
            "linecolor": "white",
            "showbackground": true,
            "ticks": "",
            "zerolinecolor": "white"
           },
           "yaxis": {
            "backgroundcolor": "#E5ECF6",
            "gridcolor": "white",
            "gridwidth": 2,
            "linecolor": "white",
            "showbackground": true,
            "ticks": "",
            "zerolinecolor": "white"
           },
           "zaxis": {
            "backgroundcolor": "#E5ECF6",
            "gridcolor": "white",
            "gridwidth": 2,
            "linecolor": "white",
            "showbackground": true,
            "ticks": "",
            "zerolinecolor": "white"
           }
          },
          "shapedefaults": {
           "line": {
            "color": "#2a3f5f"
           }
          },
          "ternary": {
           "aaxis": {
            "gridcolor": "white",
            "linecolor": "white",
            "ticks": ""
           },
           "baxis": {
            "gridcolor": "white",
            "linecolor": "white",
            "ticks": ""
           },
           "bgcolor": "#E5ECF6",
           "caxis": {
            "gridcolor": "white",
            "linecolor": "white",
            "ticks": ""
           }
          },
          "title": {
           "x": 0.05
          },
          "xaxis": {
           "automargin": true,
           "gridcolor": "white",
           "linecolor": "white",
           "ticks": "",
           "title": {
            "standoff": 15
           },
           "zerolinecolor": "white",
           "zerolinewidth": 2
          },
          "yaxis": {
           "automargin": true,
           "gridcolor": "white",
           "linecolor": "white",
           "ticks": "",
           "title": {
            "standoff": 15
           },
           "zerolinecolor": "white",
           "zerolinewidth": 2
          }
         }
        },
        "title": {
         "text": "Inventory Discrepancy by Month"
        },
        "width": 1200,
        "xaxis": {
         "anchor": "y",
         "domain": [
          0,
          1
         ],
         "gridcolor": "lightgray",
         "showgrid": true,
         "title": {
          "text": "Month"
         }
        },
        "yaxis": {
         "anchor": "x",
         "domain": [
          0,
          1
         ],
         "gridcolor": "black",
         "title": {
          "text": "Total Inventory Discrepancy"
         }
        }
       }
      }
     },
     "metadata": {},
     "output_type": "display_data"
    }
   ],
   "source": [
    "\n",
    "@pn.depends(list_dropdown)\n",
    "def inter_bar(list_dropdown):\n",
    "    # Aggregate data for plotting\n",
    "    grouped_df = df.groupby(list_dropdown)['Inventory Discrepancy'].sum().reset_index()\n",
    "    \n",
    "    # Ensure 'Month' column is ordered correctly if the dropdown is \"Month\"\n",
    "    if list_dropdown == \"Month\":\n",
    "        grouped_df[\"Month\"] = pd.Categorical(grouped_df[\"Month\"], categories=month_order, ordered=True)\n",
    "        grouped_df = grouped_df.sort_values(\"Month\")\n",
    "\n",
    "    # Set title dynamically\n",
    "    tit = \"Missing/overstock by item ID\" if list_dropdown == \"item ID\" else f'Inventory Discrepancy by {list_dropdown}'\n",
    "\n",
    "    # Create the figure using Plotly Express\n",
    "    fig = px.bar(\n",
    "        grouped_df,\n",
    "        x=list_dropdown,\n",
    "        y=\"Inventory Discrepancy\",\n",
    "        title=tit,\n",
    "        color=\"Inventory Discrepancy\",  # Color by category\n",
    "        color_continuous_scale=['red', ACCENT],  # Adjust color scale\n",
    "    )\n",
    "        # Improve layout\n",
    "    fig.update_layout(\n",
    "        xaxis_title=list_dropdown,\n",
    "        yaxis_title=\"Total Inventory Discrepancy\",\n",
    "        plot_bgcolor=\"#f8f8f8\",  \n",
    "        paper_bgcolor=\"#f8f8f8\",  \n",
    "        font=dict(color=\"black\"),  \n",
    "        xaxis=dict(gridcolor='lightgray', showgrid=True),\n",
    "        yaxis=dict(gridcolor='black'),\n",
    "        width=1200,  \n",
    "        height=500,\n",
    "    )\n",
    "    \n",
    "    return fig\n",
    "\n",
    "component2 = pn.panel(inter_bar)  # Assign to Panel\n",
    "\n",
    "inter_bar(\"Month\")  # Show ordered months\n",
    "\n",
    "    \n"
   ]
  },
  {
   "cell_type": "markdown",
   "metadata": {},
   "source": [
    "## creating KPIs cards "
   ]
  },
  {
   "cell_type": "markdown",
   "metadata": {},
   "source": [
    "total actual stock= 94489\n",
    "\n",
    "total expected stock= 94447\n",
    "\n",
    "total overstock= 42 (.044% of the stock)\n",
    "\n",
    "ITM002(Yoga Mat) lost 71 pieces , ITM005(Foam Roller) lost 42 piece,  totlal= 113\n",
    "\n",
    "the over stock items (ITM001: 16 , ITM003: 35 , ITM004: 35 , ITM006: 69), total= 155"
   ]
  },
  {
   "cell_type": "code",
   "execution_count": 245,
   "metadata": {},
   "outputs": [],
   "source": [
    "ACCENT = \"teal\"\n",
    "\n",
    "styles = {\n",
    "    \"box-shadow\": \"rgba(50, 50, 93, 0.25) 0px 6px 12px -2px, rgba(0, 0, 0, 0.3) 0px 3px 7px -3px\",\n",
    "    \"border-radius\": \"10px\",\n",
    "    \"padding\": \"10px\",\n",
    "    \"background\": \"#DCEFF0\",\n",
    "    'box-shadow': \"3px 3px 6px rgba(0,0,0,0.3)\",\n",
    "    \"width\": \"385px\",\n",
    "    \"height\": \"220px\" \n",
    "    }               # a dict to use later in the cards \n"
   ]
  },
  {
   "cell_type": "code",
   "execution_count": 345,
   "metadata": {},
   "outputs": [],
   "source": [
    "# KPIs cards\n",
    "cards= pn.FlexBox(\n",
    "\n",
    "\n",
    "\n",
    "    #'Highest miss/day\n",
    "    pn.indicators.Number(name='The worst-performing day <br> (03.Aug & 30.May)📉',\n",
    "    value=23, \n",
    "    format='<span style=\"font-size:1.5em;\">{value}</span>'\n",
    "       '<span style=\"font-size:0.7em;\"> items</span>',\n",
    "    colors=[(1, 'black')],\n",
    "    styles=styles,\n",
    "    ),\n",
    "\n",
    "    pn.indicators.Number(\n",
    "    name='Franklin Attard <br> the biggest Loser',\n",
    "    value=39,\n",
    "    # Embed HTML to style the units separately:\n",
    "    format='<span style=\"font-size:1.5em;\">{value}</span>'\n",
    "           '<span style=\"font-size:0.7em;\"> items</span>',\n",
    "    colors=[(0, ACCENT)]\n",
    "    ,styles=styles\n",
    "    ),\n",
    "\n",
    "    pn.indicators.Number(\n",
    "    name='Morning shift had the <br> hieghest missing rate',\n",
    "    value=84,\n",
    "    # Embed HTML to style the units separately:\n",
    "    format='<span style=\"font-size:1.5em;\">{value}</span>'\n",
    "           '<span style=\"font-size:0.7em;\"> items</span>',\n",
    "    colors=[(0, ACCENT)]\n",
    "    ,styles=styles\n",
    "    )\n",
    ")\n",
    "\n"
   ]
  },
  {
   "cell_type": "code",
   "execution_count": 239,
   "metadata": {},
   "outputs": [
    {
     "data": {
      "application/vnd.jupyter.widget-view+json": {
       "model_id": "c1a9a63c491643ae9fce2c6354d3f970",
       "version_major": 2,
       "version_minor": 0
      },
      "text/plain": [
       "BokehModel(combine_events=True, render_bundle={'docs_json': {'1183480e-5217-4646-99d1-1ec3fbe4428d': {'version…"
      ]
     },
     "execution_count": 239,
     "metadata": {},
     "output_type": "execute_result"
    }
   ],
   "source": [
    "cards"
   ]
  },
  {
   "cell_type": "markdown",
   "metadata": {},
   "source": [
    "### making cards of stock discrepancy"
   ]
  },
  {
   "cell_type": "code",
   "execution_count": 240,
   "metadata": {},
   "outputs": [],
   "source": [
    "\n",
    "\n",
    "# Data for missing and overstocked items\n",
    "missing_items = {\n",
    "    \"Yoga Mat\": 71,\n",
    "    \"Foam Roller\": 42\n",
    "}\n",
    "overstock_items = {\n",
    "    \"Dumbbells\": 16,\n",
    "    \"Resistance Band\": 35,\n",
    "    \"Jump Rope\": 35,\n",
    "    \"Kettlebell\": 69\n",
    "}\n",
    "\n",
    "# Convert to DataFrame\n",
    "df_missing = pd.DataFrame(missing_items.items(), columns=[\"Item\", \"Quantity Lost\"])\n",
    "df_overstock = pd.DataFrame(overstock_items.items(), columns=[\"Item\", \"Quantity Overstocked\"])\n"
   ]
  },
  {
   "cell_type": "code",
   "execution_count": 241,
   "metadata": {},
   "outputs": [],
   "source": [
    "\n",
    "# Create bar plots\n",
    "fig_missing = px.bar(\n",
    "    df_missing, \n",
    "    x=\"Item\", \n",
    "    y=\"Quantity Lost\", \n",
    "    title=\"Missing Items(max:71, sum:113)\", \n",
    "    color=\"Quantity Lost\",\n",
    "    color_continuous_scale=[(0, \"lightcoral\"), (0.5, \"red\"), (1, \"darkred\")]\n",
    "\n",
    ")\n",
    "\n",
    "\n",
    "\n",
    "fig_overstock = px.bar(\n",
    "    df_overstock, \n",
    "    x=\"Item\", \n",
    "    y=\"Quantity Overstocked\", \n",
    "    title=\"Overstocked Items(max:69, sum:155)\", \n",
    "    color=\"Quantity Overstocked\",\n",
    "    color_continuous_scale=\"blues\"\n",
    ")\n",
    "\n",
    "# Improve layout\n",
    "fig_missing.update_layout(paper_bgcolor=\"#DCEFF0\", plot_bgcolor=\"#DCEFF0\", width=295, height=295, coloraxis_showscale=False,title_font=dict(size=16))\n",
    "fig_overstock.update_layout(paper_bgcolor=\"#DCEFF0\", plot_bgcolor=\"#DCEFF0\", width=295, height=295,coloraxis_showscale=False,title_font=dict(size=14) )\n",
    "\n",
    "component3=pn.panel(fig_missing)\n",
    "component4=pn.panel(fig_overstock)\n"
   ]
  },
  {
   "cell_type": "code",
   "execution_count": 242,
   "metadata": {},
   "outputs": [],
   "source": [
    "\n",
    "# Convert to DataFrame\n",
    "df_missing = pd.DataFrame(missing_items.items(), columns=[\"Item\", \"Quantity Lost\"])\n",
    "df_overstock = pd.DataFrame(overstock_items.items(), columns=[\"Item\", \"Quantity Overstocked\"])\n",
    "\n",
    "# Create bar plots\n",
    "fig_missing = px.bar(\n",
    "    df_missing, \n",
    "    x=\"Item\", \n",
    "    y=\"Quantity Lost\", \n",
    "    title=\"Missing Items(max:71, sum:113)\", \n",
    "    color=\"Quantity Lost\",\n",
    "    color_continuous_scale=[(0, \"lightcoral\"), (0.5, \"red\"), (1, \"darkred\")]\n",
    ")\n",
    "\n",
    "\n",
    "missing_items_indicator = pn.indicators.Number(\n",
    "    name=\"Missing Items\",  # Title\n",
    "    value=113,  # Number displayed\n",
    "    format=\"{:.0f}\",  # No decimal places\n",
    "    colors=[(50, \"red\")],  # Customize color if needed\n",
    "    font_size=\"20pt\"  # Adjust font size\n",
    ")\n",
    "\n",
    "\n",
    "fig_overstock = px.bar(\n",
    "    df_overstock, \n",
    "    x=\"Item\", \n",
    "    y=\"Quantity Overstocked\", \n",
    "    title=\"Overstocked Items(max:69, sum:155)\", \n",
    "    color=\"Quantity Overstocked\",\n",
    "    color_continuous_scale=\"blues\"\n",
    ")\n",
    "\n",
    "# Improve layout\n",
    "fig_missing.update_layout(\n",
    "    paper_bgcolor=\"#DCEFF0\",\n",
    "    plot_bgcolor=\"#DCEFF0\",\n",
    "    width=600,\n",
    "    height=295,\n",
    "    coloraxis_showscale=False,\n",
    "    title_font=dict(size=28, color=\"#8B0000\")  # Set title color to red\n",
    ")\n",
    "\n",
    "fig_overstock.update_layout(\n",
    "    paper_bgcolor=\"#DCEFF0\",\n",
    "    plot_bgcolor=\"#DCEFF0\",\n",
    "    width=600,\n",
    "    height=295,\n",
    "    coloraxis_showscale=False,\n",
    "    title_font=dict(size=28, color=\"teal\")  # Set title color to blue\n",
    ")\n",
    "\n",
    "\n",
    "component3=pn.panel(fig_missing)\n",
    "component4=pn.panel(fig_overstock)\n",
    "comp5=pn.panel(missing_items_indicator)\n"
   ]
  },
  {
   "cell_type": "markdown",
   "metadata": {},
   "source": [
    "## Dashboard layout"
   ]
  },
  {
   "cell_type": "code",
   "execution_count": 381,
   "metadata": {},
   "outputs": [],
   "source": [
    "styles2 = {\n",
    "    \"box-shadow\": \"rgba(50, 50, 93, 0.25) 0px 6px 12px -2px, rgba(0, 0, 0, 0.3) 0px 3px 7px -3px\",\n",
    "    \"border-radius\": \"10px\",\n",
    "    \"padding\": \"10px\",\n",
    "    \"background\": \"#DADADA\",\n",
    "    'box-shadow': \"3px 3px 6px rgba(0,0,0,0.3)\",\n",
    "    \"width\": \"280px\",\n",
    "    \"height\": \"80px\" \n",
    "    }  \n",
    "sidebar_card1 = pn.indicators.Number(\n",
    "    name=(\"Total records: 2000\"),\n",
    "    styles=styles2\n",
    "    \n",
    ")\n",
    "\n",
    "sidebar_card2 = pn.indicators.Number(\n",
    "    name=(\"Start date: 01-01-2024  To 30-09-2024\"),\n",
    "    styles=styles2\n",
    ")\n",
    "\n",
    "insight1 = pn.indicators.Number(\n",
    "    name=\"More managment on Morinig shift is essential \",\n",
    "    styles={\"background\": \"#6AB187\", \"border-radius\": \"10px\", \"padding\": \"10px\", \"width\": \"300\" , \"height\":\"120px\"}\n",
    ")\n",
    "\n",
    "insight2 = pn.indicators.Number(\n",
    "    name=\"light items must be moved in more watched ereas \",\n",
    "    styles={\"background\": \"#6AB187\", \"border-radius\": \"10px\", \"padding\": \"10px\", \"width\": \"300\" , \"height\":\"120px\"}\n",
    ")\n",
    "\n",
    "insight3 = pn.indicators.Number(\n",
    "    name=\"need better rocording system to overcome the overstocking issue\",\n",
    "    styles={\"background\": \"#6AB187\", \"border-radius\": \"10px\", \"padding\": \"10px\", \"width\": \"300\" , \"height\":\"120px\"}\n",
    ")\n"
   ]
  },
  {
   "cell_type": "code",
   "execution_count": 389,
   "metadata": {},
   "outputs": [
    {
     "name": "stderr",
     "output_type": "stream",
     "text": [
      "<>:12: SyntaxWarning:\n",
      "\n",
      "invalid escape sequence '\\K'\n",
      "\n",
      "C:\\Users\\S\\AppData\\Local\\Temp\\ipykernel_3408\\1352288665.py:12: SyntaxWarning:\n",
      "\n",
      "invalid escape sequence '\\K'\n",
      "\n"
     ]
    },
    {
     "data": {},
     "metadata": {},
     "output_type": "display_data"
    },
    {
     "data": {
      "application/vnd.holoviews_exec.v0+json": "",
      "text/html": [
       "<!DOCTYPE html>\n",
       "<html lang=\"en\" >\n",
       "  <head>\n",
       "    <meta charset=\"utf-8\">\n",
       "    <title>Panel App</title>\n",
       "    <link rel=\"apple-touch-icon\" sizes=\"180x180\" href=\"images/apple-touch-icon.png\">\n",
       "    <link rel=\"icon\" href=\"/static/extensions/panel/images/favicon.ico\" type=\"\">\n",
       "    <meta name=\"name\" content=\"PeakFit Inventory Analysis Interactive Dashboard\">\n",
       "    <style>\n",
       "      html, body {\n",
       "\tdisplay: flow-root;\n",
       "        box-sizing: border-box;\n",
       "        height: 100%;\n",
       "        margin: 0;\n",
       "        padding: 0;\n",
       "      }\n",
       "    </style>\n",
       "    <!-- Template CSS -->\n",
       "    <link rel=\"stylesheet\" href=\"https://fonts.googleapis.com/css?family=Lato&subset=latin,latin-ext\">\n",
       "    <link rel=\"stylesheet\" href=\"static/extensions/panel/css/loadingspinner.css?v=1.6.1\">\n",
       "    <link rel=\"stylesheet\" href=\"static/extensions/panel/css/markdown.css?v=1.6.1\">\n",
       "    <link rel=\"stylesheet\" href=\"static/extensions/panel/css/listpanel.css?v=1.6.1\">\n",
       "    <link rel=\"stylesheet\" href=\"static/extensions/panel/css/button.css?v=1.6.1\">\n",
       "    <link rel=\"stylesheet\" href=\"static/extensions/panel/css/loading.css?v=1.6.1\">\n",
       "    <link rel=\"stylesheet\" href=\"static/extensions/panel/bundled/theme/default.css?v=1.6.1\">\n",
       "    <link rel=\"stylesheet\" href=\"static/extensions/panel/bundled/vanillatemplate/vanilla.css?v=1.6.1\">\n",
       "    <link rel=\"stylesheet\" href=\"static/extensions/panel/bundled/editabletemplate/editable.css?v=1.6.1\">\n",
       "\n",
       "<style>\n",
       "  :root {\n",
       "    --header-background: #1C4E80;\n",
       "    --header-color: var(--design-primary-text-color, var(--panel-on-primary-color));\n",
       "    --sidebar-width: 300px;\n",
       "  }\n",
       "  #header {\n",
       "    --background-color: var(--header-background);\n",
       "    --text-color: var(--header-color);\n",
       "    --design-background-text-color: var(--header-color);\n",
       "    --design-background-color: var(--header-background);\n",
       "    background-color: var(--header-background);\n",
       "    color: var(--header-color);\n",
       "    box-shadow: 5px 5px 20px silver;\n",
       "  }\n",
       "  #sidebar {\n",
       "    width: var(--sidebar-width);\n",
       "  }\n",
       "</style>\n",
       "\n",
       "    <style type=\"text/css\">\n",
       "    \n",
       ":host(.pn-loading):before, .pn-loading:before {\n",
       "  background-color: #c3c3c3;\n",
       "  mask-size: auto calc(min(50%, 400px));\n",
       "  -webkit-mask-size: auto calc(min(50%, 400px));\n",
       "}\n",
       "    </style>\n",
       "\n",
       "    <!-- Template JS -->\n",
       "    <script src=\"static/extensions/panel/bundled/interactjs@1.10.19/dist/interact.min.js\"></script>\n",
       "    <script src=\"static/extensions/panel/bundled/muuri@0.9.5/dist/muuri.min.js\"></script>\n",
       "    <script src=\"static/extensions/panel/bundled/web-animations-js@2.3.2/web-animations.min.js\"></script>\n",
       "\n",
       "  </head>\n",
       "  <body>\n",
       "<div id=\"container\">\n",
       "  <nav id=\"header\">\n",
       "    <span onclick=\"closeNav()\" id=\"sidebar-button\">\n",
       "      <div class=\"pn-bar\"></div>\n",
       "      <div class=\"pn-bar\"></div>\n",
       "      <div class=\"pn-bar\"></div>\n",
       "    </span>\n",
       "    <div class=\"app-header\">\n",
       "      <a class=\"title\" href=\"\" >&nbsp;PeakFit Inventory Analysis Interactive Dashboard</a>\n",
       "    </div>\n",
       "    <div id=\"header-items\">\n",
       "    </div>\n",
       "<div id=\"header-indicators\">\n",
       "  <div id=\"grid-undo\" class=\"header-icon disabled-button\" title=\"Undo the last action\"></div>\n",
       "  <div id=\"grid-reset\" class=\"header-icon\" title=\"Reset the Layout\"></div>\n",
       "  <div id=\"grid-save\" class=\"header-icon disabled-button\" title=\"Save the Layout to Local Storage\"></div>\n",
       "  <div class=\"pn-busy-container\" title=\"Busy Indicator\">\n",
       "    <div id=\"a448b1bf-ef40-4f92-b3bf-7e7add83ccfa\" data-root-id=\"0c5b90ed-a6dd-4002-bdda-97f5cc1022ce\" style=\"display: contents;\"></div>\n",
       "  </div>\n",
       "</div>\n",
       "    <div class=\"pn-busy-container\">\n",
       "      <div id=\"a448b1bf-ef40-4f92-b3bf-7e7add83ccfa\" data-root-id=\"0c5b90ed-a6dd-4002-bdda-97f5cc1022ce\" style=\"display: contents;\"></div>\n",
       "    </div>\n",
       "  </nav>\n",
       "\n",
       "  <div id=\"content\">\n",
       "    <div class=\"sidenav \" id=\"sidebar\">\n",
       "      <ul class=\"nav flex-column\">\n",
       "          <div id=\"a14f8a81-d770-4549-8282-f4fe6508ab68\" data-root-id=\"f80fa11c-4943-4ec6-a018-d99ec3924c82\" style=\"display: contents;\"></div>\n",
       "          <div id=\"c1dc193b-d7ae-4ab0-a2aa-077a4182b620\" data-root-id=\"6cfcec7a-4b0b-48ac-92a5-998e64bd75d2\" style=\"display: contents;\"></div>\n",
       "          <div id=\"ec74c423-d167-4440-aaa0-c33e9394edc2\" data-root-id=\"e1722338-70cd-43ac-8934-7aa03f0a2bbd\" style=\"display: contents;\"></div>\n",
       "          <div id=\"bd9400bc-e69c-4f13-95eb-d3884d399556\" data-root-id=\"db28f163-7042-4f77-94c8-9fd8fb5dabfa\" style=\"display: contents;\"></div>\n",
       "          <div id=\"d9a93578-1ea3-4a28-9aa7-0e99e6612257\" data-root-id=\"dae8520c-f6d9-43c3-a7c6-801127f981ad\" style=\"display: contents;\"></div>\n",
       "          <div id=\"facb7a56-1787-46e0-8000-0a673269da90\" data-root-id=\"6d6782c0-37a4-438d-bd59-7cd3a91423d2\" style=\"display: contents;\"></div>\n",
       "          <div id=\"e2e66f83-5328-41b4-acf7-c077262e2546\" data-root-id=\"a5c11353-b48e-4331-92fb-5522387a9b31\" style=\"display: contents;\"></div>\n",
       "      </ul>\n",
       "    </div>\n",
       "\n",
       "<div class=\"main\" id=\"main\">\n",
       "  <div id=\"main-grid\" class=\"muuri-grid\">\n",
       "    <div class=\"muuri-grid-item muuri-item-shown\" data-id=\"21942700-819e-4855-b1eb-5971898c95e1\">\n",
       "      <div id=\"f7f3c51e-5282-4d3d-bfda-f5d281026139\" data-root-id=\"21942700-819e-4855-b1eb-5971898c95e1\" style=\"display: contents;\"></div>\n",
       "      <span class=\"muuri-handle drag\"></span>\n",
       "      <span class=\"muuri-handle delete\"></span>\n",
       "      <span class=\"muuri-handle resize\"></span>\n",
       "    </div>\n",
       "  </div>\n",
       "  <div id=\"pn-Modal\" class=\"pn-modal header-adjust\">\n",
       "    <div class=\"pn-modal-content\">\n",
       "      <span class=\"pn-modalclose\" id=\"pn-closeModal\">&times;</span>\n",
       "    </div>\n",
       "  </div>\n",
       "  </div>\n",
       "</div>\n",
       "\n",
       "<script>\n",
       "  function openNav() {\n",
       "    document.getElementById(\"sidebar\").classList.remove(\"hidden\");\n",
       "    document.getElementById(\"sidebar-button\").onclick = closeNav;\n",
       "  }\n",
       "\n",
       "  function closeNav() {\n",
       "    document.getElementById(\"sidebar\").classList.add(\"hidden\");\n",
       "    document.getElementById(\"sidebar-button\").onclick = openNav;\n",
       "  }\n",
       "\n",
       "  const modal = document.getElementById(\"pn-Modal\");\n",
       "  const span = document.getElementById(\"pn-closeModal\");\n",
       "\n",
       "  span.onclick = function() {\n",
       "    modal.style.display = \"none\";\n",
       "  }\n",
       "\n",
       "  window.onclick = function(event) {\n",
       "    if (event.target == modal) {\n",
       "      modal.style.display = \"none\";\n",
       "    }\n",
       "  }\n",
       "\n",
       "  function scroll(item) {\n",
       "    const child = item.children[0].children[0]\n",
       "    if (child && (child.scrollHeight > item.clientHeight)) {\n",
       "      item.style.overflowY = 'auto';\n",
       "    } else {\n",
       "      item.style.removeProperty('overflow-y')\n",
       "    }\n",
       "  }\n",
       "\n",
       "  function export_layout() {\n",
       "    const layout = [];\n",
       "    const items = grid.getItems();\n",
       "    const el_ids = items.map((item) => item.getElement().getAttribute('data-id'))\n",
       "    for (const item of items) {\n",
       "      const el = item.getElement();\n",
       "      let height = el.style.height.slice(null, -2);\n",
       "      if (!height) {\n",
       "        const {top} = item.getMargin();\n",
       "        height = item.getHeight()-top;\n",
       "      } else {\n",
       "        height = parseFloat(height);\n",
       "      }\n",
       "      let width;\n",
       "      if (el.style.width.length) {\n",
       "        width = parseFloat(el.style.width.split('(')[1].split('%')[0]);\n",
       "      } else {\n",
       "        width = 100;\n",
       "      }\n",
       "      layout.push({\n",
       "        index: el_ids.indexOf(el.getAttribute('data-id')),\n",
       "        width: width,\n",
       "        height: height,\n",
       "        visible: item.isVisible(),\n",
       "      })\n",
       "    }\n",
       "    return layout;\n",
       "  }\n",
       "\n",
       "  function resize_item(item, width, height, notify = true) {\n",
       "    const screen_width = document.getElementsByClassName('muuri-grid')[0].clientWidth\n",
       "    if (((width/100) * screen_width) < 100) {\n",
       "      width = (100/screen_width) * 100;\n",
       "    }\n",
       "    width = Math.min(100, width);\n",
       "    item.style.width = `calc( ${width}% - 30px)`;\n",
       "    if (height == null) {\n",
       "      item.style.height = \"\";\n",
       "    } else {\n",
       "      item.style.height = `${height}px`;\n",
       "    }\n",
       "    if (notify) {\n",
       "      grid.refreshItems()\n",
       "      grid.layout()\n",
       "    }\n",
       "    scroll(item)\n",
       "    document.getElementById('grid-save').classList.remove('disabled-button')\n",
       "  }\n",
       "\n",
       "  function getFromLS(key) {\n",
       "    let ls = {};\n",
       "    if (window.localStorage) {\n",
       "      try {\n",
       "        ls = JSON.parse(window.localStorage.getItem(window.location.origin + window.location.pathname)) || {};\n",
       "      } catch (e) {\n",
       "        /*Ignore*/\n",
       "      }\n",
       "    }\n",
       "    const specs = ls[key];\n",
       "    if (specs == null)\n",
       "      return\n",
       "    const els = document.querySelectorAll(\"[data-id]\")\n",
       "    for (const spec of specs) {\n",
       "      spec['id'] = els[spec.index].getAttribute('data-id')\n",
       "    }\n",
       "    return specs\n",
       "  }\n",
       "\n",
       "  // Initialize grid\n",
       "  const layout = getFromLS('grid-layout') || []\n",
       "  const ids = layout.map(s => s.id)\n",
       "  const grid = new Muuri('.muuri-grid', {\n",
       "    sortData: {id: (item, el) => {\n",
       "      const index = ids.indexOf(el.getAttribute('data-id'))\n",
       "      return index === -1 ? Infinity : index;\n",
       "    }},\n",
       "    dragEnabled: true,\n",
       "    dragHandle: '.muuri-handle.drag',\n",
       "    layout: {fillGaps: true}\n",
       "  }).on('dragInit', function () {\n",
       "    undo_stack.push({action: \"drag\", items: grid.getItems()})\n",
       "  }).on('dragEnd', function () {\n",
       "    const last_event = undo_stack.pop()\n",
       "    if (last_event.action == \"move\") {\n",
       "      undo_stack.push(last_event)\n",
       "    }\n",
       "  }).on('move', function () {\n",
       "    const last_event = undo_stack.pop()\n",
       "    if (last_event.action === \"drag\") {\n",
       "      const event = {...last_event, action: \"move\"}\n",
       "      undo_stack.push(event)\n",
       "      document.getElementById('grid-undo').classList.remove('disabled-button')\n",
       "    }\n",
       "  })\n",
       "  for (const spec of layout) {\n",
       "    const el = document.querySelector(`[data-id=\"${spec.id}\"]`);\n",
       "    if (el && spec.width && spec.height) {\n",
       "      resize_item(el, spec.width, spec.height, false)\n",
       "    }\n",
       "  }\n",
       "  const hidden = [...document.querySelectorAll('.muuri-item-hidden')]\n",
       "  if (hidden.length) {\n",
       "    grid.hide(hidden.map(el => grid.getItem(el)), {instant: true, layout: false});\n",
       "  }\n",
       "  grid.refreshSortData();\n",
       "  grid.refreshItems();\n",
       "  grid.sort('id', {layout: false});\n",
       "  grid.layout({instant: true})\n",
       "\n",
       "  window.muuriGrid = grid;\n",
       "\n",
       "  window.addEventListener('resize', function(event) {\n",
       "    grid.getItems().map(item => scroll(item.getElement()))\n",
       "    grid.refreshItems()\n",
       "    grid.layout()\n",
       "  }, true);\n",
       "\n",
       "  // Set up reset, hide and resize actions\n",
       "    const undo_stack = []\n",
       "  const undo_button = document.getElementById(\"grid-undo\")\n",
       "  undo_button.addEventListener(\"click\", function() {\n",
       "    const action = undo_stack.pop()\n",
       "    if (!action) {\n",
       "      return\n",
       "    }\n",
       "    if (undo_stack.length === 0) {\n",
       "      undo_button.classList.add('disabled-button')\n",
       "    }\n",
       "    switch(action.action) {\n",
       "      case \"hide\":\n",
       "        grid.show([action.item], {instant: true});\n",
       "      case \"resize\":\n",
       "        resize_item(action.item.getElement(), action.width, action.height, false);\n",
       "        grid.refreshItems()\n",
       "        grid.layout()\n",
       "      case \"move\":\n",
       "        grid.sort(action.items)\n",
       "    }\n",
       "  })\n",
       "\n",
       "  const reset_button = document.getElementById(\"grid-reset\")\n",
       "  reset_button.addEventListener(\"click\", function() {\n",
       "    if (window.localStorage) {\n",
       "      window.localStorage.removeItem(window.location.origin + window.location.pathname)\n",
       "    }\n",
       "    document.getElementById('content').classList.add('pn-loading', 'pn-arc')\n",
       "    const queryParams = new URLSearchParams(window.location.search);\n",
       "    queryParams.set('reset', 1);\n",
       "    window.location.search = queryParams.toString();\n",
       "  })\n",
       "\n",
       "  for (const handle of document.querySelectorAll('.muuri-handle.delete')) {\n",
       "    handle.addEventListener(\"click\", (event) => {\n",
       "      const item = grid.getItem(event.target.parentElement);\n",
       "      grid.hide([item], {instant: true});\n",
       "      undo_stack.push({action: \"hide\", item: item})\n",
       "      undo_button.classList.remove('disabled-button')\n",
       "      document.getElementById('grid-save').classList.remove('disabled-button')\n",
       "    })\n",
       "  }\n",
       "\n",
       "  function saveToLS(key, value) {\n",
       "    if (window.localStorage) {\n",
       "      window.localStorage.setItem(\n",
       "        window.location.origin + window.location.pathname,\n",
       "        JSON.stringify({\n",
       "          [key]: value\n",
       "        })\n",
       "      );\n",
       "    }\n",
       "  }\n",
       "\n",
       "  const save_button = document.getElementById(\"grid-save\")\n",
       "  save_button.addEventListener(\"click\", function() {\n",
       "    if (!save_button.classList.contains('disabled-button')) {\n",
       "      const layout = export_layout()\n",
       "      saveToLS('grid-layout', layout)\n",
       "      save_button.classList.add('disabled-button')\n",
       "    }\n",
       "  })\n",
       "\n",
       "  window.resizeableGrid = interact('.muuri-grid-item')\n",
       "  .resizable({\n",
       "    // resize from all edges and corners\n",
       "    edges: { right: '.muuri-handle.resize', bottom: '.muuri-handle.resize' },\n",
       "    listeners: {\n",
       "      start (event) {\n",
       "        const el = event.target\n",
       "        const item = grid.getItem(el);\n",
       "        let height = el.style.height.slice(null, -2);\n",
       "        if (!height) {\n",
       "          const {top} = item.getMargin();\n",
       "          height = item.getHeight()-top;\n",
       "        } else {\n",
       "          height = parseFloat(height);\n",
       "        }\n",
       "        let width;\n",
       "        if (el.style.width.length) {\n",
       "          width = parseFloat(el.style.width.split('(')[1].split('%')[0]);\n",
       "        } else {\n",
       "          width = 100;\n",
       "        }\n",
       "        undo_stack.push({action: \"resize\", item, width, height})\n",
       "      },\n",
       "      move (event) {\n",
       "        const item = grid.getItem(event.target);\n",
       "        const {top, bottom} = item.getMargin();\n",
       "        const screen_width = grid.getElement().clientWidth;\n",
       "        const width = (event.rect.width/screen_width)*100\n",
       "        const height = event.rect.height-top-bottom;\n",
       "        event.target.style.zIndex = 100;\n",
       "        resize_item(event.target, width, height, false);\n",
       "        grid.refreshItems()\n",
       "        grid.layout()\n",
       "        window.dispatchEvent(new Event('resize'));\n",
       "      },\n",
       "      end (event) {\n",
       "        event.target.style.removeProperty('z-index')\n",
       "        grid.refreshItems()\n",
       "        grid.layout()\n",
       "        window.dispatchEvent(new Event('resize'));\n",
       "        undo_button.classList.remove('disabled-button')\n",
       "        save_button.classList.remove('disabled-button')\n",
       "      }\n",
       "    },\n",
       "    modifiers: [\n",
       "      interact.modifiers.restrictSize({\n",
       "        min: { width: 100, height: 50 }\n",
       "      }),\n",
       "      interact.modifiers.snapEdges({\n",
       "        offset: 'parent',\n",
       "        targets: [\n",
       "          // Snap to other items or right edge if within 25 pixels\n",
       "          function (x, y, interaction) {\n",
       "            const target = {range: 25}\n",
       "            const grid_bbox = grid.getElement().getBoundingClientRect()\n",
       "            for (const item of grid.getItems()) {\n",
       "              if ((item.getElement() === interaction.element) && item.isVisible()) {\n",
       "                continue\n",
       "              }\n",
       "              const {top, left} = item.getPosition();\n",
       "              const margin = item.getMargin()\n",
       "              const bottom = (top + item.getHeight()) + margin.top + margin.bottom;\n",
       "              const right = (left + item.getWidth()) + margin.left + margin.right;\n",
       "\n",
       "              if (Math.abs(right - x) < target.range) {\n",
       "                target.x = right + margin.right\n",
       "              }\n",
       "              if (Math.abs(bottom - y) < target.range) {\n",
       "                target.y = bottom\n",
       "              }\n",
       "            }\n",
       "            if ((grid_bbox.width - x) < target.range) {\n",
       "              target.x = grid_bbox.width+10\n",
       "            }\n",
       "            return target\n",
       "          }\n",
       "        ]\n",
       "      })\n",
       "    ]\n",
       "  })\n",
       "</script>\n",
       "\n",
       "<div id=\"a1f45b44-a504-46b2-a354-bc4aabf9e2e4\" data-root-id=\"06f044d8-829d-499b-bdbe-ab11cf51ab78\" style=\"display: contents;\"></div>\n",
       "<div id=\"d1937597-b8f1-496a-8c49-70475057fd52\" data-root-id=\"ee83dd32-06b2-49bd-bf88-1726248bc4eb\" style=\"display: contents;\"></div>\n",
       "<div id=\"d56eefce-1c97-4d1e-90d3-5eeb9f505e97\" data-root-id=\"b34d95ec-4842-4ec3-b806-5b663f8750fb\" style=\"display: contents;\"></div>\n",
       "<div id=\"dd109af6-8737-4f2a-a243-921d848ce73a\" data-root-id=\"f5070f16-4a71-481a-8c72-02ab158b94d8\" style=\"display: contents;\"></div>\n",
       "\n",
       "\n",
       "<div id=\"ef945974-c7e1-49af-8b58-2e7adc0807ab\" data-root-id=\"64eae0ee-9b7b-40e1-a1e3-c2b8ef2b28eb\" style=\"display: contents;\"></div>\n",
       "\n",
       "  \n",
       "    <script type=\"application/json\" id=\"531f9ea9-3712-4894-96bd-a7c57bb8e241\">\n",
       "      {\"19989e81-5ca1-4826-95b6-10d5f3c624b2\":{\"version\":\"3.6.3\",\"title\":\"PeakFit Inventory Analysis Interactive Dashboard\",\"roots\":[{\"type\":\"object\",\"name\":\"panel.models.location.Location\",\"id\":\"b34d95ec-4842-4ec3-b806-5b663f8750fb\",\"attributes\":{\"name\":\"location\",\"reload\":false}},{\"type\":\"object\",\"name\":\"panel.models.reactive_html.ReactiveHTML\",\"id\":\"64eae0ee-9b7b-40e1-a1e3-c2b8ef2b28eb\",\"attributes\":{\"name\":\"editor\",\"subscribed_events\":{\"type\":\"set\",\"entries\":[\"dom_event\"]},\"stylesheets\":[\"\\n:host(.pn-loading):before, .pn-loading:before {\\n  background-color: #c3c3c3;\\n  mask-size: auto calc(min(50%, 400px));\\n  -webkit-mask-size: auto calc(min(50%, 400px));\\n}\",{\"type\":\"object\",\"name\":\"ImportedStyleSheet\",\"id\":\"bdafc4de-c537-459f-b78a-68c2a59d6097\",\"attributes\":{\"url\":\"https://cdn.holoviz.org/panel/1.6.1/dist/css/loading.css\"}},{\"type\":\"object\",\"name\":\"ImportedStyleSheet\",\"id\":\"84e9fffa-5536-45b5-9f12-724ffe85979f\",\"attributes\":{\"url\":\"https://cdn.holoviz.org/panel/1.6.1/dist/bundled/theme/native.css\"}}],\"margin\":0,\"align\":\"start\",\"data\":{\"type\":\"object\",\"name\":\"TemplateEditor1\",\"id\":\"8775bd1c-d30e-4d5f-9bd3-64ad022e9cf5\",\"attributes\":{\"name\":\"TemplateEditor05308\"}},\"scripts\":{\"type\":\"map\",\"entries\":[[\"render\",[\"var grid = window.muuriGrid;\\nfunction save_layout() {\\n  const layout = [];\\n  for (const item of grid.getItems()) {\\n    const el = item.getElement();\\n    let height = el.style.height.slice(null, -2);\\n    if (!height) {\\n      const {top} = item.getMargin();\\n      height = item.getHeight()-top;\\n    } else {\\n      height = parseFloat(height);\\n    }\\n    let width;\\n    if (el.style.width.length) {\\n      width = parseFloat(el.style.width.split(&amp;#x27;(&amp;#x27;)[1].split(&amp;#x27;%&amp;#x27;)[0]);\\n    } else {\\n      width = 100;\\n    }\\n    layout.push({\\n      id: el.getAttribute(&amp;#x27;data-id&amp;#x27;),\\n      width: width,\\n      height: height,\\n      visible: item.isVisible(),\\n    })\\n  }\\n  data.layout = layout;\\n}\\ngrid.on(&amp;#x27;layoutEnd&amp;#x27;, save_layout)\\nif (window.resizeableGrid) {\\n  window.resizeableGrid.on(&amp;#x27;resizeend&amp;#x27;, save_layout)\\n}\"]]]}}},{\"type\":\"object\",\"name\":\"panel.models.markup.HTML\",\"id\":\"06f044d8-829d-499b-bdbe-ab11cf51ab78\",\"attributes\":{\"name\":\"js_area\",\"stylesheets\":[\"\\n:host(.pn-loading):before, .pn-loading:before {\\n  background-color: #c3c3c3;\\n  mask-size: auto calc(min(50%, 400px));\\n  -webkit-mask-size: auto calc(min(50%, 400px));\\n}\",{\"type\":\"object\",\"name\":\"ImportedStyleSheet\",\"id\":\"4fc248c7-c3fc-4b9f-9c33-572c149336ce\",\"attributes\":{\"url\":\"https://cdn.holoviz.org/panel/1.6.1/dist/css/loading.css\"}},{\"id\":\"84e9fffa-5536-45b5-9f12-724ffe85979f\"}],\"width\":0,\"height\":0,\"margin\":0,\"sizing_mode\":\"fixed\",\"align\":\"start\",\"disable_math\":true}},{\"type\":\"object\",\"name\":\"panel.models.reactive_html.ReactiveHTML\",\"id\":\"ee83dd32-06b2-49bd-bf88-1726248bc4eb\",\"attributes\":{\"name\":\"actions\",\"subscribed_events\":{\"type\":\"set\",\"entries\":[\"dom_event\"]},\"stylesheets\":[\"\\n:host(.pn-loading):before, .pn-loading:before {\\n  background-color: #c3c3c3;\\n  mask-size: auto calc(min(50%, 400px));\\n  -webkit-mask-size: auto calc(min(50%, 400px));\\n}\",{\"type\":\"object\",\"name\":\"ImportedStyleSheet\",\"id\":\"a0c51844-1b08-4497-a18e-357a0ae432be\",\"attributes\":{\"url\":\"https://cdn.holoviz.org/panel/1.6.1/dist/css/loading.css\"}},{\"id\":\"84e9fffa-5536-45b5-9f12-724ffe85979f\"}],\"margin\":0,\"align\":\"start\",\"data\":{\"type\":\"object\",\"name\":\"TemplateActions1\",\"id\":\"807bb4f8-4943-408d-b91c-509244332e91\",\"attributes\":{\"name\":\"TemplateActions05307\"}},\"scripts\":{\"type\":\"map\",\"entries\":[[\"open_modal\",[\"document.getElementById(&amp;#x27;pn-Modal&amp;#x27;).style.display = &amp;#x27;block&amp;#x27;\\nwindow.dispatchEvent(new Event(&amp;#x27;resize&amp;#x27;));\"]],[\"close_modal\",[\"document.getElementById(&amp;#x27;pn-Modal&amp;#x27;).style.display = &amp;#x27;none&amp;#x27;\"]]]}}},{\"type\":\"object\",\"name\":\"panel.models.browser.BrowserInfo\",\"id\":\"f5070f16-4a71-481a-8c72-02ab158b94d8\",\"attributes\":{\"name\":\"browser_info\"}},{\"type\":\"object\",\"name\":\"panel.models.markup.HTML\",\"id\":\"0c5b90ed-a6dd-4002-bdda-97f5cc1022ce\",\"attributes\":{\"name\":\"busy_indicator\",\"css_classes\":[\"loader\",\"light\"],\"stylesheets\":[\":host { --loading-spinner-size: 20px; }\",\"\\n:host(.pn-loading):before, .pn-loading:before {\\n  background-color: #c3c3c3;\\n  mask-size: auto calc(min(50%, 400px));\\n  -webkit-mask-size: auto calc(min(50%, 400px));\\n}\",{\"type\":\"object\",\"name\":\"ImportedStyleSheet\",\"id\":\"3b9f82d5-dd9d-4057-a827-3ca930962b1b\",\"attributes\":{\"url\":\"https://cdn.holoviz.org/panel/1.6.1/dist/css/loading.css\"}},{\"type\":\"object\",\"name\":\"ImportedStyleSheet\",\"id\":\"3b79f3d2-365f-4d4c-a94a-dc24cf6d4cdb\",\"attributes\":{\"url\":\"https://cdn.holoviz.org/panel/1.6.1/dist/css/loadingspinner.css\"}},{\"id\":\"84e9fffa-5536-45b5-9f12-724ffe85979f\"}],\"min_width\":20,\"min_height\":20,\"margin\":[5,10],\"align\":\"start\"}},{\"type\":\"object\",\"name\":\"panel.models.markup.HTML\",\"id\":\"f80fa11c-4943-4ec6-a018-d99ec3924c82\",\"attributes\":{\"name\":\"nav-1787242643232\",\"tags\":[\"nav\"],\"css_classes\":[\"markdown\"],\"stylesheets\":[\"\\n:host(.pn-loading):before, .pn-loading:before {\\n  background-color: #c3c3c3;\\n  mask-size: auto calc(min(50%, 400px));\\n  -webkit-mask-size: auto calc(min(50%, 400px));\\n}\",{\"type\":\"object\",\"name\":\"ImportedStyleSheet\",\"id\":\"95bc43c5-6b27-4a4a-814f-c1157b3838ce\",\"attributes\":{\"url\":\"https://cdn.holoviz.org/panel/1.6.1/dist/css/loading.css\"}},{\"type\":\"object\",\"name\":\"ImportedStyleSheet\",\"id\":\"5a0280be-ed31-4a3f-91f9-8c2a351cc1c5\",\"attributes\":{\"url\":\"https://cdn.holoviz.org/panel/1.6.1/dist/css/markdown.css\"}},{\"id\":\"84e9fffa-5536-45b5-9f12-724ffe85979f\"}],\"margin\":[5,10],\"align\":\"start\",\"text\":\"&amp;lt;p&amp;gt;Inventory Infos &amp;amp;amp; Insights&amp;lt;/p&amp;gt;\\n\"}},{\"type\":\"object\",\"name\":\"panel.models.markup.HTML\",\"id\":\"6cfcec7a-4b0b-48ac-92a5-998e64bd75d2\",\"attributes\":{\"name\":\"nav-1787242642752\",\"tags\":[\"nav\"],\"stylesheets\":[\"\\n:host(.pn-loading):before, .pn-loading:before {\\n  background-color: #c3c3c3;\\n  mask-size: auto calc(min(50%, 400px));\\n  -webkit-mask-size: auto calc(min(50%, 400px));\\n}\",{\"type\":\"object\",\"name\":\"ImportedStyleSheet\",\"id\":\"844b5084-91b2-4db7-9526-9e3558d14180\",\"attributes\":{\"url\":\"https://cdn.holoviz.org/panel/1.6.1/dist/css/loading.css\"}},{\"id\":\"84e9fffa-5536-45b5-9f12-724ffe85979f\"}],\"width\":290,\"height\":290,\"min_width\":290,\"min_height\":290,\"margin\":[5,10],\"align\":\"center\",\"text\":\"&amp;lt;img src=&amp;quot;data:image/png;base64,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&amp;quot;  style=&amp;quot;max-width: 100%; max-height: 100%; object-fit: contain; width: 290px; height: 290px;&amp;quot;&amp;gt;&amp;lt;/img&amp;gt;\"}},{\"type\":\"object\",\"name\":\"panel.models.markup.HTML\",\"id\":\"e1722338-70cd-43ac-8934-7aa03f0a2bbd\",\"attributes\":{\"name\":\"nav-1787095402928\",\"tags\":[\"nav\"],\"styles\":{\"type\":\"map\",\"entries\":[[\"box-shadow\",\"3px 3px 6px rgba(0,0,0,0.3)\"],[\"border-radius\",\"10px\"],[\"padding\",\"10px\"],[\"background\",\"#DADADA\"],[\"width\",\"280px\"],[\"height\",\"80px\"]]},\"stylesheets\":[\"\\n:host(.pn-loading):before, .pn-loading:before {\\n  background-color: #c3c3c3;\\n  mask-size: auto calc(min(50%, 400px));\\n  -webkit-mask-size: auto calc(min(50%, 400px));\\n}\",{\"type\":\"object\",\"name\":\"ImportedStyleSheet\",\"id\":\"dcc0a5c9-80be-40a4-ba18-03a05281fbe5\",\"attributes\":{\"url\":\"https://cdn.holoviz.org/panel/1.6.1/dist/css/loading.css\"}},{\"id\":\"84e9fffa-5536-45b5-9f12-724ffe85979f\"}],\"margin\":[5,10],\"align\":\"start\",\"text\":\"&amp;lt;div style=&amp;quot;font-size: 18pt; color: black&amp;quot;&amp;gt;Total records: 2000&amp;lt;/div&amp;gt;\\n&amp;lt;div style=&amp;quot;font-size: 54pt; color: black&amp;quot;&amp;gt;-&amp;lt;/div&amp;gt;\"}},{\"type\":\"object\",\"name\":\"panel.models.markup.HTML\",\"id\":\"db28f163-7042-4f77-94c8-9fd8fb5dabfa\",\"attributes\":{\"name\":\"nav-1787221463104\",\"tags\":[\"nav\"],\"styles\":{\"type\":\"map\",\"entries\":[[\"box-shadow\",\"3px 3px 6px rgba(0,0,0,0.3)\"],[\"border-radius\",\"10px\"],[\"padding\",\"10px\"],[\"background\",\"#DADADA\"],[\"width\",\"280px\"],[\"height\",\"80px\"]]},\"stylesheets\":[\"\\n:host(.pn-loading):before, .pn-loading:before {\\n  background-color: #c3c3c3;\\n  mask-size: auto calc(min(50%, 400px));\\n  -webkit-mask-size: auto calc(min(50%, 400px));\\n}\",{\"type\":\"object\",\"name\":\"ImportedStyleSheet\",\"id\":\"304f484d-c777-4b4f-b3e2-3aa2c933fe41\",\"attributes\":{\"url\":\"https://cdn.holoviz.org/panel/1.6.1/dist/css/loading.css\"}},{\"id\":\"84e9fffa-5536-45b5-9f12-724ffe85979f\"}],\"margin\":[5,10],\"align\":\"start\",\"text\":\"&amp;lt;div style=&amp;quot;font-size: 18pt; color: black&amp;quot;&amp;gt;Start date: 01-01-2024  To 30-09-2024&amp;lt;/div&amp;gt;\\n&amp;lt;div style=&amp;quot;font-size: 54pt; color: black&amp;quot;&amp;gt;-&amp;lt;/div&amp;gt;\"}},{\"type\":\"object\",\"name\":\"panel.models.markup.HTML\",\"id\":\"dae8520c-f6d9-43c3-a7c6-801127f981ad\",\"attributes\":{\"name\":\"nav-1787221462384\",\"tags\":[\"nav\"],\"styles\":{\"type\":\"map\",\"entries\":[[\"background\",\"#6AB187\"],[\"border-radius\",\"10px\"],[\"padding\",\"10px\"],[\"width\",\"300\"],[\"height\",\"120px\"]]},\"stylesheets\":[\"\\n:host(.pn-loading):before, .pn-loading:before {\\n  background-color: #c3c3c3;\\n  mask-size: auto calc(min(50%, 400px));\\n  -webkit-mask-size: auto calc(min(50%, 400px));\\n}\",{\"type\":\"object\",\"name\":\"ImportedStyleSheet\",\"id\":\"bc9ebe7f-218a-480f-86b4-8db50cda53d8\",\"attributes\":{\"url\":\"https://cdn.holoviz.org/panel/1.6.1/dist/css/loading.css\"}},{\"id\":\"84e9fffa-5536-45b5-9f12-724ffe85979f\"}],\"margin\":[5,10],\"align\":\"start\",\"text\":\"&amp;lt;div style=&amp;quot;font-size: 18pt; color: black&amp;quot;&amp;gt;More managment on Morinig shift is essential &amp;lt;/div&amp;gt;\\n&amp;lt;div style=&amp;quot;font-size: 54pt; color: black&amp;quot;&amp;gt;-&amp;lt;/div&amp;gt;\"}},{\"type\":\"object\",\"name\":\"panel.models.markup.HTML\",\"id\":\"6d6782c0-37a4-438d-bd59-7cd3a91423d2\",\"attributes\":{\"name\":\"nav-1787221467664\",\"tags\":[\"nav\"],\"styles\":{\"type\":\"map\",\"entries\":[[\"background\",\"#6AB187\"],[\"border-radius\",\"10px\"],[\"padding\",\"10px\"],[\"width\",\"300\"],[\"height\",\"120px\"]]},\"stylesheets\":[\"\\n:host(.pn-loading):before, .pn-loading:before {\\n  background-color: #c3c3c3;\\n  mask-size: auto calc(min(50%, 400px));\\n  -webkit-mask-size: auto calc(min(50%, 400px));\\n}\",{\"type\":\"object\",\"name\":\"ImportedStyleSheet\",\"id\":\"1092fd44-b4ca-4883-be87-a5fb3ef520e1\",\"attributes\":{\"url\":\"https://cdn.holoviz.org/panel/1.6.1/dist/css/loading.css\"}},{\"id\":\"84e9fffa-5536-45b5-9f12-724ffe85979f\"}],\"margin\":[5,10],\"align\":\"start\",\"text\":\"&amp;lt;div style=&amp;quot;font-size: 18pt; color: black&amp;quot;&amp;gt;light items must be moved in more watched ereas &amp;lt;/div&amp;gt;\\n&amp;lt;div style=&amp;quot;font-size: 54pt; color: black&amp;quot;&amp;gt;-&amp;lt;/div&amp;gt;\"}},{\"type\":\"object\",\"name\":\"panel.models.markup.HTML\",\"id\":\"a5c11353-b48e-4331-92fb-5522387a9b31\",\"attributes\":{\"name\":\"nav-1787221465024\",\"tags\":[\"nav\"],\"styles\":{\"type\":\"map\",\"entries\":[[\"background\",\"#6AB187\"],[\"border-radius\",\"10px\"],[\"padding\",\"10px\"],[\"width\",\"300\"],[\"height\",\"120px\"]]},\"stylesheets\":[\"\\n:host(.pn-loading):before, .pn-loading:before {\\n  background-color: #c3c3c3;\\n  mask-size: auto calc(min(50%, 400px));\\n  -webkit-mask-size: auto calc(min(50%, 400px));\\n}\",{\"type\":\"object\",\"name\":\"ImportedStyleSheet\",\"id\":\"22adc40d-f8cf-4cef-9fc6-78aa86118e80\",\"attributes\":{\"url\":\"https://cdn.holoviz.org/panel/1.6.1/dist/css/loading.css\"}},{\"id\":\"84e9fffa-5536-45b5-9f12-724ffe85979f\"}],\"margin\":[5,10],\"align\":\"start\",\"text\":\"&amp;lt;div style=&amp;quot;font-size: 18pt; color: black&amp;quot;&amp;gt;need better rocording system to overcome the overstocking issue&amp;lt;/div&amp;gt;\\n&amp;lt;div style=&amp;quot;font-size: 54pt; color: black&amp;quot;&amp;gt;-&amp;lt;/div&amp;gt;\"}},{\"type\":\"object\",\"name\":\"panel.models.layout.Column\",\"id\":\"21942700-819e-4855-b1eb-5971898c95e1\",\"attributes\":{\"name\":\"main-1787243512336\",\"tags\":[\"main\"],\"stylesheets\":[\"\\n:host(.pn-loading):before, .pn-loading:before {\\n  background-color: #c3c3c3;\\n  mask-size: auto calc(min(50%, 400px));\\n  -webkit-mask-size: auto calc(min(50%, 400px));\\n}\",{\"type\":\"object\",\"name\":\"ImportedStyleSheet\",\"id\":\"b4f07490-251f-41bf-87e1-a7480253f14d\",\"attributes\":{\"url\":\"https://cdn.holoviz.org/panel/1.6.1/dist/css/loading.css\"}},{\"type\":\"object\",\"name\":\"ImportedStyleSheet\",\"id\":\"df3e5ce4-11e1-4d0c-97a8-eb47db0112d5\",\"attributes\":{\"url\":\"https://cdn.holoviz.org/panel/1.6.1/dist/css/listpanel.css\"}},{\"id\":\"84e9fffa-5536-45b5-9f12-724ffe85979f\"}],\"min_width\":200,\"margin\":0,\"sizing_mode\":\"stretch_width\",\"align\":\"start\",\"children\":[{\"type\":\"object\",\"name\":\"Row\",\"id\":\"fe58d437-6800-4b7b-ac83-44b24856ea22\",\"attributes\":{\"name\":\"Row05319\",\"stylesheets\":[\"\\n:host(.pn-loading):before, .pn-loading:before {\\n  background-color: #c3c3c3;\\n  mask-size: auto calc(min(50%, 400px));\\n  -webkit-mask-size: auto calc(min(50%, 400px));\\n}\",{\"type\":\"object\",\"name\":\"ImportedStyleSheet\",\"id\":\"3e54da85-efcd-4d13-af7c-235724006e00\",\"attributes\":{\"url\":\"https://cdn.holoviz.org/panel/1.6.1/dist/css/loading.css\"}},{\"type\":\"object\",\"name\":\"ImportedStyleSheet\",\"id\":\"ccf26d92-a12d-458f-b56e-27cb0f2de2de\",\"attributes\":{\"url\":\"https://cdn.holoviz.org/panel/1.6.1/dist/css/listpanel.css\"}},{\"id\":\"84e9fffa-5536-45b5-9f12-724ffe85979f\"}],\"margin\":0,\"sizing_mode\":\"stretch_width\",\"align\":\"start\",\"children\":[{\"type\":\"object\",\"name\":\"panel.models.plotly.PlotlyPlot\",\"id\":\"15fd175e-4ad3-4709-9183-584e9162f2c9\",\"attributes\":{\"name\":\"Plotly01929\",\"subscribed_events\":{\"type\":\"set\",\"entries\":[\"plotly_event\"]},\"stylesheets\":[\"\\n:host(.pn-loading):before, .pn-loading:before {\\n  background-color: #c3c3c3;\\n  mask-size: auto calc(min(50%, 400px));\\n  -webkit-mask-size: auto calc(min(50%, 400px));\\n}\",{\"type\":\"object\",\"name\":\"ImportedStyleSheet\",\"id\":\"a9e8b07c-d0d7-4fc8-90b2-7616a6a486f1\",\"attributes\":{\"url\":\"https://cdn.holoviz.org/panel/1.6.1/dist/css/loading.css\"}},{\"type\":\"object\",\"name\":\"ImportedStyleSheet\",\"id\":\"08f81cfb-c287-4271-bf94-3290ec932be2\",\"attributes\":{\"url\":\"static/extensions/panel/bundled/plotlyplot/maplibre-gl@4.4.1/dist/maplibre-gl.css\"}},{\"id\":\"84e9fffa-5536-45b5-9f12-724ffe85979f\"},\":host { --plotly-icon-color: gray; --plotly-active-icon-color: #2a3f5f; }\"],\"margin\":[5,10],\"align\":\"start\",\"data\":[{\"type\":\"map\",\"entries\":[[\"hovertemplate\",\"Item=%{x}&lt;br&gt;Quantity Lost=%{marker.color}&lt;extra&gt;&lt;/extra&gt;\"],[\"legendgroup\",\"\"],[\"marker\",{\"type\":\"map\",\"entries\":[[\"coloraxis\",\"coloraxis\"],[\"pattern\",{\"type\":\"map\",\"entries\":[[\"shape\",\"\"]]}]]}],[\"name\",\"\"],[\"orientation\",\"v\"],[\"showlegend\",false],[\"textposition\",\"auto\"],[\"xaxis\",\"x\"],[\"yaxis\",\"y\"],[\"type\",\"bar\"]]}],\"layout\":{\"type\":\"map\",\"entries\":[[\"template\",{\"type\":\"map\",\"entries\":[[\"data\",{\"type\":\"map\",\"entries\":[[\"histogram2dcontour\",[{\"type\":\"map\",\"entries\":[[\"type\",\"histogram2dcontour\"],[\"colorbar\",{\"type\":\"map\",\"entries\":[[\"outlinewidth\",0],[\"ticks\",\"\"]]}],[\"colorscale\",[[0.0,\"#0d0887\"],[0.1111111111111111,\"#46039f\"],[0.2222222222222222,\"#7201a8\"],[0.3333333333333333,\"#9c179e\"],[0.4444444444444444,\"#bd3786\"],[0.5555555555555556,\"#d8576b\"],[0.6666666666666666,\"#ed7953\"],[0.7777777777777778,\"#fb9f3a\"],[0.8888888888888888,\"#fdca26\"],[1.0,\"#f0f921\"]]]]}]],[\"choropleth\",[{\"type\":\"map\",\"entries\":[[\"type\",\"choropleth\"],[\"colorbar\",{\"type\":\"map\",\"entries\":[[\"outlinewidth\",0],[\"ticks\",\"\"]]}]]}]],[\"histogram2d\",[{\"type\":\"map\",\"entries\":[[\"type\",\"histogram2d\"],[\"colorbar\",{\"type\":\"map\",\"entries\":[[\"outlinewidth\",0],[\"ticks\",\"\"]]}],[\"colorscale\",[[0.0,\"#0d0887\"],[0.1111111111111111,\"#46039f\"],[0.2222222222222222,\"#7201a8\"],[0.3333333333333333,\"#9c179e\"],[0.4444444444444444,\"#bd3786\"],[0.5555555555555556,\"#d8576b\"],[0.6666666666666666,\"#ed7953\"],[0.7777777777777778,\"#fb9f3a\"],[0.8888888888888888,\"#fdca26\"],[1.0,\"#f0f921\"]]]]}]],[\"heatmap\",[{\"type\":\"map\",\"entries\":[[\"type\",\"heatmap\"],[\"colorbar\",{\"type\":\"map\",\"entries\":[[\"outlinewidth\",0],[\"ticks\",\"\"]]}],[\"colorscale\",[[0.0,\"#0d0887\"],[0.1111111111111111,\"#46039f\"],[0.2222222222222222,\"#7201a8\"],[0.3333333333333333,\"#9c179e\"],[0.4444444444444444,\"#bd3786\"],[0.5555555555555556,\"#d8576b\"],[0.6666666666666666,\"#ed7953\"],[0.7777777777777778,\"#fb9f3a\"],[0.8888888888888888,\"#fdca26\"],[1.0,\"#f0f921\"]]]]}]],[\"contourcarpet\",[{\"type\":\"map\",\"entries\":[[\"type\",\"contourcarpet\"],[\"colorbar\",{\"type\":\"map\",\"entries\":[[\"outlinewidth\",0],[\"ticks\",\"\"]]}]]}]],[\"contour\",[{\"type\":\"map\",\"entries\":[[\"type\",\"contour\"],[\"colorbar\",{\"type\":\"map\",\"entries\":[[\"outlinewidth\",0],[\"ticks\",\"\"]]}],[\"colorscale\",[[0.0,\"#0d0887\"],[0.1111111111111111,\"#46039f\"],[0.2222222222222222,\"#7201a8\"],[0.3333333333333333,\"#9c179e\"],[0.4444444444444444,\"#bd3786\"],[0.5555555555555556,\"#d8576b\"],[0.6666666666666666,\"#ed7953\"],[0.7777777777777778,\"#fb9f3a\"],[0.8888888888888888,\"#fdca26\"],[1.0,\"#f0f921\"]]]]}]],[\"surface\",[{\"type\":\"map\",\"entries\":[[\"type\",\"surface\"],[\"colorbar\",{\"type\":\"map\",\"entries\":[[\"outlinewidth\",0],[\"ticks\",\"\"]]}],[\"colorscale\",[[0.0,\"#0d0887\"],[0.1111111111111111,\"#46039f\"],[0.2222222222222222,\"#7201a8\"],[0.3333333333333333,\"#9c179e\"],[0.4444444444444444,\"#bd3786\"],[0.5555555555555556,\"#d8576b\"],[0.6666666666666666,\"#ed7953\"],[0.7777777777777778,\"#fb9f3a\"],[0.8888888888888888,\"#fdca26\"],[1.0,\"#f0f921\"]]]]}]],[\"mesh3d\",[{\"type\":\"map\",\"entries\":[[\"type\",\"mesh3d\"],[\"colorbar\",{\"type\":\"map\",\"entries\":[[\"outlinewidth\",0],[\"ticks\",\"\"]]}]]}]],[\"scatter\",[{\"type\":\"map\",\"entries\":[[\"fillpattern\",{\"type\":\"map\",\"entries\":[[\"fillmode\",\"overlay\"],[\"size\",10],[\"solidity\",0.2]]}],[\"type\",\"scatter\"]]}]],[\"parcoords\",[{\"type\":\"map\",\"entries\":[[\"type\",\"parcoords\"],[\"line\",{\"type\":\"map\",\"entries\":[[\"colorbar\",{\"type\":\"map\",\"entries\":[[\"outlinewidth\",0],[\"ticks\",\"\"]]}]]}]]}]],[\"scatterpolargl\",[{\"type\":\"map\",\"entries\":[[\"type\",\"scatterpolargl\"],[\"marker\",{\"type\":\"map\",\"entries\":[[\"colorbar\",{\"type\":\"map\",\"entries\":[[\"outlinewidth\",0],[\"ticks\",\"\"]]}]]}]]}]],[\"bar\",[{\"type\":\"map\",\"entries\":[[\"error_x\",{\"type\":\"map\",\"entries\":[[\"color\",\"#2a3f5f\"]]}],[\"error_y\",{\"type\":\"map\",\"entries\":[[\"color\",\"#2a3f5f\"]]}],[\"marker\",{\"type\":\"map\",\"entries\":[[\"line\",{\"type\":\"map\",\"entries\":[[\"color\",\"#E5ECF6\"],[\"width\",0.5]]}],[\"pattern\",{\"type\":\"map\",\"entries\":[[\"fillmode\",\"overlay\"],[\"size\",10],[\"solidity\",0.2]]}]]}],[\"type\",\"bar\"]]}]],[\"scattergeo\",[{\"type\":\"map\",\"entries\":[[\"type\",\"scattergeo\"],[\"marker\",{\"type\":\"map\",\"entries\":[[\"colorbar\",{\"type\":\"map\",\"entries\":[[\"outlinewidth\",0],[\"ticks\",\"\"]]}]]}]]}]],[\"scatterpolar\",[{\"type\":\"map\",\"entries\":[[\"type\",\"scatterpolar\"],[\"marker\",{\"type\":\"map\",\"entries\":[[\"colorbar\",{\"type\":\"map\",\"entries\":[[\"outlinewidth\",0],[\"ticks\",\"\"]]}]]}]]}]],[\"histogram\",[{\"type\":\"map\",\"entries\":[[\"marker\",{\"type\":\"map\",\"entries\":[[\"pattern\",{\"type\":\"map\",\"entries\":[[\"fillmode\",\"overlay\"],[\"size\",10],[\"solidity\",0.2]]}]]}],[\"type\",\"histogram\"]]}]],[\"scattergl\",[{\"type\":\"map\",\"entries\":[[\"type\",\"scattergl\"],[\"marker\",{\"type\":\"map\",\"entries\":[[\"colorbar\",{\"type\":\"map\",\"entries\":[[\"outlinewidth\",0],[\"ticks\",\"\"]]}]]}]]}]],[\"scatter3d\",[{\"type\":\"map\",\"entries\":[[\"type\",\"scatter3d\"],[\"line\",{\"type\":\"map\",\"entries\":[[\"colorbar\",{\"type\":\"map\",\"entries\":[[\"outlinewidth\",0],[\"ticks\",\"\"]]}]]}],[\"marker\",{\"type\":\"map\",\"entries\":[[\"colorbar\",{\"type\":\"map\",\"entries\":[[\"outlinewidth\",0],[\"ticks\",\"\"]]}]]}]]}]],[\"scattermap\",[{\"type\":\"map\",\"entries\":[[\"type\",\"scattermap\"],[\"marker\",{\"type\":\"map\",\"entries\":[[\"colorbar\",{\"type\":\"map\",\"entries\":[[\"outlinewidth\",0],[\"ticks\",\"\"]]}]]}]]}]],[\"scattermapbox\",[{\"type\":\"map\",\"entries\":[[\"type\",\"scattermapbox\"],[\"marker\",{\"type\":\"map\",\"entries\":[[\"colorbar\",{\"type\":\"map\",\"entries\":[[\"outlinewidth\",0],[\"ticks\",\"\"]]}]]}]]}]],[\"scatterternary\",[{\"type\":\"map\",\"entries\":[[\"type\",\"scatterternary\"],[\"marker\",{\"type\":\"map\",\"entries\":[[\"colorbar\",{\"type\":\"map\",\"entries\":[[\"outlinewidth\",0],[\"ticks\",\"\"]]}]]}]]}]],[\"scattercarpet\",[{\"type\":\"map\",\"entries\":[[\"type\",\"scattercarpet\"],[\"marker\",{\"type\":\"map\",\"entries\":[[\"colorbar\",{\"type\":\"map\",\"entries\":[[\"outlinewidth\",0],[\"ticks\",\"\"]]}]]}]]}]],[\"carpet\",[{\"type\":\"map\",\"entries\":[[\"aaxis\",{\"type\":\"map\",\"entries\":[[\"endlinecolor\",\"#2a3f5f\"],[\"gridcolor\",\"white\"],[\"linecolor\",\"white\"],[\"minorgridcolor\",\"white\"],[\"startlinecolor\",\"#2a3f5f\"]]}],[\"baxis\",{\"type\":\"map\",\"entries\":[[\"endlinecolor\",\"#2a3f5f\"],[\"gridcolor\",\"white\"],[\"linecolor\",\"white\"],[\"minorgridcolor\",\"white\"],[\"startlinecolor\",\"#2a3f5f\"]]}],[\"type\",\"carpet\"]]}]],[\"table\",[{\"type\":\"map\",\"entries\":[[\"cells\",{\"type\":\"map\",\"entries\":[[\"fill\",{\"type\":\"map\",\"entries\":[[\"color\",\"#EBF0F8\"]]}],[\"line\",{\"type\":\"map\",\"entries\":[[\"color\",\"white\"]]}]]}],[\"header\",{\"type\":\"map\",\"entries\":[[\"fill\",{\"type\":\"map\",\"entries\":[[\"color\",\"#C8D4E3\"]]}],[\"line\",{\"type\":\"map\",\"entries\":[[\"color\",\"white\"]]}]]}],[\"type\",\"table\"]]}]],[\"barpolar\",[{\"type\":\"map\",\"entries\":[[\"marker\",{\"type\":\"map\",\"entries\":[[\"line\",{\"type\":\"map\",\"entries\":[[\"color\",\"#E5ECF6\"],[\"width\",0.5]]}],[\"pattern\",{\"type\":\"map\",\"entries\":[[\"fillmode\",\"overlay\"],[\"size\",10],[\"solidity\",0.2]]}]]}],[\"type\",\"barpolar\"]]}]],[\"pie\",[{\"type\":\"map\",\"entries\":[[\"automargin\",true],[\"type\",\"pie\"]]}]]]}],[\"layout\",{\"type\":\"map\",\"entries\":[[\"autotypenumbers\",\"strict\"],[\"colorway\",[\"#636efa\",\"#EF553B\",\"#00cc96\",\"#ab63fa\",\"#FFA15A\",\"#19d3f3\",\"#FF6692\",\"#B6E880\",\"#FF97FF\",\"#FECB52\"]],[\"font\",{\"type\":\"map\",\"entries\":[[\"color\",\"#2a3f5f\"]]}],[\"hovermode\",\"closest\"],[\"hoverlabel\",{\"type\":\"map\",\"entries\":[[\"align\",\"left\"]]}],[\"paper_bgcolor\",\"white\"],[\"plot_bgcolor\",\"#E5ECF6\"],[\"polar\",{\"type\":\"map\",\"entries\":[[\"bgcolor\",\"#E5ECF6\"],[\"angularaxis\",{\"type\":\"map\",\"entries\":[[\"gridcolor\",\"white\"],[\"linecolor\",\"white\"],[\"ticks\",\"\"]]}],[\"radialaxis\",{\"type\":\"map\",\"entries\":[[\"gridcolor\",\"white\"],[\"linecolor\",\"white\"],[\"ticks\",\"\"]]}]]}],[\"ternary\",{\"type\":\"map\",\"entries\":[[\"bgcolor\",\"#E5ECF6\"],[\"aaxis\",{\"type\":\"map\",\"entries\":[[\"gridcolor\",\"white\"],[\"linecolor\",\"white\"],[\"ticks\",\"\"]]}],[\"baxis\",{\"type\":\"map\",\"entries\":[[\"gridcolor\",\"white\"],[\"linecolor\",\"white\"],[\"ticks\",\"\"]]}],[\"caxis\",{\"type\":\"map\",\"entries\":[[\"gridcolor\",\"white\"],[\"linecolor\",\"white\"],[\"ticks\",\"\"]]}]]}],[\"coloraxis\",{\"type\":\"map\",\"entries\":[[\"colorbar\",{\"type\":\"map\",\"entries\":[[\"outlinewidth\",0],[\"ticks\",\"\"]]}]]}],[\"colorscale\",{\"type\":\"map\",\"entries\":[[\"sequential\",[[0.0,\"#0d0887\"],[0.1111111111111111,\"#46039f\"],[0.2222222222222222,\"#7201a8\"],[0.3333333333333333,\"#9c179e\"],[0.4444444444444444,\"#bd3786\"],[0.5555555555555556,\"#d8576b\"],[0.6666666666666666,\"#ed7953\"],[0.7777777777777778,\"#fb9f3a\"],[0.8888888888888888,\"#fdca26\"],[1.0,\"#f0f921\"]]],[\"sequentialminus\",[[0.0,\"#0d0887\"],[0.1111111111111111,\"#46039f\"],[0.2222222222222222,\"#7201a8\"],[0.3333333333333333,\"#9c179e\"],[0.4444444444444444,\"#bd3786\"],[0.5555555555555556,\"#d8576b\"],[0.6666666666666666,\"#ed7953\"],[0.7777777777777778,\"#fb9f3a\"],[0.8888888888888888,\"#fdca26\"],[1.0,\"#f0f921\"]]],[\"diverging\",[[0,\"#8e0152\"],[0.1,\"#c51b7d\"],[0.2,\"#de77ae\"],[0.3,\"#f1b6da\"],[0.4,\"#fde0ef\"],[0.5,\"#f7f7f7\"],[0.6,\"#e6f5d0\"],[0.7,\"#b8e186\"],[0.8,\"#7fbc41\"],[0.9,\"#4d9221\"],[1,\"#276419\"]]]]}],[\"xaxis\",{\"type\":\"map\",\"entries\":[[\"gridcolor\",\"white\"],[\"linecolor\",\"white\"],[\"ticks\",\"\"],[\"title\",{\"type\":\"map\",\"entries\":[[\"standoff\",15]]}],[\"zerolinecolor\",\"white\"],[\"automargin\",true],[\"zerolinewidth\",2]]}],[\"yaxis\",{\"type\":\"map\",\"entries\":[[\"gridcolor\",\"white\"],[\"linecolor\",\"white\"],[\"ticks\",\"\"],[\"title\",{\"type\":\"map\",\"entries\":[[\"standoff\",15]]}],[\"zerolinecolor\",\"white\"],[\"automargin\",true],[\"zerolinewidth\",2]]}],[\"scene\",{\"type\":\"map\",\"entries\":[[\"xaxis\",{\"type\":\"map\",\"entries\":[[\"backgroundcolor\",\"#E5ECF6\"],[\"gridcolor\",\"white\"],[\"linecolor\",\"white\"],[\"showbackground\",true],[\"ticks\",\"\"],[\"zerolinecolor\",\"white\"],[\"gridwidth\",2]]}],[\"yaxis\",{\"type\":\"map\",\"entries\":[[\"backgroundcolor\",\"#E5ECF6\"],[\"gridcolor\",\"white\"],[\"linecolor\",\"white\"],[\"showbackground\",true],[\"ticks\",\"\"],[\"zerolinecolor\",\"white\"],[\"gridwidth\",2]]}],[\"zaxis\",{\"type\":\"map\",\"entries\":[[\"backgroundcolor\",\"#E5ECF6\"],[\"gridcolor\",\"white\"],[\"linecolor\",\"white\"],[\"showbackground\",true],[\"ticks\",\"\"],[\"zerolinecolor\",\"white\"],[\"gridwidth\",2]]}]]}],[\"shapedefaults\",{\"type\":\"map\",\"entries\":[[\"line\",{\"type\":\"map\",\"entries\":[[\"color\",\"#2a3f5f\"]]}]]}],[\"annotationdefaults\",{\"type\":\"map\",\"entries\":[[\"arrowcolor\",\"#2a3f5f\"],[\"arrowhead\",0],[\"arrowwidth\",1]]}],[\"geo\",{\"type\":\"map\",\"entries\":[[\"bgcolor\",\"white\"],[\"landcolor\",\"#E5ECF6\"],[\"subunitcolor\",\"white\"],[\"showland\",true],[\"showlakes\",true],[\"lakecolor\",\"white\"]]}],[\"title\",{\"type\":\"map\",\"entries\":[[\"x\",0.05]]}],[\"mapbox\",{\"type\":\"map\",\"entries\":[[\"style\",\"light\"]]}]]}]]}],[\"xaxis\",{\"type\":\"map\",\"entries\":[[\"anchor\",\"y\"],[\"domain\",[0.0,1.0]],[\"title\",{\"type\":\"map\",\"entries\":[[\"text\",\"Item\"]]}]]}],[\"yaxis\",{\"type\":\"map\",\"entries\":[[\"anchor\",\"x\"],[\"domain\",[0.0,1.0]],[\"title\",{\"type\":\"map\",\"entries\":[[\"text\",\"Quantity Lost\"]]}]]}],[\"coloraxis\",{\"type\":\"map\",\"entries\":[[\"colorbar\",{\"type\":\"map\",\"entries\":[[\"title\",{\"type\":\"map\",\"entries\":[[\"text\",\"Quantity Lost\"]]}]]}],[\"colorscale\",[[0,\"lightcoral\"],[0.5,\"red\"],[1,\"darkred\"]]],[\"showscale\",false]]}],[\"legend\",{\"type\":\"map\",\"entries\":[[\"tracegroupgap\",0]]}],[\"title\",{\"type\":\"map\",\"entries\":[[\"text\",\"Missing Items(max:71, sum:113)\"],[\"font\",{\"type\":\"map\",\"entries\":[[\"size\",28],[\"color\",\"#8B0000\"]]}]]}],[\"barmode\",\"relative\"],[\"paper_bgcolor\",\"#DCEFF0\"],[\"plot_bgcolor\",\"#DCEFF0\"],[\"width\",600],[\"height\",295]]},\"data_sources\":[{\"type\":\"object\",\"name\":\"ColumnDataSource\",\"id\":\"c4e81547-8564-4b32-9423-519edc529c92\",\"attributes\":{\"selected\":{\"type\":\"object\",\"name\":\"Selection\",\"id\":\"5ae0d71d-9302-47ec-9668-bbbe2a104383\",\"attributes\":{\"indices\":[],\"line_indices\":[]}},\"selection_policy\":{\"type\":\"object\",\"name\":\"UnionRenderers\",\"id\":\"519cf869-717d-4420-8734-3b673c5c1762\"},\"data\":{\"type\":\"map\",\"entries\":[[\"x\",[{\"type\":\"ndarray\",\"array\":[\"Yoga Mat\",\"Foam Roller\"],\"shape\":[2],\"dtype\":\"object\",\"order\":\"little\"}]],[\"y\",[{\"type\":\"ndarray\",\"array\":{\"type\":\"bytes\",\"data\":\"RwAAACoAAAA=\"},\"shape\":[2],\"dtype\":\"int32\",\"order\":\"little\"}]]]}}}],\"relayout\":null,\"restyle\":null,\"viewport_update_throttle\":200}},{\"type\":\"object\",\"name\":\"panel.models.plotly.PlotlyPlot\",\"id\":\"592fb4ee-f3f2-40cc-8732-a4fa4c426b3f\",\"attributes\":{\"name\":\"Plotly01931\",\"subscribed_events\":{\"type\":\"set\",\"entries\":[\"plotly_event\"]},\"stylesheets\":[\"\\n:host(.pn-loading):before, .pn-loading:before {\\n  background-color: #c3c3c3;\\n  mask-size: auto calc(min(50%, 400px));\\n  -webkit-mask-size: auto calc(min(50%, 400px));\\n}\",{\"type\":\"object\",\"name\":\"ImportedStyleSheet\",\"id\":\"75891a1b-0a5b-443f-823b-3c745246eef6\",\"attributes\":{\"url\":\"https://cdn.holoviz.org/panel/1.6.1/dist/css/loading.css\"}},{\"type\":\"object\",\"name\":\"ImportedStyleSheet\",\"id\":\"b0c5ab6a-28e1-4896-bb1b-01f7066515db\",\"attributes\":{\"url\":\"static/extensions/panel/bundled/plotlyplot/maplibre-gl@4.4.1/dist/maplibre-gl.css\"}},{\"id\":\"84e9fffa-5536-45b5-9f12-724ffe85979f\"},\":host { --plotly-icon-color: gray; --plotly-active-icon-color: #2a3f5f; }\"],\"margin\":[5,10],\"align\":\"start\",\"data\":[{\"type\":\"map\",\"entries\":[[\"hovertemplate\",\"Item=%{x}&lt;br&gt;Quantity Overstocked=%{marker.color}&lt;extra&gt;&lt;/extra&gt;\"],[\"legendgroup\",\"\"],[\"marker\",{\"type\":\"map\",\"entries\":[[\"coloraxis\",\"coloraxis\"],[\"pattern\",{\"type\":\"map\",\"entries\":[[\"shape\",\"\"]]}]]}],[\"name\",\"\"],[\"orientation\",\"v\"],[\"showlegend\",false],[\"textposition\",\"auto\"],[\"xaxis\",\"x\"],[\"yaxis\",\"y\"],[\"type\",\"bar\"]]}],\"layout\":{\"type\":\"map\",\"entries\":[[\"template\",{\"type\":\"map\",\"entries\":[[\"data\",{\"type\":\"map\",\"entries\":[[\"histogram2dcontour\",[{\"type\":\"map\",\"entries\":[[\"type\",\"histogram2dcontour\"],[\"colorbar\",{\"type\":\"map\",\"entries\":[[\"outlinewidth\",0],[\"ticks\",\"\"]]}],[\"colorscale\",[[0.0,\"#0d0887\"],[0.1111111111111111,\"#46039f\"],[0.2222222222222222,\"#7201a8\"],[0.3333333333333333,\"#9c179e\"],[0.4444444444444444,\"#bd3786\"],[0.5555555555555556,\"#d8576b\"],[0.6666666666666666,\"#ed7953\"],[0.7777777777777778,\"#fb9f3a\"],[0.8888888888888888,\"#fdca26\"],[1.0,\"#f0f921\"]]]]}]],[\"choropleth\",[{\"type\":\"map\",\"entries\":[[\"type\",\"choropleth\"],[\"colorbar\",{\"type\":\"map\",\"entries\":[[\"outlinewidth\",0],[\"ticks\",\"\"]]}]]}]],[\"histogram2d\",[{\"type\":\"map\",\"entries\":[[\"type\",\"histogram2d\"],[\"colorbar\",{\"type\":\"map\",\"entries\":[[\"outlinewidth\",0],[\"ticks\",\"\"]]}],[\"colorscale\",[[0.0,\"#0d0887\"],[0.1111111111111111,\"#46039f\"],[0.2222222222222222,\"#7201a8\"],[0.3333333333333333,\"#9c179e\"],[0.4444444444444444,\"#bd3786\"],[0.5555555555555556,\"#d8576b\"],[0.6666666666666666,\"#ed7953\"],[0.7777777777777778,\"#fb9f3a\"],[0.8888888888888888,\"#fdca26\"],[1.0,\"#f0f921\"]]]]}]],[\"heatmap\",[{\"type\":\"map\",\"entries\":[[\"type\",\"heatmap\"],[\"colorbar\",{\"type\":\"map\",\"entries\":[[\"outlinewidth\",0],[\"ticks\",\"\"]]}],[\"colorscale\",[[0.0,\"#0d0887\"],[0.1111111111111111,\"#46039f\"],[0.2222222222222222,\"#7201a8\"],[0.3333333333333333,\"#9c179e\"],[0.4444444444444444,\"#bd3786\"],[0.5555555555555556,\"#d8576b\"],[0.6666666666666666,\"#ed7953\"],[0.7777777777777778,\"#fb9f3a\"],[0.8888888888888888,\"#fdca26\"],[1.0,\"#f0f921\"]]]]}]],[\"contourcarpet\",[{\"type\":\"map\",\"entries\":[[\"type\",\"contourcarpet\"],[\"colorbar\",{\"type\":\"map\",\"entries\":[[\"outlinewidth\",0],[\"ticks\",\"\"]]}]]}]],[\"contour\",[{\"type\":\"map\",\"entries\":[[\"type\",\"contour\"],[\"colorbar\",{\"type\":\"map\",\"entries\":[[\"outlinewidth\",0],[\"ticks\",\"\"]]}],[\"colorscale\",[[0.0,\"#0d0887\"],[0.1111111111111111,\"#46039f\"],[0.2222222222222222,\"#7201a8\"],[0.3333333333333333,\"#9c179e\"],[0.4444444444444444,\"#bd3786\"],[0.5555555555555556,\"#d8576b\"],[0.6666666666666666,\"#ed7953\"],[0.7777777777777778,\"#fb9f3a\"],[0.8888888888888888,\"#fdca26\"],[1.0,\"#f0f921\"]]]]}]],[\"surface\",[{\"type\":\"map\",\"entries\":[[\"type\",\"surface\"],[\"colorbar\",{\"type\":\"map\",\"entries\":[[\"outlinewidth\",0],[\"ticks\",\"\"]]}],[\"colorscale\",[[0.0,\"#0d0887\"],[0.1111111111111111,\"#46039f\"],[0.2222222222222222,\"#7201a8\"],[0.3333333333333333,\"#9c179e\"],[0.4444444444444444,\"#bd3786\"],[0.5555555555555556,\"#d8576b\"],[0.6666666666666666,\"#ed7953\"],[0.7777777777777778,\"#fb9f3a\"],[0.8888888888888888,\"#fdca26\"],[1.0,\"#f0f921\"]]]]}]],[\"mesh3d\",[{\"type\":\"map\",\"entries\":[[\"type\",\"mesh3d\"],[\"colorbar\",{\"type\":\"map\",\"entries\":[[\"outlinewidth\",0],[\"ticks\",\"\"]]}]]}]],[\"scatter\",[{\"type\":\"map\",\"entries\":[[\"fillpattern\",{\"type\":\"map\",\"entries\":[[\"fillmode\",\"overlay\"],[\"size\",10],[\"solidity\",0.2]]}],[\"type\",\"scatter\"]]}]],[\"parcoords\",[{\"type\":\"map\",\"entries\":[[\"type\",\"parcoords\"],[\"line\",{\"type\":\"map\",\"entries\":[[\"colorbar\",{\"type\":\"map\",\"entries\":[[\"outlinewidth\",0],[\"ticks\",\"\"]]}]]}]]}]],[\"scatterpolargl\",[{\"type\":\"map\",\"entries\":[[\"type\",\"scatterpolargl\"],[\"marker\",{\"type\":\"map\",\"entries\":[[\"colorbar\",{\"type\":\"map\",\"entries\":[[\"outlinewidth\",0],[\"ticks\",\"\"]]}]]}]]}]],[\"bar\",[{\"type\":\"map\",\"entries\":[[\"error_x\",{\"type\":\"map\",\"entries\":[[\"color\",\"#2a3f5f\"]]}],[\"error_y\",{\"type\":\"map\",\"entries\":[[\"color\",\"#2a3f5f\"]]}],[\"marker\",{\"type\":\"map\",\"entries\":[[\"line\",{\"type\":\"map\",\"entries\":[[\"color\",\"#E5ECF6\"],[\"width\",0.5]]}],[\"pattern\",{\"type\":\"map\",\"entries\":[[\"fillmode\",\"overlay\"],[\"size\",10],[\"solidity\",0.2]]}]]}],[\"type\",\"bar\"]]}]],[\"scattergeo\",[{\"type\":\"map\",\"entries\":[[\"type\",\"scattergeo\"],[\"marker\",{\"type\":\"map\",\"entries\":[[\"colorbar\",{\"type\":\"map\",\"entries\":[[\"outlinewidth\",0],[\"ticks\",\"\"]]}]]}]]}]],[\"scatterpolar\",[{\"type\":\"map\",\"entries\":[[\"type\",\"scatterpolar\"],[\"marker\",{\"type\":\"map\",\"entries\":[[\"colorbar\",{\"type\":\"map\",\"entries\":[[\"outlinewidth\",0],[\"ticks\",\"\"]]}]]}]]}]],[\"histogram\",[{\"type\":\"map\",\"entries\":[[\"marker\",{\"type\":\"map\",\"entries\":[[\"pattern\",{\"type\":\"map\",\"entries\":[[\"fillmode\",\"overlay\"],[\"size\",10],[\"solidity\",0.2]]}]]}],[\"type\",\"histogram\"]]}]],[\"scattergl\",[{\"type\":\"map\",\"entries\":[[\"type\",\"scattergl\"],[\"marker\",{\"type\":\"map\",\"entries\":[[\"colorbar\",{\"type\":\"map\",\"entries\":[[\"outlinewidth\",0],[\"ticks\",\"\"]]}]]}]]}]],[\"scatter3d\",[{\"type\":\"map\",\"entries\":[[\"type\",\"scatter3d\"],[\"line\",{\"type\":\"map\",\"entries\":[[\"colorbar\",{\"type\":\"map\",\"entries\":[[\"outlinewidth\",0],[\"ticks\",\"\"]]}]]}],[\"marker\",{\"type\":\"map\",\"entries\":[[\"colorbar\",{\"type\":\"map\",\"entries\":[[\"outlinewidth\",0],[\"ticks\",\"\"]]}]]}]]}]],[\"scattermap\",[{\"type\":\"map\",\"entries\":[[\"type\",\"scattermap\"],[\"marker\",{\"type\":\"map\",\"entries\":[[\"colorbar\",{\"type\":\"map\",\"entries\":[[\"outlinewidth\",0],[\"ticks\",\"\"]]}]]}]]}]],[\"scattermapbox\",[{\"type\":\"map\",\"entries\":[[\"type\",\"scattermapbox\"],[\"marker\",{\"type\":\"map\",\"entries\":[[\"colorbar\",{\"type\":\"map\",\"entries\":[[\"outlinewidth\",0],[\"ticks\",\"\"]]}]]}]]}]],[\"scatterternary\",[{\"type\":\"map\",\"entries\":[[\"type\",\"scatterternary\"],[\"marker\",{\"type\":\"map\",\"entries\":[[\"colorbar\",{\"type\":\"map\",\"entries\":[[\"outlinewidth\",0],[\"ticks\",\"\"]]}]]}]]}]],[\"scattercarpet\",[{\"type\":\"map\",\"entries\":[[\"type\",\"scattercarpet\"],[\"marker\",{\"type\":\"map\",\"entries\":[[\"colorbar\",{\"type\":\"map\",\"entries\":[[\"outlinewidth\",0],[\"ticks\",\"\"]]}]]}]]}]],[\"carpet\",[{\"type\":\"map\",\"entries\":[[\"aaxis\",{\"type\":\"map\",\"entries\":[[\"endlinecolor\",\"#2a3f5f\"],[\"gridcolor\",\"white\"],[\"linecolor\",\"white\"],[\"minorgridcolor\",\"white\"],[\"startlinecolor\",\"#2a3f5f\"]]}],[\"baxis\",{\"type\":\"map\",\"entries\":[[\"endlinecolor\",\"#2a3f5f\"],[\"gridcolor\",\"white\"],[\"linecolor\",\"white\"],[\"minorgridcolor\",\"white\"],[\"startlinecolor\",\"#2a3f5f\"]]}],[\"type\",\"carpet\"]]}]],[\"table\",[{\"type\":\"map\",\"entries\":[[\"cells\",{\"type\":\"map\",\"entries\":[[\"fill\",{\"type\":\"map\",\"entries\":[[\"color\",\"#EBF0F8\"]]}],[\"line\",{\"type\":\"map\",\"entries\":[[\"color\",\"white\"]]}]]}],[\"header\",{\"type\":\"map\",\"entries\":[[\"fill\",{\"type\":\"map\",\"entries\":[[\"color\",\"#C8D4E3\"]]}],[\"line\",{\"type\":\"map\",\"entries\":[[\"color\",\"white\"]]}]]}],[\"type\",\"table\"]]}]],[\"barpolar\",[{\"type\":\"map\",\"entries\":[[\"marker\",{\"type\":\"map\",\"entries\":[[\"line\",{\"type\":\"map\",\"entries\":[[\"color\",\"#E5ECF6\"],[\"width\",0.5]]}],[\"pattern\",{\"type\":\"map\",\"entries\":[[\"fillmode\",\"overlay\"],[\"size\",10],[\"solidity\",0.2]]}]]}],[\"type\",\"barpolar\"]]}]],[\"pie\",[{\"type\":\"map\",\"entries\":[[\"automargin\",true],[\"type\",\"pie\"]]}]]]}],[\"layout\",{\"type\":\"map\",\"entries\":[[\"autotypenumbers\",\"strict\"],[\"colorway\",[\"#636efa\",\"#EF553B\",\"#00cc96\",\"#ab63fa\",\"#FFA15A\",\"#19d3f3\",\"#FF6692\",\"#B6E880\",\"#FF97FF\",\"#FECB52\"]],[\"font\",{\"type\":\"map\",\"entries\":[[\"color\",\"#2a3f5f\"]]}],[\"hovermode\",\"closest\"],[\"hoverlabel\",{\"type\":\"map\",\"entries\":[[\"align\",\"left\"]]}],[\"paper_bgcolor\",\"white\"],[\"plot_bgcolor\",\"#E5ECF6\"],[\"polar\",{\"type\":\"map\",\"entries\":[[\"bgcolor\",\"#E5ECF6\"],[\"angularaxis\",{\"type\":\"map\",\"entries\":[[\"gridcolor\",\"white\"],[\"linecolor\",\"white\"],[\"ticks\",\"\"]]}],[\"radialaxis\",{\"type\":\"map\",\"entries\":[[\"gridcolor\",\"white\"],[\"linecolor\",\"white\"],[\"ticks\",\"\"]]}]]}],[\"ternary\",{\"type\":\"map\",\"entries\":[[\"bgcolor\",\"#E5ECF6\"],[\"aaxis\",{\"type\":\"map\",\"entries\":[[\"gridcolor\",\"white\"],[\"linecolor\",\"white\"],[\"ticks\",\"\"]]}],[\"baxis\",{\"type\":\"map\",\"entries\":[[\"gridcolor\",\"white\"],[\"linecolor\",\"white\"],[\"ticks\",\"\"]]}],[\"caxis\",{\"type\":\"map\",\"entries\":[[\"gridcolor\",\"white\"],[\"linecolor\",\"white\"],[\"ticks\",\"\"]]}]]}],[\"coloraxis\",{\"type\":\"map\",\"entries\":[[\"colorbar\",{\"type\":\"map\",\"entries\":[[\"outlinewidth\",0],[\"ticks\",\"\"]]}]]}],[\"colorscale\",{\"type\":\"map\",\"entries\":[[\"sequential\",[[0.0,\"#0d0887\"],[0.1111111111111111,\"#46039f\"],[0.2222222222222222,\"#7201a8\"],[0.3333333333333333,\"#9c179e\"],[0.4444444444444444,\"#bd3786\"],[0.5555555555555556,\"#d8576b\"],[0.6666666666666666,\"#ed7953\"],[0.7777777777777778,\"#fb9f3a\"],[0.8888888888888888,\"#fdca26\"],[1.0,\"#f0f921\"]]],[\"sequentialminus\",[[0.0,\"#0d0887\"],[0.1111111111111111,\"#46039f\"],[0.2222222222222222,\"#7201a8\"],[0.3333333333333333,\"#9c179e\"],[0.4444444444444444,\"#bd3786\"],[0.5555555555555556,\"#d8576b\"],[0.6666666666666666,\"#ed7953\"],[0.7777777777777778,\"#fb9f3a\"],[0.8888888888888888,\"#fdca26\"],[1.0,\"#f0f921\"]]],[\"diverging\",[[0,\"#8e0152\"],[0.1,\"#c51b7d\"],[0.2,\"#de77ae\"],[0.3,\"#f1b6da\"],[0.4,\"#fde0ef\"],[0.5,\"#f7f7f7\"],[0.6,\"#e6f5d0\"],[0.7,\"#b8e186\"],[0.8,\"#7fbc41\"],[0.9,\"#4d9221\"],[1,\"#276419\"]]]]}],[\"xaxis\",{\"type\":\"map\",\"entries\":[[\"gridcolor\",\"white\"],[\"linecolor\",\"white\"],[\"ticks\",\"\"],[\"title\",{\"type\":\"map\",\"entries\":[[\"standoff\",15]]}],[\"zerolinecolor\",\"white\"],[\"automargin\",true],[\"zerolinewidth\",2]]}],[\"yaxis\",{\"type\":\"map\",\"entries\":[[\"gridcolor\",\"white\"],[\"linecolor\",\"white\"],[\"ticks\",\"\"],[\"title\",{\"type\":\"map\",\"entries\":[[\"standoff\",15]]}],[\"zerolinecolor\",\"white\"],[\"automargin\",true],[\"zerolinewidth\",2]]}],[\"scene\",{\"type\":\"map\",\"entries\":[[\"xaxis\",{\"type\":\"map\",\"entries\":[[\"backgroundcolor\",\"#E5ECF6\"],[\"gridcolor\",\"white\"],[\"linecolor\",\"white\"],[\"showbackground\",true],[\"ticks\",\"\"],[\"zerolinecolor\",\"white\"],[\"gridwidth\",2]]}],[\"yaxis\",{\"type\":\"map\",\"entries\":[[\"backgroundcolor\",\"#E5ECF6\"],[\"gridcolor\",\"white\"],[\"linecolor\",\"white\"],[\"showbackground\",true],[\"ticks\",\"\"],[\"zerolinecolor\",\"white\"],[\"gridwidth\",2]]}],[\"zaxis\",{\"type\":\"map\",\"entries\":[[\"backgroundcolor\",\"#E5ECF6\"],[\"gridcolor\",\"white\"],[\"linecolor\",\"white\"],[\"showbackground\",true],[\"ticks\",\"\"],[\"zerolinecolor\",\"white\"],[\"gridwidth\",2]]}]]}],[\"shapedefaults\",{\"type\":\"map\",\"entries\":[[\"line\",{\"type\":\"map\",\"entries\":[[\"color\",\"#2a3f5f\"]]}]]}],[\"annotationdefaults\",{\"type\":\"map\",\"entries\":[[\"arrowcolor\",\"#2a3f5f\"],[\"arrowhead\",0],[\"arrowwidth\",1]]}],[\"geo\",{\"type\":\"map\",\"entries\":[[\"bgcolor\",\"white\"],[\"landcolor\",\"#E5ECF6\"],[\"subunitcolor\",\"white\"],[\"showland\",true],[\"showlakes\",true],[\"lakecolor\",\"white\"]]}],[\"title\",{\"type\":\"map\",\"entries\":[[\"x\",0.05]]}],[\"mapbox\",{\"type\":\"map\",\"entries\":[[\"style\",\"light\"]]}]]}]]}],[\"xaxis\",{\"type\":\"map\",\"entries\":[[\"anchor\",\"y\"],[\"domain\",[0.0,1.0]],[\"title\",{\"type\":\"map\",\"entries\":[[\"text\",\"Item\"]]}]]}],[\"yaxis\",{\"type\":\"map\",\"entries\":[[\"anchor\",\"x\"],[\"domain\",[0.0,1.0]],[\"title\",{\"type\":\"map\",\"entries\":[[\"text\",\"Quantity Overstocked\"]]}]]}],[\"coloraxis\",{\"type\":\"map\",\"entries\":[[\"colorbar\",{\"type\":\"map\",\"entries\":[[\"title\",{\"type\":\"map\",\"entries\":[[\"text\",\"Quantity Overstocked\"]]}]]}],[\"colorscale\",[[0.0,\"rgb(247,251,255)\"],[0.125,\"rgb(222,235,247)\"],[0.25,\"rgb(198,219,239)\"],[0.375,\"rgb(158,202,225)\"],[0.5,\"rgb(107,174,214)\"],[0.625,\"rgb(66,146,198)\"],[0.75,\"rgb(33,113,181)\"],[0.875,\"rgb(8,81,156)\"],[1.0,\"rgb(8,48,107)\"]]],[\"showscale\",false]]}],[\"legend\",{\"type\":\"map\",\"entries\":[[\"tracegroupgap\",0]]}],[\"title\",{\"type\":\"map\",\"entries\":[[\"text\",\"Overstocked Items(max:69, sum:155)\"],[\"font\",{\"type\":\"map\",\"entries\":[[\"size\",28],[\"color\",\"teal\"]]}]]}],[\"barmode\",\"relative\"],[\"paper_bgcolor\",\"#DCEFF0\"],[\"plot_bgcolor\",\"#DCEFF0\"],[\"width\",600],[\"height\",295]]},\"data_sources\":[{\"type\":\"object\",\"name\":\"ColumnDataSource\",\"id\":\"bfa74390-90ab-4d83-8896-a7276d8dbbaf\",\"attributes\":{\"selected\":{\"type\":\"object\",\"name\":\"Selection\",\"id\":\"7c6d611e-f49f-4729-b661-3d04c857f0d2\",\"attributes\":{\"indices\":[],\"line_indices\":[]}},\"selection_policy\":{\"type\":\"object\",\"name\":\"UnionRenderers\",\"id\":\"ab4eda74-7d9a-4ade-80a8-1f11822d156f\"},\"data\":{\"type\":\"map\",\"entries\":[[\"x\",[{\"type\":\"ndarray\",\"array\":[\"Dumbbells\",\"Resistance Band\",\"Jump Rope\",\"Kettlebell\"],\"shape\":[4],\"dtype\":\"object\",\"order\":\"little\"}]],[\"y\",[{\"type\":\"ndarray\",\"array\":{\"type\":\"bytes\",\"data\":\"EAAAACMAAAAjAAAARQAAAA==\"},\"shape\":[4],\"dtype\":\"int32\",\"order\":\"little\"}]]]}}}],\"relayout\":null,\"restyle\":null,\"viewport_update_throttle\":200}}]}},{\"type\":\"object\",\"name\":\"Row\",\"id\":\"bb119bd9-2448-45a4-93c0-23fb15c25b6f\",\"attributes\":{\"name\":\"Row05320\",\"stylesheets\":[\"\\n:host(.pn-loading):before, .pn-loading:before {\\n  background-color: #c3c3c3;\\n  mask-size: auto calc(min(50%, 400px));\\n  -webkit-mask-size: auto calc(min(50%, 400px));\\n}\",{\"type\":\"object\",\"name\":\"ImportedStyleSheet\",\"id\":\"852226a7-4f2c-498e-a9ed-d48557e7b756\",\"attributes\":{\"url\":\"https://cdn.holoviz.org/panel/1.6.1/dist/css/loading.css\"}},{\"type\":\"object\",\"name\":\"ImportedStyleSheet\",\"id\":\"c041eb07-725e-453e-af81-ca26ea97c246\",\"attributes\":{\"url\":\"https://cdn.holoviz.org/panel/1.6.1/dist/css/listpanel.css\"}},{\"id\":\"84e9fffa-5536-45b5-9f12-724ffe85979f\"}],\"margin\":0,\"sizing_mode\":\"stretch_width\",\"align\":\"start\",\"children\":[{\"type\":\"object\",\"name\":\"panel.models.reactive_html.ReactiveHTML\",\"id\":\"c5e0d726-7f97-427e-887a-0334a682d59d\",\"attributes\":{\"subscribed_events\":{\"type\":\"set\",\"entries\":[\"dom_event\"]},\"stylesheets\":[\"\\n:host(.pn-loading):before, .pn-loading:before {\\n  background-color: #c3c3c3;\\n  mask-size: auto calc(min(50%, 400px));\\n  -webkit-mask-size: auto calc(min(50%, 400px));\\n}\",{\"type\":\"object\",\"name\":\"ImportedStyleSheet\",\"id\":\"9a19f763-98f7-4d5b-8b62-c5156d410593\",\"attributes\":{\"url\":\"https://cdn.holoviz.org/panel/1.6.1/dist/css/loading.css\"}},{\"id\":\"84e9fffa-5536-45b5-9f12-724ffe85979f\"}],\"margin\":0,\"sizing_mode\":\"stretch_width\",\"align\":\"start\",\"attrs\":{\"type\":\"map\",\"entries\":[[\"flexbox\",[[\"style\",[\"flex_wrap\",\"justify_content\",\"flex_direction\",\"align_content\",\"align_items\",\"gap\"],\"display: flex; flex-wrap: {flex_wrap}; justify-content: {justify_content}; flex-direction: {flex_direction}; align-content: {align_content}; align-items: {align_items}; gap: {gap}; height: 100%;\"]]]]},\"children\":{\"type\":\"map\",\"entries\":[[\"flex-item\",[{\"type\":\"object\",\"name\":\"panel.models.markup.HTML\",\"id\":\"65db2266-4a8b-4b6f-8d6f-84c9671cdab7\",\"attributes\":{\"styles\":{\"type\":\"map\",\"entries\":[[\"box-shadow\",\"3px 3px 6px rgba(0,0,0,0.3)\"],[\"border-radius\",\"10px\"],[\"padding\",\"10px\"],[\"background\",\"#DCEFF0\"],[\"width\",\"385px\"],[\"height\",\"220px\"]]},\"stylesheets\":[\"\\n:host(.pn-loading):before, .pn-loading:before {\\n  background-color: #c3c3c3;\\n  mask-size: auto calc(min(50%, 400px));\\n  -webkit-mask-size: auto calc(min(50%, 400px));\\n}\",{\"type\":\"object\",\"name\":\"ImportedStyleSheet\",\"id\":\"2a40c869-eefa-49a0-b55c-d689179353e9\",\"attributes\":{\"url\":\"https://cdn.holoviz.org/panel/1.6.1/dist/css/loading.css\"}},{\"id\":\"84e9fffa-5536-45b5-9f12-724ffe85979f\"}],\"margin\":[5,10],\"align\":\"start\",\"text\":\"&amp;lt;div style=&amp;quot;font-size: 18pt; color: black&amp;quot;&amp;gt;The worst-performing day &amp;lt;br&amp;gt; (03.Aug &amp;amp; 30.May)\\ud83d\\udcc9&amp;lt;/div&amp;gt;\\n&amp;lt;div style=&amp;quot;font-size: 54pt; color: black&amp;quot;&amp;gt;&amp;lt;span style=&amp;quot;font-size:1.5em;&amp;quot;&amp;gt;23&amp;lt;/span&amp;gt;&amp;lt;span style=&amp;quot;font-size:0.7em;&amp;quot;&amp;gt; items&amp;lt;/span&amp;gt;&amp;lt;/div&amp;gt;\"}},{\"type\":\"object\",\"name\":\"panel.models.markup.HTML\",\"id\":\"94511624-f246-4859-8510-ce4eb72c5bed\",\"attributes\":{\"styles\":{\"type\":\"map\",\"entries\":[[\"box-shadow\",\"3px 3px 6px rgba(0,0,0,0.3)\"],[\"border-radius\",\"10px\"],[\"padding\",\"10px\"],[\"background\",\"#DCEFF0\"],[\"width\",\"385px\"],[\"height\",\"220px\"]]},\"stylesheets\":[\"\\n:host(.pn-loading):before, .pn-loading:before {\\n  background-color: #c3c3c3;\\n  mask-size: auto calc(min(50%, 400px));\\n  -webkit-mask-size: auto calc(min(50%, 400px));\\n}\",{\"type\":\"object\",\"name\":\"ImportedStyleSheet\",\"id\":\"10392dfb-79be-4150-963a-4a872e13b2fb\",\"attributes\":{\"url\":\"https://cdn.holoviz.org/panel/1.6.1/dist/css/loading.css\"}},{\"id\":\"84e9fffa-5536-45b5-9f12-724ffe85979f\"}],\"margin\":[5,10],\"align\":\"start\",\"text\":\"&amp;lt;div style=&amp;quot;font-size: 18pt; color: black&amp;quot;&amp;gt;Franklin Attard &amp;lt;br&amp;gt; the biggest Loser&amp;lt;/div&amp;gt;\\n&amp;lt;div style=&amp;quot;font-size: 54pt; color: black&amp;quot;&amp;gt;&amp;lt;span style=&amp;quot;font-size:1.5em;&amp;quot;&amp;gt;39&amp;lt;/span&amp;gt;&amp;lt;span style=&amp;quot;font-size:0.7em;&amp;quot;&amp;gt; items&amp;lt;/span&amp;gt;&amp;lt;/div&amp;gt;\"}},{\"type\":\"object\",\"name\":\"panel.models.markup.HTML\",\"id\":\"55e4bcd8-c9ab-4526-a6a8-755aa737b980\",\"attributes\":{\"styles\":{\"type\":\"map\",\"entries\":[[\"box-shadow\",\"3px 3px 6px rgba(0,0,0,0.3)\"],[\"border-radius\",\"10px\"],[\"padding\",\"10px\"],[\"background\",\"#DCEFF0\"],[\"width\",\"385px\"],[\"height\",\"220px\"]]},\"stylesheets\":[\"\\n:host(.pn-loading):before, .pn-loading:before {\\n  background-color: #c3c3c3;\\n  mask-size: auto calc(min(50%, 400px));\\n  -webkit-mask-size: auto calc(min(50%, 400px));\\n}\",{\"type\":\"object\",\"name\":\"ImportedStyleSheet\",\"id\":\"c3385e59-f70b-4cca-96f9-9c92bd626bfc\",\"attributes\":{\"url\":\"https://cdn.holoviz.org/panel/1.6.1/dist/css/loading.css\"}},{\"id\":\"84e9fffa-5536-45b5-9f12-724ffe85979f\"}],\"margin\":[5,10],\"align\":\"start\",\"text\":\"&amp;lt;div style=&amp;quot;font-size: 18pt; color: black&amp;quot;&amp;gt;Morning shift had the &amp;lt;br&amp;gt; hieghest missing rate&amp;lt;/div&amp;gt;\\n&amp;lt;div style=&amp;quot;font-size: 54pt; color: black&amp;quot;&amp;gt;&amp;lt;span style=&amp;quot;font-size:1.5em;&amp;quot;&amp;gt;84&amp;lt;/span&amp;gt;&amp;lt;span style=&amp;quot;font-size:0.7em;&amp;quot;&amp;gt; items&amp;lt;/span&amp;gt;&amp;lt;/div&amp;gt;\"}}]]]},\"data\":{\"type\":\"object\",\"name\":\"FlexBox1\",\"id\":\"a21bd5aa-c981-461b-bd22-4d850d7434b0\",\"attributes\":{\"name\":\"FlexBox04436\"}},\"html\":\"&amp;lt;div id=&amp;quot;flexbox-${id}&amp;quot; style=&amp;quot;display: flex; flex-wrap: ${flex_wrap}; justify-content: ${justify_content}; flex-direction: ${flex_direction}; align-content: ${align_content}; align-items: ${align_items}; gap: ${gap}; height: 100%;&amp;quot;&amp;gt;\\n\\n  &amp;lt;div id=&amp;quot;flex-item-0-${id}&amp;quot; style=&amp;quot;display: contents;&amp;quot;&amp;gt;\\n\\n  &amp;lt;/div&amp;gt;\\n\\n  &amp;lt;div id=&amp;quot;flex-item-1-${id}&amp;quot; style=&amp;quot;display: contents;&amp;quot;&amp;gt;\\n\\n  &amp;lt;/div&amp;gt;\\n\\n  &amp;lt;div id=&amp;quot;flex-item-2-${id}&amp;quot; style=&amp;quot;display: contents;&amp;quot;&amp;gt;\\n\\n  &amp;lt;/div&amp;gt;\\n\\n&amp;lt;/div&amp;gt;\",\"looped\":[\"flex-item\"],\"nodes\":[\"flexbox\",\"flex-item-0\",\"flex-item-1\",\"flex-item-2\"]}}]}},{\"type\":\"object\",\"name\":\"panel.models.layout.Column\",\"id\":\"03b7a29f-f6f5-4645-b4b3-b1255534e3f0\",\"attributes\":{\"name\":\"Column05324\",\"stylesheets\":[\"\\n:host(.pn-loading):before, .pn-loading:before {\\n  background-color: #c3c3c3;\\n  mask-size: auto calc(min(50%, 400px));\\n  -webkit-mask-size: auto calc(min(50%, 400px));\\n}\",{\"type\":\"object\",\"name\":\"ImportedStyleSheet\",\"id\":\"deac444a-6d3f-4207-babb-1b4c0247d69b\",\"attributes\":{\"url\":\"https://cdn.holoviz.org/panel/1.6.1/dist/css/loading.css\"}},{\"type\":\"object\",\"name\":\"ImportedStyleSheet\",\"id\":\"56d7b125-1252-44b4-b356-e472a1be874b\",\"attributes\":{\"url\":\"https://cdn.holoviz.org/panel/1.6.1/dist/css/listpanel.css\"}},{\"id\":\"84e9fffa-5536-45b5-9f12-724ffe85979f\"}],\"min_width\":200,\"margin\":0,\"sizing_mode\":\"stretch_width\",\"align\":\"start\",\"children\":[{\"type\":\"object\",\"name\":\"Row\",\"id\":\"af243547-9a85-4b89-8db3-c814e24cbea3\",\"attributes\":{\"name\":\"Row05321\",\"stylesheets\":[\"\\n:host(.pn-loading):before, .pn-loading:before {\\n  background-color: #c3c3c3;\\n  mask-size: auto calc(min(50%, 400px));\\n  -webkit-mask-size: auto calc(min(50%, 400px));\\n}\",{\"type\":\"object\",\"name\":\"ImportedStyleSheet\",\"id\":\"7579cc95-c2db-4cbb-af79-70e2c1a4981e\",\"attributes\":{\"url\":\"https://cdn.holoviz.org/panel/1.6.1/dist/css/loading.css\"}},{\"type\":\"object\",\"name\":\"ImportedStyleSheet\",\"id\":\"a7c66246-05c3-4e19-a197-bfc5607a4472\",\"attributes\":{\"url\":\"https://cdn.holoviz.org/panel/1.6.1/dist/css/listpanel.css\"}},{\"id\":\"84e9fffa-5536-45b5-9f12-724ffe85979f\"}],\"margin\":0,\"sizing_mode\":\"stretch_width\",\"align\":\"start\",\"children\":[{\"type\":\"object\",\"name\":\"panel.models.layout.Column\",\"id\":\"c0e7d307-4fd0-4724-b133-2a91e80fae01\",\"attributes\":{\"name\":\"Column01993\",\"stylesheets\":[\"\\n:host(.pn-loading):before, .pn-loading:before {\\n  background-color: #c3c3c3;\\n  mask-size: auto calc(min(50%, 400px));\\n  -webkit-mask-size: auto calc(min(50%, 400px));\\n}\",{\"type\":\"object\",\"name\":\"ImportedStyleSheet\",\"id\":\"322d8c9b-b321-4eb9-8e69-8d54694d7c4e\",\"attributes\":{\"url\":\"https://cdn.holoviz.org/panel/1.6.1/dist/css/loading.css\"}},{\"id\":\"84e9fffa-5536-45b5-9f12-724ffe85979f\"}],\"margin\":0,\"align\":\"start\",\"children\":[{\"type\":\"object\",\"name\":\"panel.models.plotly.PlotlyPlot\",\"id\":\"b9c6cbfc-740d-4b2e-985f-2722c74ee848\",\"attributes\":{\"name\":\"ParamFunction01989\",\"subscribed_events\":{\"type\":\"set\",\"entries\":[\"plotly_event\"]},\"stylesheets\":[\"\\n:host(.pn-loading):before, .pn-loading:before {\\n  background-color: #c3c3c3;\\n  mask-size: auto calc(min(50%, 400px));\\n  -webkit-mask-size: auto calc(min(50%, 400px));\\n}\",{\"type\":\"object\",\"name\":\"ImportedStyleSheet\",\"id\":\"959b1ca3-bebf-4661-a379-861a51f24aa4\",\"attributes\":{\"url\":\"https://cdn.holoviz.org/panel/1.6.1/dist/css/loading.css\"}},{\"type\":\"object\",\"name\":\"ImportedStyleSheet\",\"id\":\"709c2817-aa66-484d-b159-5275e08e1706\",\"attributes\":{\"url\":\"static/extensions/panel/bundled/plotlyplot/maplibre-gl@4.4.1/dist/maplibre-gl.css\"}},{\"id\":\"84e9fffa-5536-45b5-9f12-724ffe85979f\"},\":host { --plotly-icon-color: gray; --plotly-active-icon-color: #2a3f5f; }\"],\"margin\":[5,10],\"align\":\"start\",\"data\":[{\"type\":\"map\",\"entries\":[[\"hovertemplate\",\"Date=%{x}&lt;br&gt;Inventory Discrepancy=%{marker.color}&lt;extra&gt;&lt;/extra&gt;\"],[\"legendgroup\",\"\"],[\"marker\",{\"type\":\"map\",\"entries\":[[\"coloraxis\",\"coloraxis\"],[\"pattern\",{\"type\":\"map\",\"entries\":[[\"shape\",\"\"]]}]]}],[\"name\",\"\"],[\"orientation\",\"v\"],[\"showlegend\",false],[\"textposition\",\"auto\"],[\"xaxis\",\"x\"],[\"yaxis\",\"y\"],[\"type\",\"bar\"]]}],\"layout\":{\"type\":\"map\",\"entries\":[[\"template\",{\"type\":\"map\",\"entries\":[[\"data\",{\"type\":\"map\",\"entries\":[[\"histogram2dcontour\",[{\"type\":\"map\",\"entries\":[[\"type\",\"histogram2dcontour\"],[\"colorbar\",{\"type\":\"map\",\"entries\":[[\"outlinewidth\",0],[\"ticks\",\"\"]]}],[\"colorscale\",[[0.0,\"#0d0887\"],[0.1111111111111111,\"#46039f\"],[0.2222222222222222,\"#7201a8\"],[0.3333333333333333,\"#9c179e\"],[0.4444444444444444,\"#bd3786\"],[0.5555555555555556,\"#d8576b\"],[0.6666666666666666,\"#ed7953\"],[0.7777777777777778,\"#fb9f3a\"],[0.8888888888888888,\"#fdca26\"],[1.0,\"#f0f921\"]]]]}]],[\"choropleth\",[{\"type\":\"map\",\"entries\":[[\"type\",\"choropleth\"],[\"colorbar\",{\"type\":\"map\",\"entries\":[[\"outlinewidth\",0],[\"ticks\",\"\"]]}]]}]],[\"histogram2d\",[{\"type\":\"map\",\"entries\":[[\"type\",\"histogram2d\"],[\"colorbar\",{\"type\":\"map\",\"entries\":[[\"outlinewidth\",0],[\"ticks\",\"\"]]}],[\"colorscale\",[[0.0,\"#0d0887\"],[0.1111111111111111,\"#46039f\"],[0.2222222222222222,\"#7201a8\"],[0.3333333333333333,\"#9c179e\"],[0.4444444444444444,\"#bd3786\"],[0.5555555555555556,\"#d8576b\"],[0.6666666666666666,\"#ed7953\"],[0.7777777777777778,\"#fb9f3a\"],[0.8888888888888888,\"#fdca26\"],[1.0,\"#f0f921\"]]]]}]],[\"heatmap\",[{\"type\":\"map\",\"entries\":[[\"type\",\"heatmap\"],[\"colorbar\",{\"type\":\"map\",\"entries\":[[\"outlinewidth\",0],[\"ticks\",\"\"]]}],[\"colorscale\",[[0.0,\"#0d0887\"],[0.1111111111111111,\"#46039f\"],[0.2222222222222222,\"#7201a8\"],[0.3333333333333333,\"#9c179e\"],[0.4444444444444444,\"#bd3786\"],[0.5555555555555556,\"#d8576b\"],[0.6666666666666666,\"#ed7953\"],[0.7777777777777778,\"#fb9f3a\"],[0.8888888888888888,\"#fdca26\"],[1.0,\"#f0f921\"]]]]}]],[\"contourcarpet\",[{\"type\":\"map\",\"entries\":[[\"type\",\"contourcarpet\"],[\"colorbar\",{\"type\":\"map\",\"entries\":[[\"outlinewidth\",0],[\"ticks\",\"\"]]}]]}]],[\"contour\",[{\"type\":\"map\",\"entries\":[[\"type\",\"contour\"],[\"colorbar\",{\"type\":\"map\",\"entries\":[[\"outlinewidth\",0],[\"ticks\",\"\"]]}],[\"colorscale\",[[0.0,\"#0d0887\"],[0.1111111111111111,\"#46039f\"],[0.2222222222222222,\"#7201a8\"],[0.3333333333333333,\"#9c179e\"],[0.4444444444444444,\"#bd3786\"],[0.5555555555555556,\"#d8576b\"],[0.6666666666666666,\"#ed7953\"],[0.7777777777777778,\"#fb9f3a\"],[0.8888888888888888,\"#fdca26\"],[1.0,\"#f0f921\"]]]]}]],[\"surface\",[{\"type\":\"map\",\"entries\":[[\"type\",\"surface\"],[\"colorbar\",{\"type\":\"map\",\"entries\":[[\"outlinewidth\",0],[\"ticks\",\"\"]]}],[\"colorscale\",[[0.0,\"#0d0887\"],[0.1111111111111111,\"#46039f\"],[0.2222222222222222,\"#7201a8\"],[0.3333333333333333,\"#9c179e\"],[0.4444444444444444,\"#bd3786\"],[0.5555555555555556,\"#d8576b\"],[0.6666666666666666,\"#ed7953\"],[0.7777777777777778,\"#fb9f3a\"],[0.8888888888888888,\"#fdca26\"],[1.0,\"#f0f921\"]]]]}]],[\"mesh3d\",[{\"type\":\"map\",\"entries\":[[\"type\",\"mesh3d\"],[\"colorbar\",{\"type\":\"map\",\"entries\":[[\"outlinewidth\",0],[\"ticks\",\"\"]]}]]}]],[\"scatter\",[{\"type\":\"map\",\"entries\":[[\"fillpattern\",{\"type\":\"map\",\"entries\":[[\"fillmode\",\"overlay\"],[\"size\",10],[\"solidity\",0.2]]}],[\"type\",\"scatter\"]]}]],[\"parcoords\",[{\"type\":\"map\",\"entries\":[[\"type\",\"parcoords\"],[\"line\",{\"type\":\"map\",\"entries\":[[\"colorbar\",{\"type\":\"map\",\"entries\":[[\"outlinewidth\",0],[\"ticks\",\"\"]]}]]}]]}]],[\"scatterpolargl\",[{\"type\":\"map\",\"entries\":[[\"type\",\"scatterpolargl\"],[\"marker\",{\"type\":\"map\",\"entries\":[[\"colorbar\",{\"type\":\"map\",\"entries\":[[\"outlinewidth\",0],[\"ticks\",\"\"]]}]]}]]}]],[\"bar\",[{\"type\":\"map\",\"entries\":[[\"error_x\",{\"type\":\"map\",\"entries\":[[\"color\",\"#2a3f5f\"]]}],[\"error_y\",{\"type\":\"map\",\"entries\":[[\"color\",\"#2a3f5f\"]]}],[\"marker\",{\"type\":\"map\",\"entries\":[[\"line\",{\"type\":\"map\",\"entries\":[[\"color\",\"#E5ECF6\"],[\"width\",0.5]]}],[\"pattern\",{\"type\":\"map\",\"entries\":[[\"fillmode\",\"overlay\"],[\"size\",10],[\"solidity\",0.2]]}]]}],[\"type\",\"bar\"]]}]],[\"scattergeo\",[{\"type\":\"map\",\"entries\":[[\"type\",\"scattergeo\"],[\"marker\",{\"type\":\"map\",\"entries\":[[\"colorbar\",{\"type\":\"map\",\"entries\":[[\"outlinewidth\",0],[\"ticks\",\"\"]]}]]}]]}]],[\"scatterpolar\",[{\"type\":\"map\",\"entries\":[[\"type\",\"scatterpolar\"],[\"marker\",{\"type\":\"map\",\"entries\":[[\"colorbar\",{\"type\":\"map\",\"entries\":[[\"outlinewidth\",0],[\"ticks\",\"\"]]}]]}]]}]],[\"histogram\",[{\"type\":\"map\",\"entries\":[[\"marker\",{\"type\":\"map\",\"entries\":[[\"pattern\",{\"type\":\"map\",\"entries\":[[\"fillmode\",\"overlay\"],[\"size\",10],[\"solidity\",0.2]]}]]}],[\"type\",\"histogram\"]]}]],[\"scattergl\",[{\"type\":\"map\",\"entries\":[[\"type\",\"scattergl\"],[\"marker\",{\"type\":\"map\",\"entries\":[[\"colorbar\",{\"type\":\"map\",\"entries\":[[\"outlinewidth\",0],[\"ticks\",\"\"]]}]]}]]}]],[\"scatter3d\",[{\"type\":\"map\",\"entries\":[[\"type\",\"scatter3d\"],[\"line\",{\"type\":\"map\",\"entries\":[[\"colorbar\",{\"type\":\"map\",\"entries\":[[\"outlinewidth\",0],[\"ticks\",\"\"]]}]]}],[\"marker\",{\"type\":\"map\",\"entries\":[[\"colorbar\",{\"type\":\"map\",\"entries\":[[\"outlinewidth\",0],[\"ticks\",\"\"]]}]]}]]}]],[\"scattermap\",[{\"type\":\"map\",\"entries\":[[\"type\",\"scattermap\"],[\"marker\",{\"type\":\"map\",\"entries\":[[\"colorbar\",{\"type\":\"map\",\"entries\":[[\"outlinewidth\",0],[\"ticks\",\"\"]]}]]}]]}]],[\"scattermapbox\",[{\"type\":\"map\",\"entries\":[[\"type\",\"scattermapbox\"],[\"marker\",{\"type\":\"map\",\"entries\":[[\"colorbar\",{\"type\":\"map\",\"entries\":[[\"outlinewidth\",0],[\"ticks\",\"\"]]}]]}]]}]],[\"scatterternary\",[{\"type\":\"map\",\"entries\":[[\"type\",\"scatterternary\"],[\"marker\",{\"type\":\"map\",\"entries\":[[\"colorbar\",{\"type\":\"map\",\"entries\":[[\"outlinewidth\",0],[\"ticks\",\"\"]]}]]}]]}]],[\"scattercarpet\",[{\"type\":\"map\",\"entries\":[[\"type\",\"scattercarpet\"],[\"marker\",{\"type\":\"map\",\"entries\":[[\"colorbar\",{\"type\":\"map\",\"entries\":[[\"outlinewidth\",0],[\"ticks\",\"\"]]}]]}]]}]],[\"carpet\",[{\"type\":\"map\",\"entries\":[[\"aaxis\",{\"type\":\"map\",\"entries\":[[\"endlinecolor\",\"#2a3f5f\"],[\"gridcolor\",\"white\"],[\"linecolor\",\"white\"],[\"minorgridcolor\",\"white\"],[\"startlinecolor\",\"#2a3f5f\"]]}],[\"baxis\",{\"type\":\"map\",\"entries\":[[\"endlinecolor\",\"#2a3f5f\"],[\"gridcolor\",\"white\"],[\"linecolor\",\"white\"],[\"minorgridcolor\",\"white\"],[\"startlinecolor\",\"#2a3f5f\"]]}],[\"type\",\"carpet\"]]}]],[\"table\",[{\"type\":\"map\",\"entries\":[[\"cells\",{\"type\":\"map\",\"entries\":[[\"fill\",{\"type\":\"map\",\"entries\":[[\"color\",\"#EBF0F8\"]]}],[\"line\",{\"type\":\"map\",\"entries\":[[\"color\",\"white\"]]}]]}],[\"header\",{\"type\":\"map\",\"entries\":[[\"fill\",{\"type\":\"map\",\"entries\":[[\"color\",\"#C8D4E3\"]]}],[\"line\",{\"type\":\"map\",\"entries\":[[\"color\",\"white\"]]}]]}],[\"type\",\"table\"]]}]],[\"barpolar\",[{\"type\":\"map\",\"entries\":[[\"marker\",{\"type\":\"map\",\"entries\":[[\"line\",{\"type\":\"map\",\"entries\":[[\"color\",\"#E5ECF6\"],[\"width\",0.5]]}],[\"pattern\",{\"type\":\"map\",\"entries\":[[\"fillmode\",\"overlay\"],[\"size\",10],[\"solidity\",0.2]]}]]}],[\"type\",\"barpolar\"]]}]],[\"pie\",[{\"type\":\"map\",\"entries\":[[\"automargin\",true],[\"type\",\"pie\"]]}]]]}],[\"layout\",{\"type\":\"map\",\"entries\":[[\"autotypenumbers\",\"strict\"],[\"colorway\",[\"#636efa\",\"#EF553B\",\"#00cc96\",\"#ab63fa\",\"#FFA15A\",\"#19d3f3\",\"#FF6692\",\"#B6E880\",\"#FF97FF\",\"#FECB52\"]],[\"font\",{\"type\":\"map\",\"entries\":[[\"color\",\"#2a3f5f\"]]}],[\"hovermode\",\"closest\"],[\"hoverlabel\",{\"type\":\"map\",\"entries\":[[\"align\",\"left\"]]}],[\"paper_bgcolor\",\"white\"],[\"plot_bgcolor\",\"#E5ECF6\"],[\"polar\",{\"type\":\"map\",\"entries\":[[\"bgcolor\",\"#E5ECF6\"],[\"angularaxis\",{\"type\":\"map\",\"entries\":[[\"gridcolor\",\"white\"],[\"linecolor\",\"white\"],[\"ticks\",\"\"]]}],[\"radialaxis\",{\"type\":\"map\",\"entries\":[[\"gridcolor\",\"white\"],[\"linecolor\",\"white\"],[\"ticks\",\"\"]]}]]}],[\"ternary\",{\"type\":\"map\",\"entries\":[[\"bgcolor\",\"#E5ECF6\"],[\"aaxis\",{\"type\":\"map\",\"entries\":[[\"gridcolor\",\"white\"],[\"linecolor\",\"white\"],[\"ticks\",\"\"]]}],[\"baxis\",{\"type\":\"map\",\"entries\":[[\"gridcolor\",\"white\"],[\"linecolor\",\"white\"],[\"ticks\",\"\"]]}],[\"caxis\",{\"type\":\"map\",\"entries\":[[\"gridcolor\",\"white\"],[\"linecolor\",\"white\"],[\"ticks\",\"\"]]}]]}],[\"coloraxis\",{\"type\":\"map\",\"entries\":[[\"colorbar\",{\"type\":\"map\",\"entries\":[[\"outlinewidth\",0],[\"ticks\",\"\"]]}]]}],[\"colorscale\",{\"type\":\"map\",\"entries\":[[\"sequential\",[[0.0,\"#0d0887\"],[0.1111111111111111,\"#46039f\"],[0.2222222222222222,\"#7201a8\"],[0.3333333333333333,\"#9c179e\"],[0.4444444444444444,\"#bd3786\"],[0.5555555555555556,\"#d8576b\"],[0.6666666666666666,\"#ed7953\"],[0.7777777777777778,\"#fb9f3a\"],[0.8888888888888888,\"#fdca26\"],[1.0,\"#f0f921\"]]],[\"sequentialminus\",[[0.0,\"#0d0887\"],[0.1111111111111111,\"#46039f\"],[0.2222222222222222,\"#7201a8\"],[0.3333333333333333,\"#9c179e\"],[0.4444444444444444,\"#bd3786\"],[0.5555555555555556,\"#d8576b\"],[0.6666666666666666,\"#ed7953\"],[0.7777777777777778,\"#fb9f3a\"],[0.8888888888888888,\"#fdca26\"],[1.0,\"#f0f921\"]]],[\"diverging\",[[0,\"#8e0152\"],[0.1,\"#c51b7d\"],[0.2,\"#de77ae\"],[0.3,\"#f1b6da\"],[0.4,\"#fde0ef\"],[0.5,\"#f7f7f7\"],[0.6,\"#e6f5d0\"],[0.7,\"#b8e186\"],[0.8,\"#7fbc41\"],[0.9,\"#4d9221\"],[1,\"#276419\"]]]]}],[\"xaxis\",{\"type\":\"map\",\"entries\":[[\"gridcolor\",\"white\"],[\"linecolor\",\"white\"],[\"ticks\",\"\"],[\"title\",{\"type\":\"map\",\"entries\":[[\"standoff\",15]]}],[\"zerolinecolor\",\"white\"],[\"automargin\",true],[\"zerolinewidth\",2]]}],[\"yaxis\",{\"type\":\"map\",\"entries\":[[\"gridcolor\",\"white\"],[\"linecolor\",\"white\"],[\"ticks\",\"\"],[\"title\",{\"type\":\"map\",\"entries\":[[\"standoff\",15]]}],[\"zerolinecolor\",\"white\"],[\"automargin\",true],[\"zerolinewidth\",2]]}],[\"scene\",{\"type\":\"map\",\"entries\":[[\"xaxis\",{\"type\":\"map\",\"entries\":[[\"backgroundcolor\",\"#E5ECF6\"],[\"gridcolor\",\"white\"],[\"linecolor\",\"white\"],[\"showbackground\",true],[\"ticks\",\"\"],[\"zerolinecolor\",\"white\"],[\"gridwidth\",2]]}],[\"yaxis\",{\"type\":\"map\",\"entries\":[[\"backgroundcolor\",\"#E5ECF6\"],[\"gridcolor\",\"white\"],[\"linecolor\",\"white\"],[\"showbackground\",true],[\"ticks\",\"\"],[\"zerolinecolor\",\"white\"],[\"gridwidth\",2]]}],[\"zaxis\",{\"type\":\"map\",\"entries\":[[\"backgroundcolor\",\"#E5ECF6\"],[\"gridcolor\",\"white\"],[\"linecolor\",\"white\"],[\"showbackground\",true],[\"ticks\",\"\"],[\"zerolinecolor\",\"white\"],[\"gridwidth\",2]]}]]}],[\"shapedefaults\",{\"type\":\"map\",\"entries\":[[\"line\",{\"type\":\"map\",\"entries\":[[\"color\",\"#2a3f5f\"]]}]]}],[\"annotationdefaults\",{\"type\":\"map\",\"entries\":[[\"arrowcolor\",\"#2a3f5f\"],[\"arrowhead\",0],[\"arrowwidth\",1]]}],[\"geo\",{\"type\":\"map\",\"entries\":[[\"bgcolor\",\"white\"],[\"landcolor\",\"#E5ECF6\"],[\"subunitcolor\",\"white\"],[\"showland\",true],[\"showlakes\",true],[\"lakecolor\",\"white\"]]}],[\"title\",{\"type\":\"map\",\"entries\":[[\"x\",0.05]]}],[\"mapbox\",{\"type\":\"map\",\"entries\":[[\"style\",\"light\"]]}]]}]]}],[\"xaxis\",{\"type\":\"map\",\"entries\":[[\"anchor\",\"y\"],[\"domain\",[0.0,1.0]],[\"title\",{\"type\":\"map\",\"entries\":[[\"text\",\"Date\"]]}],[\"gridcolor\",\"lightgray\"],[\"showgrid\",true]]}],[\"yaxis\",{\"type\":\"map\",\"entries\":[[\"anchor\",\"x\"],[\"domain\",[0.0,1.0]],[\"title\",{\"type\":\"map\",\"entries\":[[\"text\",\"Total Inventory Discrepancy\"]]}],[\"gridcolor\",\"black\"]]}],[\"coloraxis\",{\"type\":\"map\",\"entries\":[[\"colorbar\",{\"type\":\"map\",\"entries\":[[\"title\",{\"type\":\"map\",\"entries\":[[\"text\",\"Inventory Discrepancy\"]]}]]}],[\"colorscale\",[[0.0,\"red\"],[1.0,\"teal\"]]]]}],[\"legend\",{\"type\":\"map\",\"entries\":[[\"tracegroupgap\",0]]}],[\"title\",{\"type\":\"map\",\"entries\":[[\"text\",\"Inventory Discrepancy by Date\"]]}],[\"barmode\",\"relative\"],[\"font\",{\"type\":\"map\",\"entries\":[[\"color\",\"black\"]]}],[\"plot_bgcolor\",\"#f8f8f8\"],[\"paper_bgcolor\",\"#f8f8f8\"],[\"width\",1200],[\"height\",500]]},\"data_sources\":[{\"type\":\"object\",\"name\":\"ColumnDataSource\",\"id\":\"a7b9add8-df99-41da-a239-f0e3e9675b63\",\"attributes\":{\"selected\":{\"type\":\"object\",\"name\":\"Selection\",\"id\":\"17ee844e-5a6d-4d95-8122-64e55b79ecef\",\"attributes\":{\"indices\":[],\"line_indices\":[]}},\"selection_policy\":{\"type\":\"object\",\"name\":\"UnionRenderers\",\"id\":\"640493d0-2849-4d73-87d1-f605cec5b52c\"},\"data\":{\"type\":\"map\",\"entries\":[[\"x\",[{\"type\":\"ndarray\",\"array\":[\"2024-01-01T00:00:00.000000000\",\"2024-01-02T00:00:00.000000000\",\"2024-01-03T00:00:00.000000000\",\"2024-01-04T00:00:00.000000000\",\"2024-01-05T00:00:00.000000000\",\"2024-01-06T00:00:00.000000000\",\"2024-01-07T00:00:00.000000000\",\"2024-01-08T00:00:00.000000000\",\"2024-01-09T00:00:00.000000000\",\"2024-01-10T00:00:00.000000000\",\"2024-01-11T00:00:00.000000000\",\"2024-01-12T00:00:00.000000000\",\"2024-01-13T00:00:00.000000000\",\"2024-01-14T00:00:00.000000000\",\"2024-01-15T00:00:00.000000000\",\"2024-01-16T00:00:00.000000000\",\"2024-01-17T00:00:00.000000000\",\"2024-01-18T00:00:00.000000000\",\"2024-01-19T00:00:00.000000000\",\"2024-01-20T00:00:00.000000000\",\"2024-01-21T00:00:00.000000000\",\"2024-01-22T00:00:00.000000000\",\"2024-01-23T00:00:00.000000000\",\"2024-01-24T00:00:00.000000000\",\"2024-01-25T00:00:00.000000000\",\"2024-01-26T00:00:00.000000000\",\"2024-01-27T00:00:00.000000000\",\"2024-01-28T00:00:00.000000000\",\"2024-01-29T00:00:00.000000000\",\"2024-01-30T00:00:00.000000000\",\"2024-01-31T00:00:00.000000000\",\"2024-02-01T00:00:00.000000000\",\"2024-02-02T00:00:00.000000000\",\"2024-02-03T00:00:00.000000000\",\"2024-02-04T00:00:00.000000000\",\"2024-02-05T00:00:00.000000000\",\"2024-02-06T00:00:00.000000000\",\"2024-02-07T00:00:00.000000000\",\"2024-02-08T00:00:00.000000000\",\"2024-02-09T00:00:00.000000000\",\"2024-02-10T00:00:00.000000000\",\"2024-02-11T00:00:00.000000000\",\"2024-02-12T00:00:00.000000000\",\"2024-02-13T00:00:00.000000000\",\"2024-02-14T00:00:00.000000000\",\"2024-02-15T00:00:00.000000000\",\"2024-02-16T00:00:00.000000000\",\"2024-02-17T00:00:00.000000000\",\"2024-02-18T00:00:00.000000000\",\"2024-02-19T00:00:00.000000000\",\"2024-02-20T00:00:00.000000000\",\"2024-02-21T00:00:00.000000000\",\"2024-02-22T00:00:00.000000000\",\"2024-02-23T00:00:00.000000000\",\"2024-02-24T00:00:00.000000000\",\"2024-02-25T00:00:00.000000000\",\"2024-02-26T00:00:00.000000000\",\"2024-02-27T00:00:00.000000000\",\"2024-02-28T00:00:00.000000000\",\"2024-02-29T00:00:00.000000000\",\"2024-03-01T00:00:00.000000000\",\"2024-03-02T00:00:00.000000000\",\"2024-03-03T00:00:00.000000000\",\"2024-03-04T00:00:00.000000000\",\"2024-03-05T00:00:00.000000000\",\"2024-03-06T00:00:00.000000000\",\"2024-03-07T00:00:00.000000000\",\"2024-03-08T00:00:00.000000000\",\"2024-03-09T00:00:00.000000000\",\"2024-03-10T00:00:00.000000000\",\"2024-03-11T00:00:00.000000000\",\"2024-03-12T00:00:00.000000000\",\"2024-03-13T00:00:00.000000000\",\"2024-03-14T00:00:00.000000000\",\"2024-03-15T00:00:00.000000000\",\"2024-03-16T00:00:00.000000000\",\"2024-03-17T00:00:00.000000000\",\"2024-03-18T00:00:00.000000000\",\"2024-03-19T00:00:00.000000000\",\"2024-03-20T00:00:00.000000000\",\"2024-03-21T00:00:00.000000000\",\"2024-03-22T00:00:00.000000000\",\"2024-03-23T00:00:00.000000000\",\"2024-03-24T00:00:00.000000000\",\"2024-03-25T00:00:00.000000000\",\"2024-03-26T00:00:00.000000000\",\"2024-03-27T00:00:00.000000000\",\"2024-03-28T00:00:00.000000000\",\"2024-03-29T00:00:00.000000000\",\"2024-03-30T00:00:00.000000000\",\"2024-03-31T00:00:00.000000000\",\"2024-04-01T00:00:00.000000000\",\"2024-04-02T00:00:00.000000000\",\"2024-04-03T00:00:00.000000000\",\"2024-04-04T00:00:00.000000000\",\"2024-04-05T00:00:00.000000000\",\"2024-04-06T00:00:00.000000000\",\"2024-04-07T00:00:00.000000000\",\"2024-04-08T00:00:00.000000000\",\"2024-04-09T00:00:00.000000000\",\"2024-04-10T00:00:00.000000000\",\"2024-04-11T00:00:00.000000000\",\"2024-04-12T00:00:00.000000000\",\"2024-04-13T00:00:00.000000000\",\"2024-04-14T00:00:00.000000000\",\"2024-04-15T00:00:00.000000000\",\"2024-04-16T00:00:00.000000000\",\"2024-04-17T00:00:00.000000000\",\"2024-04-18T00:00:00.000000000\",\"2024-04-19T00:00:00.000000000\",\"2024-04-20T00:00:00.000000000\",\"2024-04-21T00:00:00.000000000\",\"2024-04-22T00:00:00.000000000\",\"2024-04-23T00:00:00.000000000\",\"2024-04-24T00:00:00.000000000\",\"2024-04-25T00:00:00.000000000\",\"2024-04-26T00:00:00.000000000\",\"2024-04-27T00:00:00.000000000\",\"2024-04-28T00:00:00.000000000\",\"2024-04-29T00:00:00.000000000\",\"2024-04-30T00:00:00.000000000\",\"2024-05-01T00:00:00.000000000\",\"2024-05-02T00:00:00.000000000\",\"2024-05-03T00:00:00.000000000\",\"2024-05-04T00:00:00.000000000\",\"2024-05-05T00:00:00.000000000\",\"2024-05-06T00:00:00.000000000\",\"2024-05-07T00:00:00.000000000\",\"2024-05-08T00:00:00.000000000\",\"2024-05-09T00:00:00.000000000\",\"2024-05-10T00:00:00.000000000\",\"2024-05-11T00:00:00.000000000\",\"2024-05-12T00:00:00.000000000\",\"2024-05-13T00:00:00.000000000\",\"2024-05-14T00:00:00.000000000\",\"2024-05-15T00:00:00.000000000\",\"2024-05-16T00:00:00.000000000\",\"2024-05-17T00:00:00.000000000\",\"2024-05-18T00:00:00.000000000\",\"2024-05-19T00:00:00.000000000\",\"2024-05-20T00:00:00.000000000\",\"2024-05-21T00:00:00.000000000\",\"2024-05-22T00:00:00.000000000\",\"2024-05-23T00:00:00.000000000\",\"2024-05-24T00:00:00.000000000\",\"2024-05-25T00:00:00.000000000\",\"2024-05-26T00:00:00.000000000\",\"2024-05-27T00:00:00.000000000\",\"2024-05-28T00:00:00.000000000\",\"2024-05-29T00:00:00.000000000\",\"2024-05-30T00:00:00.000000000\",\"2024-05-31T00:00:00.000000000\",\"2024-06-01T00:00:00.000000000\",\"2024-06-02T00:00:00.000000000\",\"2024-06-03T00:00:00.000000000\",\"2024-06-04T00:00:00.000000000\",\"2024-06-05T00:00:00.000000000\",\"2024-06-06T00:00:00.000000000\",\"2024-06-07T00:00:00.000000000\",\"2024-06-08T00:00:00.000000000\",\"2024-06-09T00:00:00.000000000\",\"2024-06-10T00:00:00.000000000\",\"2024-06-11T00:00:00.000000000\",\"2024-06-12T00:00:00.000000000\",\"2024-06-13T00:00:00.000000000\",\"2024-06-14T00:00:00.000000000\",\"2024-06-15T00:00:00.000000000\",\"2024-06-16T00:00:00.000000000\",\"2024-06-17T00:00:00.000000000\",\"2024-06-18T00:00:00.000000000\",\"2024-06-19T00:00:00.000000000\",\"2024-06-20T00:00:00.000000000\",\"2024-06-21T00:00:00.000000000\",\"2024-06-22T00:00:00.000000000\",\"2024-06-23T00:00:00.000000000\",\"2024-06-24T00:00:00.000000000\",\"2024-06-25T00:00:00.000000000\",\"2024-06-26T00:00:00.000000000\",\"2024-06-27T00:00:00.000000000\",\"2024-06-28T00:00:00.000000000\",\"2024-06-29T00:00:00.000000000\",\"2024-06-30T00:00:00.000000000\",\"2024-07-01T00:00:00.000000000\",\"2024-07-02T00:00:00.000000000\",\"2024-07-03T00:00:00.000000000\",\"2024-07-04T00:00:00.000000000\",\"2024-07-05T00:00:00.000000000\",\"2024-07-06T00:00:00.000000000\",\"2024-07-07T00:00:00.000000000\",\"2024-07-08T00:00:00.000000000\",\"2024-07-09T00:00:00.000000000\",\"2024-07-10T00:00:00.000000000\",\"2024-07-11T00:00:00.000000000\",\"2024-07-12T00:00:00.000000000\",\"2024-07-13T00:00:00.000000000\",\"2024-07-14T00:00:00.000000000\",\"2024-07-15T00:00:00.000000000\",\"2024-07-16T00:00:00.000000000\",\"2024-07-17T00:00:00.000000000\",\"2024-07-18T00:00:00.000000000\",\"2024-07-19T00:00:00.000000000\",\"2024-07-20T00:00:00.000000000\",\"2024-07-21T00:00:00.000000000\",\"2024-07-22T00:00:00.000000000\",\"2024-07-23T00:00:00.000000000\",\"2024-07-24T00:00:00.000000000\",\"2024-07-25T00:00:00.000000000\",\"2024-07-26T00:00:00.000000000\",\"2024-07-27T00:00:00.000000000\",\"2024-07-28T00:00:00.000000000\",\"2024-07-29T00:00:00.000000000\",\"2024-07-30T00:00:00.000000000\",\"2024-07-31T00:00:00.000000000\",\"2024-08-01T00:00:00.000000000\",\"2024-08-02T00:00:00.000000000\",\"2024-08-03T00:00:00.000000000\",\"2024-08-04T00:00:00.000000000\",\"2024-08-05T00:00:00.000000000\",\"2024-08-06T00:00:00.000000000\",\"2024-08-07T00:00:00.000000000\",\"2024-08-08T00:00:00.000000000\",\"2024-08-09T00:00:00.000000000\",\"2024-08-10T00:00:00.000000000\",\"2024-08-11T00:00:00.000000000\",\"2024-08-12T00:00:00.000000000\",\"2024-08-13T00:00:00.000000000\",\"2024-08-14T00:00:00.000000000\",\"2024-08-15T00:00:00.000000000\",\"2024-08-16T00:00:00.000000000\",\"2024-08-17T00:00:00.000000000\",\"2024-08-18T00:00:00.000000000\",\"2024-08-19T00:00:00.000000000\",\"2024-08-20T00:00:00.000000000\",\"2024-08-21T00:00:00.000000000\",\"2024-08-22T00:00:00.000000000\",\"2024-08-23T00:00:00.000000000\",\"2024-08-24T00:00:00.000000000\",\"2024-08-25T00:00:00.000000000\",\"2024-08-26T00:00:00.000000000\",\"2024-08-27T00:00:00.000000000\",\"2024-08-28T00:00:00.000000000\",\"2024-08-29T00:00:00.000000000\",\"2024-08-30T00:00:00.000000000\",\"2024-08-31T00:00:00.000000000\",\"2024-09-01T00:00:00.000000000\",\"2024-09-02T00:00:00.000000000\",\"2024-09-03T00:00:00.000000000\",\"2024-09-04T00:00:00.000000000\",\"2024-09-05T00:00:00.000000000\",\"2024-09-06T00:00:00.000000000\",\"2024-09-07T00:00:00.000000000\",\"2024-09-08T00:00:00.000000000\",\"2024-09-09T00:00:00.000000000\",\"2024-09-10T00:00:00.000000000\",\"2024-09-11T00:00:00.000000000\",\"2024-09-12T00:00:00.000000000\",\"2024-09-13T00:00:00.000000000\",\"2024-09-14T00:00:00.000000000\",\"2024-09-15T00:00:00.000000000\",\"2024-09-16T00:00:00.000000000\",\"2024-09-17T00:00:00.000000000\",\"2024-09-18T00:00:00.000000000\",\"2024-09-19T00:00:00.000000000\",\"2024-09-20T00:00:00.000000000\",\"2024-09-21T00:00:00.000000000\",\"2024-09-22T00:00:00.000000000\",\"2024-09-23T00:00:00.000000000\",\"2024-09-24T00:00:00.000000000\",\"2024-09-25T00:00:00.000000000\",\"2024-09-26T00:00:00.000000000\",\"2024-09-27T00:00:00.000000000\",\"2024-09-28T00:00:00.000000000\",\"2024-09-29T00:00:00.000000000\",\"2024-09-30T00:00:00.000000000\"],\"shape\":[274],\"dtype\":\"object\",\"order\":\"little\"}]],[\"y\",[{\"type\":\"ndarray\",\"array\":{\"type\":\"bytes\",\"data\":\"8/////3/////////BQAAAPr/////////BAAAAPz////z/////////wEAAAAMAAAAAQAAAPn////+////AAAAAP3///8CAAAA9v////j////9/////v////3///8DAAAAAwAAAAIAAAACAAAAEgAAAPP////3////BgAAAAkAAAD6////CwAAAAIAAAALAAAAAQAAAAUAAADt////AwAAAAMAAAAJAAAA+P////////8QAAAABwAAAPv////2////9P////z///8CAAAA/v///wcAAAD9////9v////7////8/////v////f////+////9v///xYAAAAGAAAABwAAAPX///8NAAAA9f///wcAAADx/////v////r/////////+v////3///8DAAAA+f////z////1////EAAAAAQAAAD+/////v////b///8NAAAABQAAAAAAAAD8////+v///wIAAAABAAAAAQAAAAUAAAD7////BQAAAPH///8KAAAAAQAAAPn//////////f///wIAAAAAAAAA/v////3///8DAAAAAgAAAAAAAAD3/////P////7////3/////f///wMAAAAFAAAABAAAAAAAAAACAAAA/P///woAAAADAAAA9////wMAAAD4////AAAAAAgAAAAEAAAA+/////P///8CAAAAAQAAAAAAAAAMAAAABgAAAAkAAAD1////CgAAAPv///8LAAAACAAAAAYAAAD9////AwAAAP7///8OAAAAAgAAAAYAAAACAAAADQAAAAMAAAD4////6f///xcAAAD8/////v////j////7////CgAAAAAAAAALAAAABQAAAA0AAAADAAAADQAAAPn////v/////f///wEAAAD4////AgAAAAUAAAANAAAAAgAAAAsAAAAFAAAA/v///wAAAAD9////8////wgAAAAQAAAAAgAAAAUAAAD/////+v///wIAAAD1////AQAAAAQAAAABAAAA+f////j///8LAAAA+f///wQAAAADAAAA9f///wIAAAADAAAAFQAAAP7////9/////v////////8BAAAABAAAAPr///8fAAAA+P///wQAAAACAAAADAAAAAQAAAAMAAAAAAAAAPb////p////AQAAAPr////3/////f///wUAAAATAAAAAAAAAAwAAAAGAAAAAQAAAPf///8CAAAABAAAAPj////4/////P///wYAAAAFAAAABgAAAO////8JAAAA+f///wIAAAD6/////v////T///8MAAAA+f////P////1////8v///wsAAAACAAAA+/////n///8FAAAAAQAAAPP////7/////P////////8FAAAAAgAAAAsAAAD/////BgAAAAwAAAD5////AgAAAAsAAAAZAAAA9f///wYAAAD7/////f///wIAAAD+////AgAAAA==\"},\"shape\":[274],\"dtype\":\"int32\",\"order\":\"little\"}]]]}}}],\"relayout\":null,\"restyle\":null,\"viewport_update_throttle\":200}}]}}]}},{\"type\":\"object\",\"name\":\"Row\",\"id\":\"f6449bd5-4a23-4d0a-85b7-5ab358d128ef\",\"attributes\":{\"name\":\"Row05323\",\"stylesheets\":[\"\\n:host(.pn-loading):before, .pn-loading:before {\\n  background-color: #c3c3c3;\\n  mask-size: auto calc(min(50%, 400px));\\n  -webkit-mask-size: auto calc(min(50%, 400px));\\n}\",{\"type\":\"object\",\"name\":\"ImportedStyleSheet\",\"id\":\"337d37cc-3999-4c61-ad88-6b898ce39d4f\",\"attributes\":{\"url\":\"https://cdn.holoviz.org/panel/1.6.1/dist/css/loading.css\"}},{\"type\":\"object\",\"name\":\"ImportedStyleSheet\",\"id\":\"e4060429-084c-4d73-86a5-8308f3386369\",\"attributes\":{\"url\":\"https://cdn.holoviz.org/panel/1.6.1/dist/css/listpanel.css\"}},{\"id\":\"84e9fffa-5536-45b5-9f12-724ffe85979f\"}],\"min_width\":200,\"margin\":0,\"sizing_mode\":\"stretch_width\",\"align\":\"start\",\"children\":[{\"type\":\"object\",\"name\":\"Spacer\",\"id\":\"8139310e-5677-4c92-81a7-87929f048726\",\"attributes\":{\"name\":\"Spacer05322\",\"stylesheets\":[\"\\n:host(.pn-loading):before, .pn-loading:before {\\n  background-color: #c3c3c3;\\n  mask-size: auto calc(min(50%, 400px));\\n  -webkit-mask-size: auto calc(min(50%, 400px));\\n}\",{\"type\":\"object\",\"name\":\"ImportedStyleSheet\",\"id\":\"c877e30a-fbb5-4ea3-a861-6345976c7fbe\",\"attributes\":{\"url\":\"https://cdn.holoviz.org/panel/1.6.1/dist/css/loading.css\"}},{\"id\":\"84e9fffa-5536-45b5-9f12-724ffe85979f\"}],\"width\":200,\"min_width\":200,\"margin\":0,\"align\":\"start\"}},{\"type\":\"object\",\"name\":\"panel.models.widgets.RadioButtonGroup\",\"id\":\"5b6c76d8-99ba-42c7-aa19-d4f5fe480c2c\",\"attributes\":{\"css_classes\":[\"outline\"],\"stylesheets\":[\"\\n:host(.pn-loading):before, .pn-loading:before {\\n  background-color: #c3c3c3;\\n  mask-size: auto calc(min(50%, 400px));\\n  -webkit-mask-size: auto calc(min(50%, 400px));\\n}\",{\"type\":\"object\",\"name\":\"ImportedStyleSheet\",\"id\":\"75f5a009-658c-4290-a526-d0ea776abb82\",\"attributes\":{\"url\":\"https://cdn.holoviz.org/panel/1.6.1/dist/css/loading.css\"}},{\"type\":\"object\",\"name\":\"ImportedStyleSheet\",\"id\":\"28ec60df-a7b0-4bf9-941a-06e1206b7562\",\"attributes\":{\"url\":\"https://cdn.holoviz.org/panel/1.6.1/dist/css/button.css\"}},{\"id\":\"84e9fffa-5536-45b5-9f12-724ffe85979f\"}],\"margin\":[5,10],\"align\":\"start\",\"labels\":[\"Date\",\"Month\",\"Time\",\"Responsible Staff\",\"Category\",\"Item ID\",\"Weekday\"],\"active\":0,\"tooltip\":{\"type\":\"object\",\"name\":\"Tooltip\",\"id\":\"32c1eac9-e24b-4eb6-9dfb-fe876f36ae5c\",\"attributes\":{\"position\":\"right\",\"content\":\"select data type to calculate stock for!\"}}}}]}}]}}]}},{\"type\":\"object\",\"name\":\"panel.models.comm_manager.CommManager\",\"id\":\"620f6911-3dea-463d-840a-94dc20b8130a\",\"attributes\":{\"name\":\"comm_manager\",\"plot_id\":\"b34d95ec-4842-4ec3-b806-5b663f8750fb\",\"comm_id\":\"a05555c204054d09b616c1e92fbc7b53\",\"client_comm_id\":\"eeb7d66255bf4250893db3fda468c7ca\"}}],\"defs\":[{\"type\":\"model\",\"name\":\"ReactiveHTML1\"},{\"type\":\"model\",\"name\":\"FlexBox1\",\"properties\":[{\"name\":\"align_content\",\"kind\":\"Any\",\"default\":\"flex-start\"},{\"name\":\"align_items\",\"kind\":\"Any\",\"default\":\"flex-start\"},{\"name\":\"flex_direction\",\"kind\":\"Any\",\"default\":\"row\"},{\"name\":\"flex_wrap\",\"kind\":\"Any\",\"default\":\"wrap\"},{\"name\":\"gap\",\"kind\":\"Any\",\"default\":\"\"},{\"name\":\"justify_content\",\"kind\":\"Any\",\"default\":\"flex-start\"}]},{\"type\":\"model\",\"name\":\"FloatPanel1\",\"properties\":[{\"name\":\"config\",\"kind\":\"Any\",\"default\":{\"type\":\"map\"}},{\"name\":\"contained\",\"kind\":\"Any\",\"default\":true},{\"name\":\"position\",\"kind\":\"Any\",\"default\":\"right-top\"},{\"name\":\"offsetx\",\"kind\":\"Any\",\"default\":null},{\"name\":\"offsety\",\"kind\":\"Any\",\"default\":null},{\"name\":\"theme\",\"kind\":\"Any\",\"default\":\"primary\"},{\"name\":\"status\",\"kind\":\"Any\",\"default\":\"normalized\"}]},{\"type\":\"model\",\"name\":\"GridStack1\",\"properties\":[{\"name\":\"mode\",\"kind\":\"Any\",\"default\":\"warn\"},{\"name\":\"ncols\",\"kind\":\"Any\",\"default\":null},{\"name\":\"nrows\",\"kind\":\"Any\",\"default\":null},{\"name\":\"allow_resize\",\"kind\":\"Any\",\"default\":true},{\"name\":\"allow_drag\",\"kind\":\"Any\",\"default\":true},{\"name\":\"state\",\"kind\":\"Any\",\"default\":[]}]},{\"type\":\"model\",\"name\":\"drag1\",\"properties\":[{\"name\":\"slider_width\",\"kind\":\"Any\",\"default\":5},{\"name\":\"slider_color\",\"kind\":\"Any\",\"default\":\"black\"},{\"name\":\"value\",\"kind\":\"Any\",\"default\":50}]},{\"type\":\"model\",\"name\":\"click1\",\"properties\":[{\"name\":\"terminal_output\",\"kind\":\"Any\",\"default\":\"\"},{\"name\":\"debug_name\",\"kind\":\"Any\",\"default\":\"\"},{\"name\":\"clears\",\"kind\":\"Any\",\"default\":0}]},{\"type\":\"model\",\"name\":\"FastWrapper1\",\"properties\":[{\"name\":\"object\",\"kind\":\"Any\",\"default\":null},{\"name\":\"style\",\"kind\":\"Any\",\"default\":null}]},{\"type\":\"model\",\"name\":\"NotificationAreaBase1\",\"properties\":[{\"name\":\"js_events\",\"kind\":\"Any\",\"default\":{\"type\":\"map\"}},{\"name\":\"position\",\"kind\":\"Any\",\"default\":\"bottom-right\"},{\"name\":\"_clear\",\"kind\":\"Any\",\"default\":0}]},{\"type\":\"model\",\"name\":\"NotificationArea1\",\"properties\":[{\"name\":\"js_events\",\"kind\":\"Any\",\"default\":{\"type\":\"map\"}},{\"name\":\"notifications\",\"kind\":\"Any\",\"default\":[]},{\"name\":\"position\",\"kind\":\"Any\",\"default\":\"bottom-right\"},{\"name\":\"_clear\",\"kind\":\"Any\",\"default\":0},{\"name\":\"types\",\"kind\":\"Any\",\"default\":[{\"type\":\"map\",\"entries\":[[\"type\",\"warning\"],[\"background\",\"#ffc107\"],[\"icon\",{\"type\":\"map\",\"entries\":[[\"className\",\"fas fa-exclamation-triangle\"],[\"tagName\",\"i\"],[\"color\",\"white\"]]}]]},{\"type\":\"map\",\"entries\":[[\"type\",\"info\"],[\"background\",\"#007bff\"],[\"icon\",{\"type\":\"map\",\"entries\":[[\"className\",\"fas fa-info-circle\"],[\"tagName\",\"i\"],[\"color\",\"white\"]]}]]}]}]},{\"type\":\"model\",\"name\":\"Notification\",\"properties\":[{\"name\":\"background\",\"kind\":\"Any\",\"default\":null},{\"name\":\"duration\",\"kind\":\"Any\",\"default\":3000},{\"name\":\"icon\",\"kind\":\"Any\",\"default\":null},{\"name\":\"message\",\"kind\":\"Any\",\"default\":\"\"},{\"name\":\"notification_type\",\"kind\":\"Any\",\"default\":null},{\"name\":\"_rendered\",\"kind\":\"Any\",\"default\":false},{\"name\":\"_destroyed\",\"kind\":\"Any\",\"default\":false}]},{\"type\":\"model\",\"name\":\"TemplateActions1\",\"properties\":[{\"name\":\"open_modal\",\"kind\":\"Any\",\"default\":0},{\"name\":\"close_modal\",\"kind\":\"Any\",\"default\":0}]},{\"type\":\"model\",\"name\":\"BootstrapTemplateActions1\",\"properties\":[{\"name\":\"open_modal\",\"kind\":\"Any\",\"default\":0},{\"name\":\"close_modal\",\"kind\":\"Any\",\"default\":0}]},{\"type\":\"model\",\"name\":\"TemplateEditor1\",\"properties\":[{\"name\":\"layout\",\"kind\":\"Any\",\"default\":[]}]},{\"type\":\"model\",\"name\":\"MaterialTemplateActions1\",\"properties\":[{\"name\":\"open_modal\",\"kind\":\"Any\",\"default\":0},{\"name\":\"close_modal\",\"kind\":\"Any\",\"default\":0}]},{\"type\":\"model\",\"name\":\"ReactiveESM1\",\"properties\":[{\"name\":\"esm_constants\",\"kind\":\"Any\",\"default\":{\"type\":\"map\"}}]},{\"type\":\"model\",\"name\":\"JSComponent1\",\"properties\":[{\"name\":\"esm_constants\",\"kind\":\"Any\",\"default\":{\"type\":\"map\"}}]},{\"type\":\"model\",\"name\":\"ReactComponent1\",\"properties\":[{\"name\":\"esm_constants\",\"kind\":\"Any\",\"default\":{\"type\":\"map\"}}]},{\"type\":\"model\",\"name\":\"AnyWidgetComponent1\",\"properties\":[{\"name\":\"esm_constants\",\"kind\":\"Any\",\"default\":{\"type\":\"map\"}}]},{\"type\":\"model\",\"name\":\"request_value1\",\"properties\":[{\"name\":\"fill\",\"kind\":\"Any\",\"default\":\"none\"},{\"name\":\"_synced\",\"kind\":\"Any\",\"default\":null},{\"name\":\"_request_sync\",\"kind\":\"Any\",\"default\":0}]}],\"callbacks\":{\"type\":\"map\",\"entries\":[[\"document_ready\",[{\"type\":\"object\",\"name\":\"CustomJS\",\"id\":\"1fcb5b56-4cf4-4533-9831-8e8154a53404\",\"attributes\":{\"args\":{\"type\":\"map\",\"entries\":[[\"roots\",[{\"id\":\"21942700-819e-4855-b1eb-5971898c95e1\"}]]]},\"code\":\"\\n          window.muuriGrid.getItems().map(item =&gt; scroll(item.getElement()));\\n          for (const root of roots) {\\n            root.sizing_mode = 'stretch_both';\\n            if (root.children) {\\n              for (const child of root) {\\n                child.sizing_mode = 'stretch_both'\\n              }\\n            }\\n          }\\n          window.muuriGrid.refreshItems();\\n          window.muuriGrid.layout();\\n        \"}}]]]}}}\n",
       "    </script>\n",
       "    <script type=\"text/javascript\">\n",
       "      (function() {\n",
       "        const fn = function() {\n",
       "          Bokeh.safely(function() {\n",
       "            (function(root) {\n",
       "              function embed_document(root) {\n",
       "              const docs_json = document.getElementById('531f9ea9-3712-4894-96bd-a7c57bb8e241').textContent;\n",
       "              const render_items = [{\"docid\":\"19989e81-5ca1-4826-95b6-10d5f3c624b2\",\"roots\":{\"b34d95ec-4842-4ec3-b806-5b663f8750fb\":\"d56eefce-1c97-4d1e-90d3-5eeb9f505e97\",\"64eae0ee-9b7b-40e1-a1e3-c2b8ef2b28eb\":\"ef945974-c7e1-49af-8b58-2e7adc0807ab\",\"06f044d8-829d-499b-bdbe-ab11cf51ab78\":\"a1f45b44-a504-46b2-a354-bc4aabf9e2e4\",\"ee83dd32-06b2-49bd-bf88-1726248bc4eb\":\"d1937597-b8f1-496a-8c49-70475057fd52\",\"f5070f16-4a71-481a-8c72-02ab158b94d8\":\"dd109af6-8737-4f2a-a243-921d848ce73a\",\"0c5b90ed-a6dd-4002-bdda-97f5cc1022ce\":\"a448b1bf-ef40-4f92-b3bf-7e7add83ccfa\",\"f80fa11c-4943-4ec6-a018-d99ec3924c82\":\"a14f8a81-d770-4549-8282-f4fe6508ab68\",\"6cfcec7a-4b0b-48ac-92a5-998e64bd75d2\":\"c1dc193b-d7ae-4ab0-a2aa-077a4182b620\",\"e1722338-70cd-43ac-8934-7aa03f0a2bbd\":\"ec74c423-d167-4440-aaa0-c33e9394edc2\",\"db28f163-7042-4f77-94c8-9fd8fb5dabfa\":\"bd9400bc-e69c-4f13-95eb-d3884d399556\",\"dae8520c-f6d9-43c3-a7c6-801127f981ad\":\"d9a93578-1ea3-4a28-9aa7-0e99e6612257\",\"6d6782c0-37a4-438d-bd59-7cd3a91423d2\":\"facb7a56-1787-46e0-8000-0a673269da90\",\"a5c11353-b48e-4331-92fb-5522387a9b31\":\"e2e66f83-5328-41b4-acf7-c077262e2546\",\"21942700-819e-4855-b1eb-5971898c95e1\":\"f7f3c51e-5282-4d3d-bfda-f5d281026139\"},\"root_ids\":[\"b34d95ec-4842-4ec3-b806-5b663f8750fb\",\"64eae0ee-9b7b-40e1-a1e3-c2b8ef2b28eb\",\"06f044d8-829d-499b-bdbe-ab11cf51ab78\",\"ee83dd32-06b2-49bd-bf88-1726248bc4eb\",\"f5070f16-4a71-481a-8c72-02ab158b94d8\",\"0c5b90ed-a6dd-4002-bdda-97f5cc1022ce\",\"f80fa11c-4943-4ec6-a018-d99ec3924c82\",\"6cfcec7a-4b0b-48ac-92a5-998e64bd75d2\",\"e1722338-70cd-43ac-8934-7aa03f0a2bbd\",\"db28f163-7042-4f77-94c8-9fd8fb5dabfa\",\"dae8520c-f6d9-43c3-a7c6-801127f981ad\",\"6d6782c0-37a4-438d-bd59-7cd3a91423d2\",\"a5c11353-b48e-4331-92fb-5522387a9b31\",\"21942700-819e-4855-b1eb-5971898c95e1\"]}];\n",
       "              root.Bokeh.embed.embed_items(docs_json, render_items);\n",
       "              }\n",
       "              if (root.Bokeh !== undefined) {\n",
       "                embed_document(root);\n",
       "              } else {\n",
       "                let attempts = 0;\n",
       "                const timer = setInterval(function(root) {\n",
       "                  if (root.Bokeh !== undefined) {\n",
       "                    clearInterval(timer);\n",
       "                    embed_document(root);\n",
       "                  } else {\n",
       "                    attempts++;\n",
       "                    if (attempts > 100) {\n",
       "                      clearInterval(timer);\n",
       "                      console.log(\"Bokeh: ERROR: Unable to run BokehJS code because BokehJS library is missing\");\n",
       "                    }\n",
       "                  }\n",
       "                }, 10, root)\n",
       "              }\n",
       "            })(window);\n",
       "          });\n",
       "        };\n",
       "        if (document.readyState != \"loading\") fn();\n",
       "      else document.addEventListener(\"DOMContentLoaded\", fn, {once: true});\n",
       "      })();\n",
       "    </script>\n",
       "  </body>\n",
       "</html>"
      ],
      "text/plain": [
       "EditableTemplate\n",
       "    [editor] TemplateEditor()\n",
       "    [js_area] HTML(None, height=0, margin=0, sizing_mode='fixed', width=0)\n",
       "    [actions] TemplateActions()\n",
       "    [browser_info] BrowserInfo()\n",
       "    [busy_indicator] LoadingSpinner(height=20, width=20)\n",
       "    [nav-1787242643232] Markdown(str)\n",
       "    [nav-1787242642752] Image(str, align='center', width=290)\n",
       "    [nav-1787095402928] Number(name='Total records: 2000', styles={'box-shadow': '3px 3px 6p...})\n",
       "    [nav-1787221463104] Number(name='Start date: 0..., styles={'box-shadow': '3px 3px 6p...})\n",
       "    [nav-1787221462384] Number(name='More managment o..., styles={'background': '#6AB187', ...})\n",
       "    [nav-1787221467664] Number(name='light items m..., styles={'background': '#6AB187', ...})\n",
       "    [nav-1787221465024] Number(name='need better r..., styles={'background': '#6AB187', ...})\n",
       "    [main-1787243512336] Column\n",
       "        [0] Row(sizing_mode='stretch_width')\n",
       "            [0] Plotly(Figure)\n",
       "            [1] Plotly(Figure)\n",
       "        [1] Row(sizing_mode='stretch_width')\n",
       "            [0] FlexBox(objects=[Number(colors=[(1, ...], sizing_mode='stretch_width')\n",
       "        [2] Column\n",
       "            [0] Row(sizing_mode='stretch_width')\n",
       "                [0] ParamFunction(function, _pane=Plotly, defer_load=False)\n",
       "            [1] Row(sizing_mode='stretch_width')\n",
       "                [0] Spacer(width=200)\n",
       "                [1] RadioButtonGroup(button_style='outline', description='select data t..., name='Select Data on X axis', options=['Date', 'Month', ...], value='Date')"
      ]
     },
     "execution_count": 389,
     "metadata": {
      "application/vnd.holoviews_exec.v0+json": {
       "id": "b34d95ec-4842-4ec3-b806-5b663f8750fb"
      }
     },
     "output_type": "execute_result"
    }
   ],
   "source": [
    "import panel as pn\n",
    "\n",
    "# Create the template\n",
    "template = pn.template.EditableTemplate(\n",
    "    title=\"PeakFit Inventory Analysis Interactive Dashboard\",\n",
    "    theme=\"default\",\n",
    "    header_background=\"#1C4E80\",  # Header background color\n",
    "    \n",
    "    sidebar=[\n",
    "        pn.pane.Markdown(\"Inventory Infos & Insights\"),  # Sidebar title\n",
    "        pn.pane.Image(\n",
    "            \"D:\\K_REPO\\Depi_freelanceYard\\images.png\",\n",
    "            width=290,  # Adjust width as needed\n",
    "            align=\"center\"\n",
    "        ),\n",
    "        sidebar_card1,\n",
    "        sidebar_card2,\n",
    "        insight1,\n",
    "        insight2,\n",
    "        insight3\n",
    "    ],\n",
    "    sidebar_width=300,  # Adjust sidebar width\n",
    ")\n",
    "\n",
    "\n",
    "\n",
    "# Add main content\n",
    "template.main.append(\n",
    "    pn.Column(\n",
    "        # Row 1: Charts\n",
    "        pn.Row(component3, component4, sizing_mode=\"stretch_width\"),  \n",
    "\n",
    "        # Row 2: KPI Cards\n",
    "        pn.Row(cards, sizing_mode=\"stretch_width\"),  \n",
    "\n",
    "        # Row 3: Stacked Components\n",
    "        pn.Column(\n",
    "            pn.Row(component2, sizing_mode=\"stretch_width\"),  \n",
    "            pn.Row(pn.Spacer(width=200), component1, sizing_mode=\"stretch_width\"),  \n",
    "        ),\n",
    "    )\n",
    ")\n",
    "\n",
    "template.servable()\n"
   ]
  }
 ],
 "metadata": {
  "kernelspec": {
   "display_name": "Python 3",
   "language": "python",
   "name": "python3"
  },
  "language_info": {
   "codemirror_mode": {
    "name": "ipython",
    "version": 3
   },
   "file_extension": ".py",
   "mimetype": "text/x-python",
   "name": "python",
   "nbconvert_exporter": "python",
   "pygments_lexer": "ipython3",
   "version": "3.13.2"
  }
 },
 "nbformat": 4,
 "nbformat_minor": 2
}
